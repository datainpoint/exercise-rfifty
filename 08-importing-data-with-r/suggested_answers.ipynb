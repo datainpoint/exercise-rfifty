{
 "cells": [
  {
   "cell_type": "markdown",
   "metadata": {
    "deletable": false,
    "editable": false
   },
   "source": [
    "# R 語言的五十道練習\n",
    "\n",
    "> 載入資料\n",
    "\n",
    "[數據交點](https://www.datainpoint.com/) | 郭耀仁 <yaojenkuo@datainpoint.com>"
   ]
  },
  {
   "cell_type": "markdown",
   "metadata": {
    "deletable": false,
    "editable": false
   },
   "source": [
    "## 練習題指引\n",
    "\n",
    "- 第一個程式碼儲存格會將可能用得到的套件以及單元測試 `testthat` 載入。\n",
    "- 如果練習題需要載入檔案，檔案與練習題存放在同個資料夾中，意即我們可以指定工作目錄來載入。\n",
    "- 練習題已經定義好函數的名稱以及參數名稱，我們只需要寫作主體。\n",
    "- 函數名稱下面幾行的註解部分是在描述測試如何進行。\n",
    "- 觀察函數名稱下面幾行的註解部分能夠暸解輸入以及預期輸出之間的關係，幫助我們更暸解題目。\n",
    "- 在 `### BEGIN SOLUTION` 與 `### END SOLUTION` 這兩個單行註解之間撰寫函數的主體。\n",
    "- 可以先在 RStudio 寫出跟預期結果相同的程式後再複製貼上到練習題。\n",
    "- 執行測試的方式為點選上方選單的 Kernel -> Restart & Run All -> Restart and Run All Cells。\n",
    "- 可以每寫一題就執行測試，也可以全部寫完再執行測試。\n",
    "- 練習題閒置超過 10 分鐘會自動斷線，這時只要重新點選練習題連結即可重新啟動。"
   ]
  },
  {
   "cell_type": "code",
   "execution_count": 1,
   "metadata": {
    "deletable": false
   },
   "outputs": [],
   "source": [
    "library(\"testthat\")\n",
    "library(\"readxl\")\n",
    "library(\"jsonlite\")\n",
    "library(\"DBI\")"
   ]
  },
  {
   "cell_type": "markdown",
   "metadata": {},
   "source": [
    "## 自行定義函數 `read_players_csv` 載入工作目錄的 `players.csv`。\n",
    "\n",
    "- 預期輸入：一個文字向量。\n",
    "- 預期輸出：一個外型為 `(484, 18)` 的資料框。"
   ]
  },
  {
   "cell_type": "code",
   "execution_count": 2,
   "metadata": {},
   "outputs": [],
   "source": [
    "read_players_csv <- function(file_path) {\n",
    "    # players_csv <- read_players_csv(\"players.csv\")\n",
    "    # dim(players_csv)\n",
    "    # [1] 484  18\n",
    "    ### BEGIN SOLUTION\n",
    "    out <- read.csv(file_path)\n",
    "    return(out)\n",
    "    ### END SOLUTION\n",
    "}"
   ]
  },
  {
   "cell_type": "markdown",
   "metadata": {},
   "source": [
    "## 自行定義函數 `read_teams_xlsx` 載入工作目錄的 `teams.xlsx`。\n",
    "\n",
    "- 預期輸入：一個文字向量。\n",
    "- 預期輸出：一個外型為 `(30, 18)` 的資料框。"
   ]
  },
  {
   "cell_type": "code",
   "execution_count": 3,
   "metadata": {},
   "outputs": [],
   "source": [
    "read_teams_xlsx <- function(file_path) {\n",
    "    # teams_xlsx <- read_teams_xlsx(\"teams.xlsx\")\n",
    "    # dim(teams_xlsx)\n",
    "    # [1] 30  12\n",
    "    ### BEGIN SOLUTION\n",
    "    out <- read_excel(file_path)\n",
    "    return(out)\n",
    "    ### END SOLUTION\n",
    "}"
   ]
  },
  {
   "cell_type": "markdown",
   "metadata": {},
   "source": [
    "## 自行定義函數 `read_career_summaries_json` 載入工作目錄的 `career_summaries.json`。\n",
    "\n",
    "- 預期輸入：一個文字向量。\n",
    "- 預期輸出：一個外型為 `(484, 31)` 的資料框。"
   ]
  },
  {
   "cell_type": "code",
   "execution_count": 4,
   "metadata": {},
   "outputs": [],
   "source": [
    "read_career_summaries_json <- function(file_path) {\n",
    "    # career_summaries_json <- read_career_summaries_json(\"career_summaries.json\")\n",
    "    # dim(career_summaries_json)\n",
    "    # [1] 484  31\n",
    "    ### BEGIN SOLUTION\n",
    "    out <- fromJSON(file_path)\n",
    "    return(out)\n",
    "    ### END SOLUTION\n",
    "}"
   ]
  },
  {
   "cell_type": "markdown",
   "metadata": {},
   "source": [
    "## 自行定義函數 `read_all_tables_in_nba_db` 載入工作目錄的 `nba.db` 中的兩個資料表：`teams` 與 `career_summaries`。\n",
    "\n",
    "- 預期輸入：一個文字向量。\n",
    "- 預期輸出：一個長度為 2 的清單。"
   ]
  },
  {
   "cell_type": "code",
   "execution_count": 5,
   "metadata": {},
   "outputs": [],
   "source": [
    "read_tables_in_nba_db <- function(file_path) {\n",
    "    # tables_in_nba_db <- read_tables_in_nba_db(\"nba.db\")\n",
    "    # class(tables_in_nba_db)\n",
    "    # [1] \"list\"\n",
    "    # dim(tables_in_nba_db$teams)\n",
    "    # [1] 30  12\n",
    "    # dim(tables_in_nba_db$career_summaries)\n",
    "    # [1] 484  31\n",
    "    ### BEGIN SOLUTION\n",
    "    con <- dbConnect(RSQLite::SQLite(), \"nba.db\")\n",
    "    out <- list()\n",
    "    out[[\"teams\"]] <- dbReadTable(con, \"teams\")\n",
    "    out[[\"career_summaries\"]] <- dbReadTable(con, \"career_summaries\")\n",
    "    return(out)\n",
    "    ### END SOLUTION\n",
    "}"
   ]
  },
  {
   "cell_type": "markdown",
   "metadata": {
    "deletable": false,
    "editable": false
   },
   "source": [
    "## 執行測試\n",
    "\n",
    "Kernel -> Restart & Run All. -> Restart and Run All Cells. "
   ]
  },
  {
   "cell_type": "code",
   "execution_count": 6,
   "metadata": {
    "deletable": false,
    "editable": false
   },
   "outputs": [
    {
     "name": "stdout",
     "output_type": "stream",
     "text": [
      "\u001b[32mTest passed\u001b[39m 😸\n",
      "\u001b[32mTest passed\u001b[39m 🥳\n",
      "\u001b[32mTest passed\u001b[39m 🌈\n",
      "\u001b[32mTest passed\u001b[39m 🌈\n"
     ]
    }
   ],
   "source": [
    "test_read_players_csv <- tryCatch({\n",
    "    test_that(\"test_read_players_csv\", {\n",
    "        expect_equal(dim(read_players_csv(\"players.csv\")), c(484, 18))   \n",
    "    })\n",
    "    }, error = function(e) {\n",
    "        FALSE\n",
    "})\n",
    "test_read_teams_xlsx <- tryCatch({\n",
    "    test_that(\"test_read_teams_xlsx\", {\n",
    "        expect_equal(dim(read_teams_xlsx(\"teams.xlsx\")), c(30, 12))   \n",
    "    })\n",
    "    }, error = function(e) {\n",
    "        FALSE\n",
    "})\n",
    "test_read_career_summaries_json <- tryCatch({\n",
    "    test_that(\"test_read_career_summaries_json\", {\n",
    "        expect_equal(dim(read_career_summaries_json(\"career_summaries.json\")), c(484, 31))   \n",
    "    })\n",
    "    }, error = function(e) {\n",
    "        FALSE\n",
    "})\n",
    "test_read_tables_in_nba_db <- tryCatch({\n",
    "    test_that(\"test_read_tables_in_nba_db\", {\n",
    "        expect_type(read_tables_in_nba_db(\"nba.db\"), \"list\")\n",
    "        expect_equal(dim(read_tables_in_nba_db(\"nba.db\")$teams), c(30, 12))\n",
    "        expect_equal(dim(read_tables_in_nba_db(\"nba.db\")$career_summaries), c(484, 31))\n",
    "    })\n",
    "    }, error = function(e) {\n",
    "        FALSE\n",
    "})\n",
    "\n",
    "all_tests <- c(test_read_players_csv,\n",
    "               test_read_teams_xlsx,\n",
    "               test_read_career_summaries_json,\n",
    "               test_read_tables_in_nba_db\n",
    "              )\n",
    "passed_tests <- sum(all_tests)"
   ]
  },
  {
   "cell_type": "code",
   "execution_count": 7,
   "metadata": {
    "deletable": false,
    "editable": false
   },
   "outputs": [
    {
     "data": {
      "text/html": [
       "'在 4 題練習中，您總共答對了 4 題。'"
      ],
      "text/latex": [
       "'在 4 題練習中，您總共答對了 4 題。'"
      ],
      "text/markdown": [
       "'在 4 題練習中，您總共答對了 4 題。'"
      ],
      "text/plain": [
       "[1] \"在 4 題練習中，您總共答對了 4 題。\""
      ]
     },
     "metadata": {},
     "output_type": "display_data"
    }
   ],
   "source": [
    "sprintf(\"在 %s 題練習中，您總共答對了 %s 題。\", length(all_tests), passed_tests)"
   ]
  }
 ],
 "metadata": {
  "kernelspec": {
   "display_name": "R",
   "language": "R",
   "name": "ir"
  },
  "language_info": {
   "codemirror_mode": "r",
   "file_extension": ".r",
   "mimetype": "text/x-r-source",
   "name": "R",
   "pygments_lexer": "r",
   "version": "4.0.5"
  }
 },
 "nbformat": 4,
 "nbformat_minor": 4
}
