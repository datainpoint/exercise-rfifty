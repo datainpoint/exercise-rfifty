{
 "cells": [
  {
   "cell_type": "markdown",
   "metadata": {
    "deletable": false,
    "editable": false
   },
   "source": [
    "# R 程式設計\n",
    "\n",
    "> 資料結構\n",
    "\n",
    "[數據交點](https://www.datainpoint.com/) | 郭耀仁 <yaojenkuo@datainpoint.com>"
   ]
  },
  {
   "cell_type": "markdown",
   "metadata": {
    "deletable": false,
    "editable": false
   },
   "source": [
    "## 練習題指引\n",
    "\n",
    "- 在 `### BEGIN SOLUTION` 與 `### END SOLUTION` 這兩個單行註解之間撰寫能夠得到預期結果的程式。\n",
    "- 可以先在 RStudio 寫出跟預期結果相同的程式後再複製貼上到練習題。\n",
    "- 執行測試的方式為點選上方選單的 Kernel -> Restart & Run All -> Restart and Run All Cells。\n",
    "- 可以每寫一題就執行測試，也可以全部寫完再執行測試。"
   ]
  },
  {
   "cell_type": "markdown",
   "metadata": {},
   "source": [
    "## 自訂一個函數 `lord_of_the_rings` 輸出一個長度為 4 的有命名 `list`。\n",
    "\n",
    "- 預期輸入：無\n",
    "- 預期輸出：一個 `list`"
   ]
  },
  {
   "cell_type": "code",
   "execution_count": 1,
   "metadata": {},
   "outputs": [],
   "source": [
    "lord_of_the_rings <- function() {\n",
    "    # lord_of_the_rings_list <- lord_of_the_rings()\n",
    "    # class(lord_of_the_rings_list)\n",
    "    # list\n",
    "    # length(lord_of_the_rings_list)\n",
    "    # 4\n",
    "    # print(lord_of_the_rings()[['director']])\n",
    "    # [1] \"Peter Jackson\"\n",
    "    # print(lord_of_the_rings()[['episodes']])\n",
    "    # [1] \"The Fellowship of the Ring\" \"The Two Towers\"            \n",
    "    # [3] \"The Return of the King\"    \n",
    "    # print(lord_of_the_rings()[['year_of_release']])\n",
    "    # $`The Fellowship of the Ring`\n",
    "    # [1] 2001\n",
    "\n",
    "    # $`The Two Towers`\n",
    "    # [1] 2002\n",
    "\n",
    "    # $`The Return of the King`\n",
    "    # [1] 2003\n",
    "    # print(lord_of_the_rings()[['rating']])\n",
    "    # $`The Fellowship of the Ring`\n",
    "    # [1] 8.8\n",
    "\n",
    "    # $`The Two Towers`\n",
    "    # [1] 8.7\n",
    "\n",
    "    # $`The Return of the King`\n",
    "    # [1] 8.9\n",
    "    ### BEGIN SOLUTION\n",
    "    year_of_release = list(\n",
    "        'The Fellowship of the Ring'=2001,\n",
    "        'The Two Towers'=2002,\n",
    "        'The Return of the King'=2003\n",
    "    )\n",
    "    rating = list(\n",
    "        'The Fellowship of the Ring'=8.8,\n",
    "        'The Two Towers'=8.7,\n",
    "        'The Return of the King'=8.9\n",
    "    )\n",
    "    return(\n",
    "        list(\n",
    "            'director' = 'Peter Jackson',\n",
    "            'episodes' = c('The Fellowship of the Ring', 'The Two Towers', 'The Return of the King'),\n",
    "            'year_of_release' = year_of_release,\n",
    "            'rating' = rating\n",
    "        )\n",
    "    )\n",
    "    ### END SOLUTION\n",
    "}"
   ]
  },
  {
   "cell_type": "markdown",
   "metadata": {},
   "source": [
    "## 自訂一個函數 `batman_trilogy` 輸出一個外觀為 `3 x 4` 的 `data.frame`。\n",
    "\n",
    "- 預期輸入：無\n",
    "- 預期輸出：一個 `3 x 4` 的 `data.frame`"
   ]
  },
  {
   "cell_type": "code",
   "execution_count": 2,
   "metadata": {},
   "outputs": [],
   "source": [
    "batman_trilogy <- function() {\n",
    "    # batman_trilogy_df <- batman_trilogy()\n",
    "    # class(batman_trilogy_df)\n",
    "    # data.frame\n",
    "    # nrows(batman_trilogy_df)\n",
    "    # 3\n",
    "    # ncols(batman_trilogy_df)\n",
    "    # 4\n",
    "    # print(batman_trilogy_df)\n",
    "    #  episode                 title year rating\n",
    "    #1       1         Batman Begins 2005    8.2\n",
    "    #2       2       The Dark Knight 2008    9.0\n",
    "    #3       3 The Dark Knight Rises 2012    8.4\n",
    "    ### BEGIN SOLUTION\n",
    "    episodes <- 1:3\n",
    "    titles <- c('Batman Begins', 'The Dark Knight', \"The Dark Knight Rises\")\n",
    "    years <- c(2005, 2008, 2012)\n",
    "    ratings <- c(8.2, 9.0, 8.4)\n",
    "    return(\n",
    "        data.frame(episode=episodes, title=titles, year=years, rating=ratings)\n",
    "    )\n",
    "    ### END SOLUTION\n",
    "}"
   ]
  },
  {
   "cell_type": "markdown",
   "metadata": {},
   "source": [
    "## 自訂一個函數 `top_rated_movies` 輸出一個外觀為 `5 x 3` 的 `data.frame`。\n",
    "\n",
    "- 預期輸入：無\n",
    "- 預期輸出：一個 `5 x 3` 的 `data.frame`"
   ]
  },
  {
   "cell_type": "code",
   "execution_count": 3,
   "metadata": {},
   "outputs": [],
   "source": [
    "top_rated_movies <- function() {\n",
    "    # top_rated_movies_df <- top_rated_movies()\n",
    "    # class(top_rated_movies_df)\n",
    "    # data.frame\n",
    "    # nrows(top_rated_movies_df)\n",
    "    # 5\n",
    "    # ncols(top_rated_movies_df)\n",
    "    # 3\n",
    "    # print(top_rated_movies_df)\n",
    "    #                     title year rating\n",
    "    #1 The Shawshank Redemption 1994    9.2\n",
    "    #2          The Dark Knight 2008    9.0\n",
    "    #3         Schindler's List 1993    8.9\n",
    "    #4             Forrest Gump 1994    8.8\n",
    "    #5                Inception 2010    8.7\n",
    "    ### BEGIN SOLUTION\n",
    "    titles <- c('The Shawshank Redemption', 'The Dark Knight', \"Schindler's List\", 'Forrest Gump', 'Inception')\n",
    "    years <- c(1994, 2008, 1993, 1994, 2010)\n",
    "    ratings <- c(9.2, 9.0, 8.9, 8.8, 8.7)\n",
    "    return(\n",
    "        data.frame(title=titles, year=years, rating=ratings)\n",
    "    )\n",
    "    ### END SOLUTION\n",
    "}"
   ]
  },
  {
   "cell_type": "markdown",
   "metadata": {
    "deletable": false,
    "editable": false
   },
   "source": [
    "## 執行測試\n",
    "\n",
    "Kernel -> Restart & Run All -> Restart and Run All Cells."
   ]
  },
  {
   "cell_type": "code",
   "execution_count": 4,
   "metadata": {
    "deletable": false,
    "editable": false
   },
   "outputs": [
    {
     "name": "stdout",
     "output_type": "stream",
     "text": [
      "\u001b[32mTest passed\u001b[39m 🎉\n",
      "\u001b[32mTest passed\u001b[39m 😀\n",
      "\u001b[32mTest passed\u001b[39m 🌈\n"
     ]
    }
   ],
   "source": [
    "library(testthat)\n",
    "\n",
    "test_lord_of_the_rings <- tryCatch({\n",
    "    test_that(\"test_lord_of_the_rings\", {\n",
    "        expect_type(lord_of_the_rings(), 'list')\n",
    "        expect_equal(length(lord_of_the_rings()), 4)\n",
    "        expect_equal(lord_of_the_rings()[['director']], 'Peter Jackson')\n",
    "        expect_equal(lord_of_the_rings()[['episodes']], c('The Fellowship of the Ring', 'The Two Towers', 'The Return of the King'))\n",
    "        expect_equal(lord_of_the_rings()[['year_of_release']][['The Return of the King']], 2003)\n",
    "        expect_equal(lord_of_the_rings()[['rating']][['The Return of the King']], 8.9)\n",
    "    })\n",
    "    }, error = function(e) {\n",
    "        FALSE\n",
    "})\n",
    "test_top_rated_movies <- tryCatch({\n",
    "    test_that(\"test_top_rated_movies\", {\n",
    "        expect_s3_class(top_rated_movies(), \"data.frame\")\n",
    "        expect_equal(nrow(top_rated_movies()), 5)\n",
    "        expect_equal(ncol(top_rated_movies()), 3)\n",
    "        expect_equal(max(top_rated_movies()[['rating']]), 9.2)\n",
    "        expect_equal(min(top_rated_movies()[['rating']]), 8.7)\n",
    "        expect_equal(max(top_rated_movies()[['year']]), 2010)\n",
    "        expect_equal(min(top_rated_movies()[['year']]), 1993)\n",
    "    })\n",
    "    }, error = function(e) {\n",
    "        FALSE\n",
    "})\n",
    "test_batman_trilogy <- tryCatch({\n",
    "    test_that(\"test_batman_trilogy\", {\n",
    "        expect_s3_class(batman_trilogy(), \"data.frame\")\n",
    "        expect_equal(nrow(batman_trilogy()), 3)\n",
    "        expect_equal(ncol(batman_trilogy()), 4)\n",
    "        expect_equal(max(batman_trilogy()[['rating']]), 9.0)\n",
    "        expect_equal(min(batman_trilogy()[['rating']]), 8.2)\n",
    "        expect_equal(max(batman_trilogy()[['year']]), 2012)\n",
    "        expect_equal(min(batman_trilogy()[['year']]), 2005)\n",
    "    })\n",
    "    }, error = function(e) {\n",
    "        FALSE\n",
    "})"
   ]
  },
  {
   "cell_type": "code",
   "execution_count": 5,
   "metadata": {
    "deletable": false,
    "editable": false
   },
   "outputs": [
    {
     "data": {
      "text/html": [
       "'在 3 題中，您總共答對了 3 題。'"
      ],
      "text/latex": [
       "'在 3 題中，您總共答對了 3 題。'"
      ],
      "text/markdown": [
       "'在 3 題中，您總共答對了 3 題。'"
      ],
      "text/plain": [
       "[1] \"在 3 題中，您總共答對了 3 題。\""
      ]
     },
     "metadata": {},
     "output_type": "display_data"
    }
   ],
   "source": [
    "all_tests <- c(test_lord_of_the_rings, test_batman_trilogy, test_top_rated_movies)\n",
    "passed_tests <- sum(all_tests)\n",
    "sprintf(\"在 %s 題中，您總共答對了 %s 題。\", length(all_tests), passed_tests)"
   ]
  }
 ],
 "metadata": {
  "kernelspec": {
   "display_name": "R",
   "language": "R",
   "name": "ir"
  },
  "language_info": {
   "codemirror_mode": "r",
   "file_extension": ".r",
   "mimetype": "text/x-r-source",
   "name": "R",
   "pygments_lexer": "r",
   "version": "4.0.5"
  }
 },
 "nbformat": 4,
 "nbformat_minor": 4
}
