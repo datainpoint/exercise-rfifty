{
 "cells": [
  {
   "cell_type": "markdown",
   "metadata": {
    "deletable": false,
    "editable": false
   },
   "source": [
    "# R 語言的五十道練習\n",
    "\n",
    "> 資料結構：清單\n",
    "\n",
    "[數據交點](https://www.datainpoint.com/) | 郭耀仁 <yaojenkuo@datainpoint.com>"
   ]
  },
  {
   "cell_type": "markdown",
   "metadata": {
    "deletable": false,
    "editable": false
   },
   "source": [
    "## 練習題指引\n",
    "\n",
    "- 第一個程式碼儲存格會將可能用得到的套件以及單元測試 `testthat` 載入。\n",
    "- 如果練習題需要載入檔案，檔案與練習題存放在同個資料夾中，意即我們可以指定工作目錄來載入。\n",
    "- 練習題已經定義好函數的名稱以及參數名稱，我們只需要寫作主體。\n",
    "- 函數名稱下面幾行的註解部分是在描述測試如何進行。\n",
    "- 觀察函數名稱下面幾行的註解部分能夠暸解輸入以及預期輸出之間的關係，幫助我們更暸解題目。\n",
    "- 在 `### BEGIN SOLUTION` 與 `### END SOLUTION` 這兩個單行註解之間撰寫函數的主體。\n",
    "- 可以先在 RStudio 寫出跟預期結果相同的程式後再複製貼上到練習題。\n",
    "- 執行測試的方式為點選上方選單的 Kernel -> Restart & Run All -> Restart and Run All Cells。\n",
    "- 可以每寫一題就執行測試，也可以全部寫完再執行測試。\n",
    "- 練習題閒置超過 10 分鐘會自動斷線，這時只要重新點選練習題連結即可重新啟動。"
   ]
  },
  {
   "cell_type": "code",
   "execution_count": 1,
   "metadata": {
    "deletable": false,
    "editable": false
   },
   "outputs": [],
   "source": [
    "library(\"testthat\")"
   ]
  },
  {
   "cell_type": "markdown",
   "metadata": {},
   "source": [
    "## 自行定義函數 `get_first_five_primes` 能夠以清單資料結構回傳前五個質數。\n",
    "\n",
    "- 預期輸入：無。\n",
    "- 預期輸出：一個長度 5 的清單。"
   ]
  },
  {
   "cell_type": "code",
   "execution_count": 2,
   "metadata": {},
   "outputs": [],
   "source": [
    "get_first_five_primes <- function() {\n",
    "    # first_five_primes <- get_first_five_primes()\n",
    "    # first_five_primes[[1]]\n",
    "    # [1] 2\n",
    "    # first_five_primes[[2]]\n",
    "    # [1] 3\n",
    "    # first_five_primes[[3]]\n",
    "    # [1] 5\n",
    "    # first_five_primes[[4]]\n",
    "    # [1] 7\n",
    "    # first_five_primes[[5]]\n",
    "    # [1] 11\n",
    "    ### BEGIN SOLUTION\n",
    "    out <- list(2, 3, 5, 7, 11)\n",
    "    return(out)\n",
    "    ### END SOLUTION\n",
    "}"
   ]
  },
  {
   "cell_type": "markdown",
   "metadata": {},
   "source": [
    "## 自行定義函數 `get_first_five_primes_with_names` 能夠回傳前五個質數並用命名的清單儲存。\n",
    "\n",
    "- 預期輸入：無。\n",
    "- 預期輸出：一個長度 5 的命名清單。"
   ]
  },
  {
   "cell_type": "code",
   "execution_count": 3,
   "metadata": {},
   "outputs": [],
   "source": [
    "get_first_five_primes_with_names <- function() {\n",
    "    # first_five_primes_with_names <- get_first_five_primes_with_names()\n",
    "    # first_five_primes_with_names[\"first\"]\n",
    "    # [1] 2\n",
    "    # first_five_primes_with_names[\"second\"]\n",
    "    # [1] 3\n",
    "    # first_five_primes_with_names[\"third\"]\n",
    "    # [1] 5\n",
    "    # first_five_primes_with_names[\"fourth\"]\n",
    "    # [1] 7\n",
    "    # first_five_primes_with_names[\"fifth\"]\n",
    "    # [1] 11\n",
    "    ### BEGIN SOLUTION\n",
    "    out <- list(2, 3, 5, 7, 11)\n",
    "    names(out) <- c(\"first\", \"second\", \"third\", \"fourth\", \"fifth\")\n",
    "    return(out)\n",
    "    ### END SOLUTION\n",
    "}"
   ]
  },
  {
   "cell_type": "markdown",
   "metadata": {},
   "source": [
    "## 自行定義函數 `get_dark_knight` 能夠回傳「黑暗騎士」的電影資訊並用命名清單儲存。\n",
    "\n",
    "- 預期輸入：無。\n",
    "- 預期輸出：一個長度 3 的命名清單。"
   ]
  },
  {
   "cell_type": "code",
   "execution_count": 4,
   "metadata": {},
   "outputs": [],
   "source": [
    "get_dark_knight <- function() {\n",
    "    # dark_knight <- get_dark_knight()\n",
    "    # dark_knight[[\"title\"]]\n",
    "    # [1] \"The Dark Knight\"\n",
    "    # dark_knight[[\"release_year\"]]\n",
    "    # [1] 2008\n",
    "    # dark_knight[[\"imdb_rating\"]]\n",
    "    # [1] 9.0\n",
    "    ### BEGIN SOLUTION\n",
    "    out <- list(\n",
    "        title = \"The Dark Knight\",\n",
    "        release_year = 2008,\n",
    "        imdb_rating = 9.0\n",
    "    )\n",
    "    return(out)\n",
    "    ### END SOLUTION\n",
    "}"
   ]
  },
  {
   "cell_type": "markdown",
   "metadata": {},
   "source": [
    "## 自行定義函數 `get_batman_trilogy_column_wise` 能夠回傳蝙蝠俠三部曲的電影資訊，以電影名稱、上映年份與 IMDb 評等作命名清單儲存。\n",
    "\n",
    "- 預期輸入：無。\n",
    "- 預期輸出：一個長度 3 的命名清單。"
   ]
  },
  {
   "cell_type": "code",
   "execution_count": 5,
   "metadata": {},
   "outputs": [],
   "source": [
    "get_batman_trilogy_column_wise <- function() {\n",
    "    # batman_trilogy_column_wise <- get_batman_trilogy_column_wise()\n",
    "    # batman_trilogy_column_wise[[\"title\"]]\n",
    "    # [1] \"Batman Begins\"         \"The Dark Knight\"       \"The Dark Knight Rises\"\n",
    "    # batman_trilogy_column_wise[[\"release_year\"]]\n",
    "    # [1] 2005 2008 2012\n",
    "    # batman_trilogy_column_wise[[\"imdb_rating\"]]\n",
    "    # [1] 8.2 9.0 8.4\n",
    "    ### BEGIN SOLUTION\n",
    "    out <- list(\n",
    "        title = c(\"Batman Begins\", \"The Dark Knight\", \"The Dark Knight Rises\"),\n",
    "        release_year = c(2005, 2008, 2012),\n",
    "        imdb_rating = c(8.2, 9.0, 8.4)\n",
    "    )\n",
    "    return(out)\n",
    "    ### END SOLUTION\n",
    "}"
   ]
  },
  {
   "cell_type": "markdown",
   "metadata": {},
   "source": [
    "## 自行定義函數 `get_batman_trilogy_row_wise` 能夠回傳蝙蝠俠三部曲的電影資訊，以集數作為清單的索引儲存。\n",
    "\n",
    "- 預期輸入：無。\n",
    "- 預期輸出：一個長度 3 的清單。"
   ]
  },
  {
   "cell_type": "code",
   "execution_count": 6,
   "metadata": {},
   "outputs": [],
   "source": [
    "get_batman_trilogy_row_wise <- function() {\n",
    "    # batman_trilogy_row_wise <- get_batman_trilogy_row_wise()\n",
    "    # batman_trilogy_row_wise[[1]]\n",
    "    # $title\n",
    "    # [1] \"Batman Begins\"\n",
    "\n",
    "    # $release_year\n",
    "    # [1] 2005\n",
    "\n",
    "    # $imdb_rating\n",
    "    # [1] 8.2\n",
    "    #\n",
    "    # batman_trilogy_row_wise[[2]]\n",
    "    # $title\n",
    "    # [1] \"The Dark Knight\"\n",
    "\n",
    "    # $release_year\n",
    "    # [1] 2008\n",
    "\n",
    "    # $imdb_rating\n",
    "    # [1] 9\n",
    "    #\n",
    "    # batman_trilogy_row_wise[[3]]\n",
    "    # $title\n",
    "    # [1] \"The Dark Knight Rises\"\n",
    "\n",
    "    # $release_year\n",
    "    # [1] 2012\n",
    "\n",
    "    # $imdb_rating\n",
    "    # [1] 8.4\n",
    "    ### BEGIN SOLUTION\n",
    "    episode_1 <- list(title = \"Batman Begins\", release_year = 2005, imdb_rating = 8.2)\n",
    "    episode_2 <- list(title = \"The Dark Knight\", release_year = 2008, imdb_rating = 9.0)\n",
    "    episode_3 <- list(title = \"The Dark Knight Rises\", release_year = 2012, imdb_rating = 8.4)\n",
    "    out <- list(\n",
    "        episode_1,\n",
    "        episode_2,\n",
    "        episode_3\n",
    "    )\n",
    "    return(out)\n",
    "    ### END SOLUTION\n",
    "}"
   ]
  },
  {
   "cell_type": "markdown",
   "metadata": {
    "deletable": false,
    "editable": false
   },
   "source": [
    "## 執行測試\n",
    "\n",
    "Kernel -> Restart & Run All. -> Restart and Run All Cells. "
   ]
  },
  {
   "cell_type": "code",
   "execution_count": 7,
   "metadata": {
    "deletable": false,
    "editable": false
   },
   "outputs": [
    {
     "name": "stdout",
     "output_type": "stream",
     "text": [
      "\u001b[32mTest passed\u001b[39m 🥇\n",
      "\u001b[32mTest passed\u001b[39m 😸\n",
      "\u001b[32mTest passed\u001b[39m 😸\n",
      "\u001b[32mTest passed\u001b[39m 🥇\n",
      "\u001b[32mTest passed\u001b[39m 🥇\n"
     ]
    }
   ],
   "source": [
    "test_get_first_five_primes <- tryCatch({\n",
    "    test_that(\"test_get_first_five_primes\", {\n",
    "        expect_equal(length(get_first_five_primes()), 5)\n",
    "        expect_equal(get_first_five_primes()[[1]], 2)\n",
    "        expect_equal(get_first_five_primes()[[2]], 3)\n",
    "        expect_equal(get_first_five_primes()[[3]], 5)\n",
    "        expect_equal(get_first_five_primes()[[4]], 7)\n",
    "        expect_equal(get_first_five_primes()[[5]], 11)\n",
    "    })\n",
    "    }, error = function(e) {\n",
    "        FALSE\n",
    "})\n",
    "test_get_first_five_primes_with_names <- tryCatch({\n",
    "    test_that(\"test_get_first_five_primes_with_names\", {\n",
    "        expect_equal(length(get_first_five_primes_with_names()), 5)\n",
    "        expect_equal(get_first_five_primes_with_names()[[\"first\"]], 2)\n",
    "        expect_equal(get_first_five_primes_with_names()[[\"second\"]], 3)\n",
    "        expect_equal(get_first_five_primes_with_names()[[\"third\"]], 5)\n",
    "        expect_equal(get_first_five_primes_with_names()[[\"fourth\"]], 7)\n",
    "        expect_equal(get_first_five_primes_with_names()[[\"fifth\"]], 11)\n",
    "    })\n",
    "    }, error = function(e) {\n",
    "        FALSE\n",
    "})\n",
    "test_get_dark_knight <- tryCatch({\n",
    "    test_that(\"test_get_dark_knight\", {\n",
    "        expect_equal(length(get_dark_knight()), 3)\n",
    "        expect_equal(get_dark_knight()[[\"title\"]], \"The Dark Knight\")\n",
    "        expect_equal(get_dark_knight()[[\"release_year\"]], 2008)\n",
    "        expect_equal(get_dark_knight()[[\"imdb_rating\"]], 9.0)\n",
    "    })\n",
    "    }, error = function(e) {\n",
    "        FALSE\n",
    "})\n",
    "test_get_batman_trilogy_column_wise <- tryCatch({\n",
    "    test_that(\"test_get_batman_trilogy_column_wise\", {\n",
    "        expect_equal(length(get_batman_trilogy_column_wise()), 3)\n",
    "        expect_equal(get_batman_trilogy_column_wise()[[\"title\"]], c(\"Batman Begins\", \"The Dark Knight\", \"The Dark Knight Rises\"))\n",
    "        expect_equal(get_batman_trilogy_column_wise()[[\"release_year\"]], c(2005, 2008, 2012))\n",
    "        expect_equal(get_batman_trilogy_column_wise()[[\"imdb_rating\"]], c(8.2, 9.0, 8.4))\n",
    "    })\n",
    "    }, error = function(e) {\n",
    "        FALSE\n",
    "})\n",
    "test_get_batman_trilogy_row_wise <- tryCatch({\n",
    "    test_that(\"test_get_batman_trilogy_row_wise\", {\n",
    "        expect_equal(length(get_batman_trilogy_row_wise()), 3)\n",
    "        expect_equal(get_batman_trilogy_row_wise()[[1]], list(title = \"Batman Begins\", release_year = 2005, imdb_rating = 8.2))\n",
    "        expect_equal(get_batman_trilogy_row_wise()[[2]], list(title = \"The Dark Knight\", release_year = 2008, imdb_rating = 9.0))\n",
    "        expect_equal(get_batman_trilogy_row_wise()[[3]], list(title = \"The Dark Knight Rises\", release_year = 2012, imdb_rating = 8.4))\n",
    "    })\n",
    "    }, error = function(e) {\n",
    "        FALSE\n",
    "})\n",
    "all_tests <- c(test_get_first_five_primes,\n",
    "               test_get_first_five_primes_with_names,\n",
    "               test_get_dark_knight,\n",
    "               test_get_batman_trilogy_column_wise,\n",
    "               test_get_batman_trilogy_row_wise\n",
    "              )\n",
    "passed_tests <- sum(all_tests)"
   ]
  },
  {
   "cell_type": "code",
   "execution_count": 8,
   "metadata": {
    "deletable": false,
    "editable": false
   },
   "outputs": [
    {
     "data": {
      "text/html": [
       "'在 5 題練習中，您總共答對了 5 題。'"
      ],
      "text/latex": [
       "'在 5 題練習中，您總共答對了 5 題。'"
      ],
      "text/markdown": [
       "'在 5 題練習中，您總共答對了 5 題。'"
      ],
      "text/plain": [
       "[1] \"在 5 題練習中，您總共答對了 5 題。\""
      ]
     },
     "metadata": {},
     "output_type": "display_data"
    }
   ],
   "source": [
    "sprintf(\"在 %s 題練習中，您總共答對了 %s 題。\", length(all_tests), passed_tests)"
   ]
  }
 ],
 "metadata": {
  "kernelspec": {
   "display_name": "R",
   "language": "R",
   "name": "ir"
  },
  "language_info": {
   "codemirror_mode": "r",
   "file_extension": ".r",
   "mimetype": "text/x-r-source",
   "name": "R",
   "pygments_lexer": "r",
   "version": "4.0.5"
  }
 },
 "nbformat": 4,
 "nbformat_minor": 4
}
