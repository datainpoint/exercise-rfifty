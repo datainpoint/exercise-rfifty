{
 "cells": [
  {
   "cell_type": "markdown",
   "metadata": {
    "slideshow": {
     "slide_type": "slide"
    }
   },
   "source": [
    "# R 語言的五十道練習\n",
    "\n",
    "> 資料結構：清單\n",
    "\n",
    "[數據交點](https://www.datainpoint.com) | 郭耀仁 <yaojenkuo@datainpoint.com>"
   ]
  },
  {
   "cell_type": "markdown",
   "metadata": {
    "slideshow": {
     "slide_type": "subslide"
    }
   },
   "source": [
    "## R 語言中的資料結構\n",
    "\n",
    "- 向量（vector）\n",
    "- **清單（list）**\n",
    "- 資料框（data.frame）\n",
    "- 因素向量（factor）\n",
    "- 矩陣（matrix）\n",
    "- 陣列（array）"
   ]
  },
  {
   "cell_type": "markdown",
   "metadata": {
    "slideshow": {
     "slide_type": "slide"
    }
   },
   "source": [
    "## 什麼是清單"
   ]
  },
  {
   "cell_type": "markdown",
   "metadata": {
    "slideshow": {
     "slide_type": "subslide"
    }
   },
   "source": [
    "## 什麼是清單\n",
    "\n",
    "清單是 R 語言中的「彈性」資料結構，用來儲存不同類型、長度與維度的資料。"
   ]
  },
  {
   "cell_type": "markdown",
   "metadata": {
    "slideshow": {
     "slide_type": "subslide"
    }
   },
   "source": [
    "## 向量只能儲存「相同」類型資料\n",
    "\n",
    "- 向量著重運算效率因此設計為相同類型。\n",
    "- 在 `c` 函數中合併不同類型資料會自動轉換。"
   ]
  },
  {
   "cell_type": "markdown",
   "metadata": {
    "slideshow": {
     "slide_type": "subslide"
    }
   },
   "source": [
    "## 向量自動轉換時會依據下列順序轉換\n",
    "\n",
    "1. `logical`\n",
    "2. `integer`\n",
    "3. `numeric`\n",
    "4. `character`"
   ]
  },
  {
   "cell_type": "markdown",
   "metadata": {
    "slideshow": {
     "slide_type": "subslide"
    }
   },
   "source": [
    "## `c(logical, integer)` 轉換為 `integer`\n",
    "\n",
    "- `FALSE` 轉換為整數 0。\n",
    "- `TRUE` 轉換為整數 1。"
   ]
  },
  {
   "cell_type": "code",
   "execution_count": 1,
   "metadata": {
    "slideshow": {
     "slide_type": "subslide"
    }
   },
   "outputs": [
    {
     "name": "stdout",
     "output_type": "stream",
     "text": [
      "[1]    0    1 5566\n",
      "[1] \"integer\"\n"
     ]
    }
   ],
   "source": [
    "mixed_vector <- c(FALSE, TRUE, 5566L)\n",
    "print(mixed_vector)\n",
    "print(class(mixed_vector))"
   ]
  },
  {
   "cell_type": "markdown",
   "metadata": {
    "slideshow": {
     "slide_type": "subslide"
    }
   },
   "source": [
    "## `c(logical, integer, numeric)` 轉換為 `numeric`\n",
    "\n",
    "- `FALSE` 轉換為數值 0。\n",
    "- `TRUE` 轉換為數值 1。"
   ]
  },
  {
   "cell_type": "code",
   "execution_count": 2,
   "metadata": {
    "slideshow": {
     "slide_type": "subslide"
    }
   },
   "outputs": [
    {
     "name": "stdout",
     "output_type": "stream",
     "text": [
      "[1]    0    1 5566 5566\n",
      "[1] \"numeric\"\n"
     ]
    }
   ],
   "source": [
    "mixed_vector <- c(FALSE, TRUE, 5566L, 5566)\n",
    "print(mixed_vector)\n",
    "print(class(mixed_vector))"
   ]
  },
  {
   "cell_type": "markdown",
   "metadata": {
    "slideshow": {
     "slide_type": "subslide"
    }
   },
   "source": [
    "## `c(logical, integer, numeric, character)` 轉換為 `character`\n",
    "\n",
    "- `FALSE` 轉換為文字 \"FALSE\"。\n",
    "- `TRUE` 轉換為文字 \"TRUE\"。"
   ]
  },
  {
   "cell_type": "code",
   "execution_count": 3,
   "metadata": {
    "slideshow": {
     "slide_type": "subslide"
    }
   },
   "outputs": [
    {
     "name": "stdout",
     "output_type": "stream",
     "text": [
      "[1] \"FALSE\"          \"TRUE\"           \"5566\"           \"5566\"          \n",
      "[5] \"Luke Skywalker\"\n",
      "[1] \"character\"\n"
     ]
    }
   ],
   "source": [
    "mixed_vector <- c(FALSE, TRUE, 5566L, 5566, \"Luke Skywalker\")\n",
    "print(mixed_vector)\n",
    "print(class(mixed_vector))"
   ]
  },
  {
   "cell_type": "markdown",
   "metadata": {
    "slideshow": {
     "slide_type": "slide"
    }
   },
   "source": [
    "## 如何創造清單"
   ]
  },
  {
   "cell_type": "markdown",
   "metadata": {
    "slideshow": {
     "slide_type": "subslide"
    }
   },
   "source": [
    "## 使用 `list` 函數\n",
    "\n",
    "```r\n",
    "list(...)\n",
    "```"
   ]
  },
  {
   "cell_type": "code",
   "execution_count": 4,
   "metadata": {
    "slideshow": {
     "slide_type": "subslide"
    }
   },
   "outputs": [
    {
     "name": "stdout",
     "output_type": "stream",
     "text": [
      "[1] \"list\"\n"
     ]
    }
   ],
   "source": [
    "mixed_vectors <- list(\n",
    "    c(FALSE, TRUE),\n",
    "    c(3L, 4L, 5L),\n",
    "    c(5, 12, 13),\n",
    "    c(\"Luke Skywalker\", \"Anakin Skywalker\")\n",
    ")\n",
    "print(class(mixed_vectors))"
   ]
  },
  {
   "cell_type": "code",
   "execution_count": 5,
   "metadata": {
    "slideshow": {
     "slide_type": "subslide"
    }
   },
   "outputs": [
    {
     "name": "stdout",
     "output_type": "stream",
     "text": [
      "[[1]]\n",
      "[1] FALSE  TRUE\n",
      "\n",
      "[[2]]\n",
      "[1] 3 4 5\n",
      "\n",
      "[[3]]\n",
      "[1]  5 12 13\n",
      "\n",
      "[[4]]\n",
      "[1] \"Luke Skywalker\"   \"Anakin Skywalker\"\n",
      "\n"
     ]
    }
   ],
   "source": [
    "print(mixed_vectors)"
   ]
  },
  {
   "cell_type": "markdown",
   "metadata": {
    "slideshow": {
     "slide_type": "subslide"
    }
   },
   "source": [
    "## 在創造清單時可以為清單中的資料命名\n",
    "\n",
    "稱為有命名的清單（named list）。"
   ]
  },
  {
   "cell_type": "code",
   "execution_count": 6,
   "metadata": {
    "slideshow": {
     "slide_type": "subslide"
    }
   },
   "outputs": [
    {
     "name": "stdout",
     "output_type": "stream",
     "text": [
      "[1] \"list\"\n"
     ]
    }
   ],
   "source": [
    "mixed_vectors <- list(\n",
    "    \"logicals\" = c(FALSE, TRUE),\n",
    "    \"integers\" = c(3L, 4L, 5L),\n",
    "    \"numerics\" = c(5, 12, 13),\n",
    "    \"characters\" = c(\"Luke Skywalker\", \"Anakin Skywalker\")\n",
    ")\n",
    "print(class(mixed_vectors))"
   ]
  },
  {
   "cell_type": "code",
   "execution_count": 7,
   "metadata": {
    "slideshow": {
     "slide_type": "subslide"
    }
   },
   "outputs": [
    {
     "name": "stdout",
     "output_type": "stream",
     "text": [
      "$logicals\n",
      "[1] FALSE  TRUE\n",
      "\n",
      "$integers\n",
      "[1] 3 4 5\n",
      "\n",
      "$numerics\n",
      "[1]  5 12 13\n",
      "\n",
      "$characters\n",
      "[1] \"Luke Skywalker\"   \"Anakin Skywalker\"\n",
      "\n"
     ]
    }
   ],
   "source": [
    "print(mixed_vectors)"
   ]
  },
  {
   "cell_type": "markdown",
   "metadata": {
    "slideshow": {
     "slide_type": "subslide"
    }
   },
   "source": [
    "## 也可以在創造清單之後再為清單中的資料命名\n",
    "\n",
    "使用 `names` 函數。\n",
    "\n",
    "```r\n",
    "names(x)\n",
    "```"
   ]
  },
  {
   "cell_type": "code",
   "execution_count": 8,
   "metadata": {
    "slideshow": {
     "slide_type": "subslide"
    }
   },
   "outputs": [
    {
     "name": "stdout",
     "output_type": "stream",
     "text": [
      "$logicals\n",
      "[1] FALSE  TRUE\n",
      "\n",
      "$integers\n",
      "[1] 3 4 5\n",
      "\n",
      "$numerics\n",
      "[1]  5 12 13\n",
      "\n",
      "$characters\n",
      "[1] \"Luke Skywalker\"   \"Anakin Skywalker\"\n",
      "\n"
     ]
    }
   ],
   "source": [
    "mixed_vectors <- list(\n",
    "    c(FALSE, TRUE),\n",
    "    c(3L, 4L, 5L),\n",
    "    c(5, 12, 13),\n",
    "    c(\"Luke Skywalker\", \"Anakin Skywalker\")\n",
    ")\n",
    "names(mixed_vectors) <- c(\"logicals\", \"integers\", \"numerics\", \"characters\")\n",
    "print(mixed_vectors)"
   ]
  },
  {
   "cell_type": "markdown",
   "metadata": {
    "slideshow": {
     "slide_type": "slide"
    }
   },
   "source": [
    "## 如何讀取清單"
   ]
  },
  {
   "cell_type": "markdown",
   "metadata": {
    "slideshow": {
     "slide_type": "subslide"
    }
   },
   "source": [
    "## 讀取清單中的資料\n",
    "\n",
    "- 使用一組中括號 `[]` 讀取後仍然是清單的類型。\n",
    "- 使用兩組中括號 `[[]]` 讀取後是儲存資料原始的類型。\n",
    "- 使用錢號 `$` 讀取後是儲存資料原始的類型，錢號 `$` 在 R 語言中作用為取出物件的屬性。"
   ]
  },
  {
   "cell_type": "markdown",
   "metadata": {
    "slideshow": {
     "slide_type": "subslide"
    }
   },
   "source": [
    "## 讀取為長度 1 的清單\n",
    "\n",
    "- 使用 `[index]`。\n",
    "- 使用 `[\"name\"]`。"
   ]
  },
  {
   "cell_type": "code",
   "execution_count": 9,
   "metadata": {
    "slideshow": {
     "slide_type": "subslide"
    }
   },
   "outputs": [
    {
     "name": "stdout",
     "output_type": "stream",
     "text": [
      "$logicals\n",
      "[1] FALSE  TRUE\n",
      "\n",
      "$logicals\n",
      "[1] FALSE  TRUE\n",
      "\n"
     ]
    }
   ],
   "source": [
    "mixed_vectors <- list(\n",
    "    \"logicals\" = c(FALSE, TRUE),\n",
    "    \"integers\" = c(3L, 4L, 5L),\n",
    "    \"numerics\" = c(5, 12, 13),\n",
    "    \"characters\" = c(\"Luke Skywalker\", \"Anakin Skywalker\")\n",
    ")\n",
    "print(mixed_vectors[1])\n",
    "print(mixed_vectors[\"logicals\"])"
   ]
  },
  {
   "cell_type": "code",
   "execution_count": 10,
   "metadata": {
    "slideshow": {
     "slide_type": "subslide"
    }
   },
   "outputs": [
    {
     "name": "stdout",
     "output_type": "stream",
     "text": [
      "[1] \"list\"\n",
      "[1] \"list\"\n"
     ]
    }
   ],
   "source": [
    "print(class(mixed_vectors[1]))\n",
    "print(class(mixed_vectors[\"logicals\"]))"
   ]
  },
  {
   "cell_type": "markdown",
   "metadata": {
    "slideshow": {
     "slide_type": "subslide"
    }
   },
   "source": [
    "## 讀取為部分長度的清單\n",
    "\n",
    "- 使用 `[c(index_1, index_2, ...)]`。\n",
    "- 使用 `[c(\"name_1\", \"name_2\", ...)]`。"
   ]
  },
  {
   "cell_type": "code",
   "execution_count": 11,
   "metadata": {
    "slideshow": {
     "slide_type": "subslide"
    }
   },
   "outputs": [
    {
     "name": "stdout",
     "output_type": "stream",
     "text": [
      "$logicals\n",
      "[1] FALSE  TRUE\n",
      "\n",
      "$numerics\n",
      "[1]  5 12 13\n",
      "\n",
      "$logicals\n",
      "[1] FALSE  TRUE\n",
      "\n",
      "$numerics\n",
      "[1]  5 12 13\n",
      "\n"
     ]
    }
   ],
   "source": [
    "print(mixed_vectors[c(1, 3)])\n",
    "print(mixed_vectors[c(\"logicals\", \"numerics\")])"
   ]
  },
  {
   "cell_type": "markdown",
   "metadata": {
    "slideshow": {
     "slide_type": "subslide"
    }
   },
   "source": [
    "## 讀取為清單中的資料\n",
    "\n",
    "- 使用 `[[index]]`。\n",
    "- 使用 `[[\"name\"]]`。\n",
    "- 使用 `$name`。"
   ]
  },
  {
   "cell_type": "code",
   "execution_count": 12,
   "metadata": {
    "slideshow": {
     "slide_type": "subslide"
    }
   },
   "outputs": [
    {
     "name": "stdout",
     "output_type": "stream",
     "text": [
      "[1] FALSE  TRUE\n",
      "[1] FALSE  TRUE\n",
      "[1] FALSE  TRUE\n"
     ]
    }
   ],
   "source": [
    "print(mixed_vectors[[1]])\n",
    "print(mixed_vectors[[\"logicals\"]])\n",
    "print(mixed_vectors$logicals)"
   ]
  },
  {
   "cell_type": "code",
   "execution_count": 13,
   "metadata": {
    "slideshow": {
     "slide_type": "subslide"
    }
   },
   "outputs": [
    {
     "name": "stdout",
     "output_type": "stream",
     "text": [
      "[1] \"logical\"\n",
      "[1] \"logical\"\n",
      "[1] \"logical\"\n"
     ]
    }
   ],
   "source": [
    "print(class(mixed_vectors[[1]]))\n",
    "print(class(mixed_vectors[[\"logicals\"]]))\n",
    "print(class(mixed_vectors$logicals))"
   ]
  },
  {
   "cell_type": "markdown",
   "metadata": {
    "slideshow": {
     "slide_type": "slide"
    }
   },
   "source": [
    "## 如何更新清單"
   ]
  },
  {
   "cell_type": "markdown",
   "metadata": {
    "slideshow": {
     "slide_type": "subslide"
    }
   },
   "source": [
    "## 更新清單中的資料\n",
    "\n",
    "- 使用 `[[index]]` 更新。\n",
    "- 使用 `[[\"name\"]]` 更新。\n",
    "- 使用 `$name` 更新。"
   ]
  },
  {
   "cell_type": "code",
   "execution_count": 14,
   "metadata": {
    "slideshow": {
     "slide_type": "subslide"
    }
   },
   "outputs": [
    {
     "name": "stdout",
     "output_type": "stream",
     "text": [
      "$logicals\n",
      "[1] FALSE  TRUE\n",
      "\n",
      "$integers\n",
      "[1] 3 4 5\n",
      "\n",
      "$numerics\n",
      "[1]  5 12 13\n",
      "\n",
      "$characters\n",
      "[1] \"Luke Skywalker\" \"Darth Vadar\"   \n",
      "\n"
     ]
    }
   ],
   "source": [
    "mixed_vectors <- list(\n",
    "    \"logicals\" = c(FALSE, TRUE),\n",
    "    \"integers\" = c(3L, 4L, 5L),\n",
    "    \"numerics\" = c(5, 12, 13),\n",
    "    \"characters\" = c(\"Luke Skywalker\", \"Anakin Skywalker\")\n",
    ")\n",
    "mixed_vectors[[4]] <- c(\"Luke Skywalker\", \"Darth Vadar\")\n",
    "print(mixed_vectors)"
   ]
  },
  {
   "cell_type": "code",
   "execution_count": 15,
   "metadata": {
    "slideshow": {
     "slide_type": "subslide"
    }
   },
   "outputs": [
    {
     "name": "stdout",
     "output_type": "stream",
     "text": [
      "$logicals\n",
      "[1] FALSE  TRUE\n",
      "\n",
      "$integers\n",
      "[1] 3 4 5\n",
      "\n",
      "$numerics\n",
      "[1]  5 12 13\n",
      "\n",
      "$characters\n",
      "[1] \"Luke Skywalker\" \"Darth Vadar\"   \n",
      "\n"
     ]
    }
   ],
   "source": [
    "mixed_vectors <- list(\n",
    "    \"logicals\" = c(FALSE, TRUE),\n",
    "    \"integers\" = c(3L, 4L, 5L),\n",
    "    \"numerics\" = c(5, 12, 13),\n",
    "    \"characters\" = c(\"Luke Skywalker\", \"Anakin Skywalker\")\n",
    ")\n",
    "mixed_vectors[[\"characters\"]] <- c(\"Luke Skywalker\", \"Darth Vadar\")\n",
    "print(mixed_vectors)"
   ]
  },
  {
   "cell_type": "code",
   "execution_count": 16,
   "metadata": {
    "slideshow": {
     "slide_type": "subslide"
    }
   },
   "outputs": [
    {
     "name": "stdout",
     "output_type": "stream",
     "text": [
      "$logicals\n",
      "[1] FALSE  TRUE\n",
      "\n",
      "$integers\n",
      "[1] 3 4 5\n",
      "\n",
      "$numerics\n",
      "[1]  5 12 13\n",
      "\n",
      "$characters\n",
      "[1] \"Luke Skywalker\" \"Darth Vadar\"   \n",
      "\n"
     ]
    }
   ],
   "source": [
    "mixed_vectors <- list(\n",
    "    \"logicals\" = c(FALSE, TRUE),\n",
    "    \"integers\" = c(3L, 4L, 5L),\n",
    "    \"numerics\" = c(5, 12, 13),\n",
    "    \"characters\" = c(\"Luke Skywalker\", \"Anakin Skywalker\")\n",
    ")\n",
    "mixed_vectors$characters <- c(\"Luke Skywalker\", \"Darth Vadar\")\n",
    "print(mixed_vectors)"
   ]
  },
  {
   "cell_type": "markdown",
   "metadata": {
    "slideshow": {
     "slide_type": "slide"
    }
   },
   "source": [
    "## 如何刪除清單"
   ]
  },
  {
   "cell_type": "markdown",
   "metadata": {
    "slideshow": {
     "slide_type": "subslide"
    }
   },
   "source": [
    "## 刪除清單中的資料\n",
    "\n",
    "- 使用 `[-index]`。\n",
    "- 以 `NULL` 更新。\n",
    "- 使用邏輯。"
   ]
  },
  {
   "cell_type": "markdown",
   "metadata": {
    "slideshow": {
     "slide_type": "subslide"
    }
   },
   "source": [
    "## 使用 `[-index]`"
   ]
  },
  {
   "cell_type": "code",
   "execution_count": 17,
   "metadata": {
    "slideshow": {
     "slide_type": "-"
    }
   },
   "outputs": [
    {
     "name": "stdout",
     "output_type": "stream",
     "text": [
      "$logicals\n",
      "[1] FALSE  TRUE\n",
      "\n",
      "$integers\n",
      "[1] 3 4 5\n",
      "\n",
      "$numerics\n",
      "[1]  5 12 13\n",
      "\n"
     ]
    }
   ],
   "source": [
    "mixed_vectors <- list(\n",
    "    \"logicals\" = c(FALSE, TRUE),\n",
    "    \"integers\" = c(3L, 4L, 5L),\n",
    "    \"numerics\" = c(5, 12, 13),\n",
    "    \"characters\" = c(\"Luke Skywalker\", \"Anakin Skywalker\")\n",
    ")\n",
    "print(mixed_vectors[-4])"
   ]
  },
  {
   "cell_type": "markdown",
   "metadata": {
    "slideshow": {
     "slide_type": "subslide"
    }
   },
   "source": [
    "## 以 `NULL` 更新"
   ]
  },
  {
   "cell_type": "code",
   "execution_count": 18,
   "metadata": {},
   "outputs": [
    {
     "name": "stdout",
     "output_type": "stream",
     "text": [
      "$logicals\n",
      "[1] FALSE  TRUE\n",
      "\n",
      "$integers\n",
      "[1] 3 4 5\n",
      "\n",
      "$numerics\n",
      "[1]  5 12 13\n",
      "\n"
     ]
    }
   ],
   "source": [
    "mixed_vectors <- list(\n",
    "    \"logicals\" = c(FALSE, TRUE),\n",
    "    \"integers\" = c(3L, 4L, 5L),\n",
    "    \"numerics\" = c(5, 12, 13),\n",
    "    \"characters\" = c(\"Luke Skywalker\", \"Anakin Skywalker\")\n",
    ")\n",
    "mixed_vectors[4] <- NULL\n",
    "print(mixed_vectors)"
   ]
  },
  {
   "cell_type": "markdown",
   "metadata": {
    "slideshow": {
     "slide_type": "subslide"
    }
   },
   "source": [
    "## 使用邏輯"
   ]
  },
  {
   "cell_type": "code",
   "execution_count": 19,
   "metadata": {},
   "outputs": [
    {
     "name": "stdout",
     "output_type": "stream",
     "text": [
      "$logicals\n",
      "[1] FALSE  TRUE\n",
      "\n",
      "$integers\n",
      "[1] 3 4 5\n",
      "\n",
      "$numerics\n",
      "[1]  5 12 13\n",
      "\n"
     ]
    }
   ],
   "source": [
    "mixed_vectors <- list(\n",
    "    \"logicals\" = c(FALSE, TRUE),\n",
    "    \"integers\" = c(3L, 4L, 5L),\n",
    "    \"numerics\" = c(5, 12, 13),\n",
    "    \"characters\" = c(\"Luke Skywalker\", \"Anakin Skywalker\")\n",
    ")\n",
    "print(mixed_vectors[c(TRUE, TRUE, TRUE, FALSE)])"
   ]
  },
  {
   "cell_type": "markdown",
   "metadata": {
    "slideshow": {
     "slide_type": "subslide"
    }
   },
   "source": [
    "## 使用 `rm` 函數刪除清單命名"
   ]
  },
  {
   "cell_type": "code",
   "execution_count": 20,
   "metadata": {},
   "outputs": [
    {
     "name": "stdout",
     "output_type": "stream",
     "text": [
      "[1] TRUE\n",
      "[1] FALSE\n"
     ]
    }
   ],
   "source": [
    "mixed_vectors <- list(\n",
    "    \"logicals\" = c(FALSE, TRUE),\n",
    "    \"integers\" = c(3L, 4L, 5L),\n",
    "    \"numerics\" = c(5, 12, 13),\n",
    "    \"characters\" = c(\"Luke Skywalker\", \"Anakin Skywalker\")\n",
    ")\n",
    "environment_objects <- ls()\n",
    "print(\"mixed_vectors\" %in% environment_objects)\n",
    "rm(mixed_vectors)\n",
    "environment_objects <- ls()\n",
    "print(\"mixed_vectors\" %in% environment_objects)"
   ]
  },
  {
   "cell_type": "markdown",
   "metadata": {
    "slideshow": {
     "slide_type": "slide"
    }
   },
   "source": [
    "## 重點統整\n",
    "\n",
    "- 清單是 R 語言中的「彈性」資料結構，用來儲存不同類型、長度與維度的資料。\n",
    "- 向量只能儲存「相同」類型資料。\n",
    "    - 向量著重運算效率因此設計為相同類型。\n",
    "    - 在 `c` 函數中合併不同類型資料會自動轉換。"
   ]
  },
  {
   "cell_type": "markdown",
   "metadata": {
    "slideshow": {
     "slide_type": "subslide"
    }
   },
   "source": [
    "## 重點統整（續）\n",
    "\n",
    "- 如何讀取清單中的資料：\n",
    "    - 使用一組中括號 `[]` 讀取後仍然是清單的類型。\n",
    "    - 使用兩組中括號 `[[]]` 讀取後是儲存資料原始的類型。\n",
    "    - 使用錢號 `$` 讀取後是儲存資料原始的類型。"
   ]
  },
  {
   "cell_type": "markdown",
   "metadata": {
    "slideshow": {
     "slide_type": "subslide"
    }
   },
   "source": [
    "## 重點統整（續）\n",
    "\n",
    "- 如何刪除清單中的資料：\n",
    "    - 使用 `[-index]`。\n",
    "    - 以 `NULL` 更新。\n",
    "    - 使用邏輯。"
   ]
  }
 ],
 "metadata": {
  "celltoolbar": "Slideshow",
  "kernelspec": {
   "display_name": "R",
   "language": "R",
   "name": "ir"
  },
  "language_info": {
   "codemirror_mode": "r",
   "file_extension": ".r",
   "mimetype": "text/x-r-source",
   "name": "R",
   "pygments_lexer": "r",
   "version": "4.0.5"
  }
 },
 "nbformat": 4,
 "nbformat_minor": 2
}
