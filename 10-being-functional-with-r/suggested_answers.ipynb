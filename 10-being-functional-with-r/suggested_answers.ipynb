{
 "cells": [
  {
   "cell_type": "markdown",
   "metadata": {
    "deletable": false,
    "editable": false
   },
   "source": [
    "# R 語言的五十道練習\n",
    "\n",
    "> 函數型程式設計\n",
    "\n",
    "[數據交點](https://www.datainpoint.com/) | 郭耀仁 <yaojenkuo@datainpoint.com>"
   ]
  },
  {
   "cell_type": "markdown",
   "metadata": {
    "deletable": false,
    "editable": false
   },
   "source": [
    "## 練習題指引\n",
    "\n",
    "- 第一個程式碼儲存格會將可能用得到的套件以及單元測試 `testthat` 載入。\n",
    "- 如果練習題需要載入檔案，檔案與練習題存放在同個資料夾中，意即我們可以指定工作目錄來載入。\n",
    "- 練習題已經定義好函數的名稱以及參數名稱，我們只需要寫作主體。\n",
    "- 函數名稱下面幾行的註解部分是在描述測試如何進行。\n",
    "- 觀察函數名稱下面幾行的註解部分能夠暸解輸入以及預期輸出之間的關係，幫助我們更暸解題目。\n",
    "- 在 `### BEGIN SOLUTION` 與 `### END SOLUTION` 這兩個單行註解之間撰寫函數的主體。\n",
    "- 可以先在 RStudio 寫出跟預期結果相同的程式後再複製貼上到練習題。\n",
    "- 執行測試的方式為點選上方選單的 Kernel -> Restart & Run All -> Restart and Run All Cells。\n",
    "- 可以每寫一題就執行測試，也可以全部寫完再執行測試。\n",
    "- 練習題閒置超過 10 分鐘會自動斷線，這時只要重新點選練習題連結即可重新啟動。"
   ]
  },
  {
   "cell_type": "code",
   "execution_count": 1,
   "metadata": {
    "deletable": false,
    "editable": false
   },
   "outputs": [],
   "source": [
    "library(\"testthat\")"
   ]
  },
  {
   "cell_type": "markdown",
   "metadata": {},
   "source": [
    "## 自行定義函數 `count_negative_integers` 能回傳輸入 `list` 之中的負數有幾個。\n",
    "\n",
    "- 預期輸入：一個 `list`。\n",
    "- 預期輸出：一個 `numeric`。"
   ]
  },
  {
   "cell_type": "code",
   "execution_count": 2,
   "metadata": {},
   "outputs": [],
   "source": [
    "count_negative_integers <- function(x) {\n",
    "    # count_negative_integers(list(0, 1, 2, 3, 4, 5))\n",
    "    # [1] 0\n",
    "    # count_negative_integers(list(0, -1, -2, -3, -4, -5))\n",
    "    # [1] 5\n",
    "    # count_negative_integers(list(0, 5, 5, -6, -6))\n",
    "    # [1] 2\n",
    "    # count_negative_integers(list(0, -5, -5, 6, 6))\n",
    "    # [1] 2\n",
    "    ### BEGIN SOLUTION\n",
    "    negative_x <- x[x < 0]\n",
    "    out <- length(negative_x)\n",
    "    return(out)\n",
    "    ### END SOLUTION\n",
    "}"
   ]
  },
  {
   "cell_type": "markdown",
   "metadata": {},
   "source": [
    "## 自行定義函數 `find_smallest_int` 能將輸入 `list` 之中最小的數字找出來並且回傳。\n",
    "\n",
    "- 預期輸入：一個 `list`。\n",
    "- 預期輸出：一個 `numeric`。"
   ]
  },
  {
   "cell_type": "code",
   "execution_count": 3,
   "metadata": {},
   "outputs": [],
   "source": [
    "find_smallest_int <- function(x) {\n",
    "    # find_smallest_int(list(1, 2, 3, 4, 5))\n",
    "    # [1] 1\n",
    "    # find_smallest_int(list(-1, -2, -3, -4, -5))\n",
    "    # [1] -5\n",
    "    # find_smallest_int(list(5, 5, 6, 6))\n",
    "    # [1] 5\n",
    "    # find_smallest_int(list(-5, -5, -6, -6))\n",
    "    # [1] -6\n",
    "    ### BEGIN SOLUTION\n",
    "    x_vector <- unlist(x)\n",
    "    return(min(x_vector))\n",
    "    ### END SOLUTION\n",
    "}"
   ]
  },
  {
   "cell_type": "markdown",
   "metadata": {},
   "source": [
    "## 自行定義函數 `find_vectors_smallest_ints` 能將輸入 `list` 之中所有數值向量的最小數字找出來並且回傳。\n",
    "\n",
    "- 預期輸入：一個 `list`。\n",
    "- 預期輸出：一個 `list`。"
   ]
  },
  {
   "cell_type": "code",
   "execution_count": 4,
   "metadata": {},
   "outputs": [],
   "source": [
    "find_vectors_smallest_ints <- function(x) {\n",
    "    # my_list <- list(\n",
    "    #     c(1, 2, 3, 4, 5),\n",
    "    #     c(-1, -2, -3, -4, -5),\n",
    "    #     c(5, 5, 6, 6),\n",
    "    #     c(-5, -5, -6, -6)\n",
    "    # )\n",
    "    # find_vectors_smallest_ints(my_list)\n",
    "    # [[1]]\n",
    "    # [1] 1\n",
    "    #\n",
    "    # [[2]]\n",
    "    # [1] -5\n",
    "    #\n",
    "    # [[3]]\n",
    "    # [1] 5\n",
    "    #\n",
    "    # [[4]]\n",
    "    # [1] -6\n",
    "    ### BEGIN SOLUTION\n",
    "    out <- lapply(x, FUN = min)\n",
    "    return(out)\n",
    "    ### END SOLUTION\n",
    "}"
   ]
  },
  {
   "cell_type": "markdown",
   "metadata": {},
   "source": [
    "## 自行定義函數 `list_mean` 能計算 `list` 之中所有數字的平均值。\n",
    "\n",
    "- 預期輸入：一個 `list`。\n",
    "- 預期輸出：一個 `numeric`。"
   ]
  },
  {
   "cell_type": "code",
   "execution_count": 5,
   "metadata": {},
   "outputs": [],
   "source": [
    "list_mean <- function(x) {\n",
    "    # list_mean(list(1, 2, 3, 4, 5))\n",
    "    # [1] 3\n",
    "    # list_mean(list(-1, -2, -3, -4, -5))\n",
    "    # [1] -3\n",
    "    # list_mean(list(5, 5, 6, 6))\n",
    "    # [1] 5.5\n",
    "    # list_mean(list(-5, -5, -6, -6))\n",
    "    # [1] -5.5\n",
    "    ### BEGIN SOLUTION\n",
    "    x_vector <- unlist(x)\n",
    "    return(mean(x_vector))\n",
    "    ### END SOLUTION\n",
    "}"
   ]
  },
  {
   "cell_type": "markdown",
   "metadata": {},
   "source": [
    "## 自行定義函數 `list_vector_means` 能計算 `list` 之中所有數值向量的平均值。\n",
    "\n",
    "- 預期輸入：一個 `list`。\n",
    "- 預期輸出：一個 `list`。"
   ]
  },
  {
   "cell_type": "code",
   "execution_count": 6,
   "metadata": {},
   "outputs": [],
   "source": [
    "list_vector_means <- function(x) {\n",
    "    # my_list <- list(\n",
    "    #     c(1, 2, 3, 4, 5),\n",
    "    #     c(-1, -2, -3, -4, -5),\n",
    "    #     c(5, 5, 6, 6),\n",
    "    #     c(-5, -5, -6, -6)\n",
    "    # )\n",
    "    # list_vector_means(my_list)\n",
    "    # [[1]]\n",
    "    # [1] 3\n",
    "    #\n",
    "    # [[2]]\n",
    "    # [1] -3\n",
    "    #\n",
    "    # [[3]]\n",
    "    # [1] 5.5\n",
    "    #\n",
    "    # [[4]]\n",
    "    # [1] -5.5\n",
    "    ### BEGIN SOLUTION\n",
    "    out <- lapply(x, FUN = mean)\n",
    "    return(out)\n",
    "    ### END SOLUTION\n",
    "}"
   ]
  },
  {
   "cell_type": "markdown",
   "metadata": {},
   "source": [
    "## 自行定義函數 `find_rowsum_colsum` 能計算 `matrix` 之中的列總和與欄總和。\n",
    "\n",
    "- 預期輸入：一個 `matrix`。\n",
    "- 預期輸出：一個 `list`。"
   ]
  },
  {
   "cell_type": "code",
   "execution_count": 7,
   "metadata": {},
   "outputs": [],
   "source": [
    "find_rowsum_colsum <- function(x) {\n",
    "    # mat <- matrix(1:9, nrow = 3)\n",
    "    # find_rowsum_colsum(mat)\n",
    "    # $row_sum\n",
    "    # [1] 12 15 18\n",
    "    #\n",
    "    # $col_sum\n",
    "    # [1]  6 15 24\n",
    "    # mat <- matrix(1:12, nrow = 2)\n",
    "    # find_rowsum_colsum(mat)\n",
    "    # $row_sum\n",
    "    # [1] 36 42\n",
    "    #\n",
    "    # $col_sum\n",
    "    # [1]  3  7 11 15 19 23\n",
    "    ### BEGIN SOLUTION\n",
    "    row_sum <- apply(x, MARGIN = 1, FUN = sum)\n",
    "    col_sum <- apply(x, MARGIN = 2, FUN = sum)\n",
    "    out <- list(\n",
    "        \"row_sum\" = row_sum,\n",
    "        \"col_sum\" = col_sum\n",
    "    )\n",
    "    return(out)\n",
    "    ### END SOLUTION\n",
    "}"
   ]
  },
  {
   "cell_type": "markdown",
   "metadata": {},
   "source": [
    "## 自行定義函數 `advanced_count_vowels` 能計算一個文字向量中的母音字母個數（a, e, i, o, u），並且以 `list` 的資料結構回傳各個母音的個數。\n",
    "\n",
    "- 預期輸入：一個長度為 1 的 `character`。\n",
    "- 預期輸出：一個 `list`。"
   ]
  },
  {
   "cell_type": "code",
   "execution_count": 8,
   "metadata": {},
   "outputs": [],
   "source": [
    "advanced_count_vowels <- function(x) {\n",
    "    # advanced_count_vowels(\"Anakin Skywalker\")\n",
    "    # $a\n",
    "    # [1] 3\n",
    "    #\n",
    "    # $e\n",
    "    # [1] 1\n",
    "    #\n",
    "    # $i\n",
    "    # [1] 1\n",
    "    #\n",
    "    # $o\n",
    "    # [1] 0\n",
    "    #\n",
    "    # $u\n",
    "    # [1] 0\n",
    "    # advanced_count_vowels(\"Luke Skywalker\")\n",
    "    # $a\n",
    "    # [1] 1\n",
    "    #\n",
    "    # $e\n",
    "    # [1] 2\n",
    "    #\n",
    "    # $i\n",
    "    # [1] 0\n",
    "    #\n",
    "    # $o\n",
    "    # [1] 0\n",
    "    #\n",
    "    # $u\n",
    "    # [1] 1\n",
    "    # advanced_count_vowels(\"Darth Vadar\")\n",
    "    # $a\n",
    "    # [1] 3\n",
    "    #\n",
    "    # $e\n",
    "    # [1] 0\n",
    "    #\n",
    "    # $i\n",
    "    # [1] 0\n",
    "    #\n",
    "    # $o\n",
    "    # [1] 0\n",
    "    #\n",
    "    # $u\n",
    "    # [1] 0\n",
    "    ### BEGIN SOLUTION\n",
    "    vowels <- c(\"a\", \"e\", \"i\", \"o\", \"u\")\n",
    "    tolower_x <- tolower(x)\n",
    "    split_char <- strsplit(tolower_x, split=\"\")[[1]]\n",
    "    n_vowels <- list(\n",
    "        'a'=0,\n",
    "        'e'=0,\n",
    "        'i'=0,\n",
    "        'o'=0,\n",
    "        'u'=0\n",
    "    )\n",
    "    for (char in split_char) {\n",
    "        if (char %in% vowels) {\n",
    "            n_vowels[[char]] <- n_vowels[[char]] + 1\n",
    "        }\n",
    "    }\n",
    "    return(n_vowels)\n",
    "    ### END SOLUTION\n",
    "}"
   ]
  },
  {
   "cell_type": "markdown",
   "metadata": {
    "deletable": false,
    "editable": false
   },
   "source": [
    "## 執行測試\n",
    "\n",
    "Kernel -> Restart & Run All -> Restart and Run All Cells."
   ]
  },
  {
   "cell_type": "code",
   "execution_count": 9,
   "metadata": {
    "deletable": false,
    "editable": false
   },
   "outputs": [
    {
     "name": "stdout",
     "output_type": "stream",
     "text": [
      "\u001b[32mTest passed\u001b[39m 🥇\n",
      "\u001b[32mTest passed\u001b[39m 😸\n",
      "\u001b[32mTest passed\u001b[39m 🎉\n",
      "\u001b[32mTest passed\u001b[39m 😀\n",
      "\u001b[32mTest passed\u001b[39m 😀\n",
      "\u001b[32mTest passed\u001b[39m 🌈\n",
      "\u001b[32mTest passed\u001b[39m 🥳\n"
     ]
    }
   ],
   "source": [
    "test_count_negative_integers <- tryCatch({\n",
    "    test_that(\"test_count_negative_integers\", {\n",
    "        expect_equal(count_negative_integers(list(0, 1, 2, 3, 4, 5)), 0)\n",
    "        expect_equal(count_negative_integers(list(0, -1, -2, -3, -4, -5)), 5)\n",
    "        expect_equal(count_negative_integers(list(0, 5, 5, -6, -6)), 2)\n",
    "        expect_equal(count_negative_integers(list(0, -5, -5, 6, 6)), 2)\n",
    "    })\n",
    "    }, error = function(e) {\n",
    "        FALSE\n",
    "})\n",
    "test_find_smallest_int <- tryCatch({\n",
    "    test_that(\"test_find_smallest_int\", {\n",
    "        expect_equal(find_smallest_int(list(1, 2, 3, 4, 5)), 1)\n",
    "        expect_equal(find_smallest_int(list(-1, -2, -3, -4, -5)), -5)\n",
    "        expect_equal(find_smallest_int(list(5, 5, 6, 6)), 5)\n",
    "        expect_equal(find_smallest_int(list(-5, -5, -6, -6)), -6)\n",
    "    })\n",
    "    }, error = function(e) {\n",
    "        FALSE\n",
    "})\n",
    "test_find_vectors_smallest_ints <- tryCatch({\n",
    "    test_that(\"test_find_vectors_smallest_ints\", {\n",
    "        expect_equal(find_vectors_smallest_ints(list(c(1, 2, 3, 4, 5),\n",
    "                                                     c(-1, -2, -3, -4, -5),\n",
    "                                                     c(5, 5, 6, 6),\n",
    "                                                     c(-5, -5, -6, -6)))[[1]], 1)\n",
    "        expect_equal(find_vectors_smallest_ints(list(c(1, 2, 3, 4, 5),\n",
    "                                                     c(-1, -2, -3, -4, -5),\n",
    "                                                     c(5, 5, 6, 6),\n",
    "                                                     c(-5, -5, -6, -6)))[[2]], -5)\n",
    "        expect_equal(find_vectors_smallest_ints(list(c(1, 2, 3, 4, 5),\n",
    "                                                     c(-1, -2, -3, -4, -5),\n",
    "                                                     c(5, 5, 6, 6),\n",
    "                                                     c(-5, -5, -6, -6)))[[3]], 5)\n",
    "        expect_equal(find_vectors_smallest_ints(list(c(1, 2, 3, 4, 5),\n",
    "                                                     c(-1, -2, -3, -4, -5),\n",
    "                                                     c(5, 5, 6, 6),\n",
    "                                                     c(-5, -5, -6, -6)))[[4]], -6)\n",
    "    })\n",
    "    }, error = function(e) {\n",
    "        FALSE\n",
    "})\n",
    "test_list_mean <- tryCatch({\n",
    "    test_that(\"test_list_mean\", {\n",
    "        expect_equal(list_mean(list(1, 2, 3, 4, 5)), 3)\n",
    "        expect_equal(list_mean(list(-1, -2, -3, -4, -5)), -3)\n",
    "        expect_equal(list_mean(list(5, 5, 6, 6)), 5.5)\n",
    "        expect_equal(list_mean(list(-5, -5, -6, -6)), -5.5)\n",
    "    })\n",
    "    }, error = function(e) {\n",
    "        FALSE\n",
    "})\n",
    "test_list_vector_means <- tryCatch({\n",
    "    test_that(\"test_list_vector_means\", {\n",
    "        expect_equal(list_vector_means(list(c(1, 2, 3, 4, 5),\n",
    "                                            c(-1, -2, -3, -4, -5),\n",
    "                                            c(5, 5, 6, 6),\n",
    "                                            c(-5, -5, -6, -6)))[[1]], 3)\n",
    "        expect_equal(list_vector_means(list(c(1, 2, 3, 4, 5),\n",
    "                                            c(-1, -2, -3, -4, -5),\n",
    "                                            c(5, 5, 6, 6),\n",
    "                                            c(-5, -5, -6, -6)))[[2]], -3)\n",
    "        expect_equal(list_vector_means(list(c(1, 2, 3, 4, 5),\n",
    "                                            c(-1, -2, -3, -4, -5),\n",
    "                                            c(5, 5, 6, 6),\n",
    "                                            c(-5, -5, -6, -6)))[[3]], 5.5)\n",
    "        expect_equal(list_vector_means(list(c(1, 2, 3, 4, 5),\n",
    "                                            c(-1, -2, -3, -4, -5),\n",
    "                                            c(5, 5, 6, 6),\n",
    "                                            c(-5, -5, -6, -6)))[[4]], -5.5)\n",
    "    })\n",
    "    }, error = function(e) {\n",
    "        FALSE\n",
    "})\n",
    "test_find_rowsum_colsum <- tryCatch({\n",
    "    test_that(\"test_find_rowsum_colsum\", {\n",
    "        expect_equal(find_rowsum_colsum(matrix(1:9, nrow = 3))[['row_sum']], c(12, 15, 18))\n",
    "        expect_equal(find_rowsum_colsum(matrix(1:9, nrow = 3))[['col_sum']], c(6, 15, 24))\n",
    "        expect_equal(find_rowsum_colsum(matrix(1:12, nrow = 2))[['row_sum']], c(36, 42))\n",
    "        expect_equal(find_rowsum_colsum(matrix(1:12, nrow = 2))[['col_sum']], c(3, 7, 11, 15, 19, 23))\n",
    "    })\n",
    "    }, error = function(e) {\n",
    "        FALSE\n",
    "})\n",
    "test_advanced_count_vowels <- tryCatch({\n",
    "    test_that(\"test_advanced_count_vowels\", {\n",
    "        expect_equal(advanced_count_vowels(\"Anakin Skywalker\")[['a']], 3)\n",
    "        expect_equal(advanced_count_vowels(\"Anakin Skywalker\")[['e']], 1)\n",
    "        expect_equal(advanced_count_vowels(\"Anakin Skywalker\")[['i']], 1)\n",
    "        expect_equal(advanced_count_vowels(\"Anakin Skywalker\")[['o']], 0)\n",
    "        expect_equal(advanced_count_vowels(\"Anakin Skywalker\")[['u']], 0)\n",
    "        expect_equal(advanced_count_vowels(\"Luke Skywalker\")[['a']], 1)\n",
    "        expect_equal(advanced_count_vowels(\"Luke Skywalker\")[['e']], 2)\n",
    "        expect_equal(advanced_count_vowels(\"Luke Skywalker\")[['i']], 0)\n",
    "        expect_equal(advanced_count_vowels(\"Luke Skywalker\")[['o']], 0)\n",
    "        expect_equal(advanced_count_vowels(\"Luke Skywalker\")[['u']], 1)\n",
    "        expect_equal(advanced_count_vowels(\"Darth Vadar\")[['a']], 3)\n",
    "        expect_equal(advanced_count_vowels(\"Darth Vadar\")[['e']], 0)\n",
    "        expect_equal(advanced_count_vowels(\"Darth Vadar\")[['i']], 0)\n",
    "        expect_equal(advanced_count_vowels(\"Darth Vadar\")[['o']], 0)\n",
    "        expect_equal(advanced_count_vowels(\"Darth Vadar\")[['u']], 0)\n",
    "    })\n",
    "    }, error = function(e) {\n",
    "        FALSE\n",
    "})\n",
    "\n",
    "all_tests <- c(test_count_negative_integers,\n",
    "               test_find_smallest_int,\n",
    "               test_find_vectors_smallest_ints,\n",
    "               test_list_mean, \n",
    "               test_list_vector_means,\n",
    "               test_find_rowsum_colsum,\n",
    "               test_advanced_count_vowels\n",
    "              )\n",
    "passed_tests <- sum(all_tests)"
   ]
  },
  {
   "cell_type": "code",
   "execution_count": 10,
   "metadata": {
    "deletable": false,
    "editable": false
   },
   "outputs": [
    {
     "data": {
      "text/html": [
       "'在 7 題練習中，您總共答對了 7 題。'"
      ],
      "text/latex": [
       "'在 7 題練習中，您總共答對了 7 題。'"
      ],
      "text/markdown": [
       "'在 7 題練習中，您總共答對了 7 題。'"
      ],
      "text/plain": [
       "[1] \"在 7 題練習中，您總共答對了 7 題。\""
      ]
     },
     "metadata": {},
     "output_type": "display_data"
    }
   ],
   "source": [
    "sprintf(\"在 %s 題練習中，您總共答對了 %s 題。\", length(all_tests), passed_tests)"
   ]
  }
 ],
 "metadata": {
  "kernelspec": {
   "display_name": "R",
   "language": "R",
   "name": "ir"
  },
  "language_info": {
   "codemirror_mode": "r",
   "file_extension": ".r",
   "mimetype": "text/x-r-source",
   "name": "R",
   "pygments_lexer": "r",
   "version": "4.0.5"
  }
 },
 "nbformat": 4,
 "nbformat_minor": 4
}
