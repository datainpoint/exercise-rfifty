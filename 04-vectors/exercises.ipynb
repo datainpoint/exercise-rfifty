{
 "cells": [
  {
   "cell_type": "markdown",
   "metadata": {
    "deletable": false,
    "editable": false
   },
   "source": [
    "# R 語言的五十道練習\n",
    "\n",
    "> 資料結構：向量\n",
    "\n",
    "[數據交點](https://www.datainpoint.com/) | 郭耀仁 <yaojenkuo@datainpoint.com>"
   ]
  },
  {
   "cell_type": "markdown",
   "metadata": {
    "deletable": false,
    "editable": false
   },
   "source": [
    "## 練習題指引\n",
    "\n",
    "- 第一個程式碼儲存格會將可能用得到的套件以及單元測試 `testthat` 載入。\n",
    "- 如果練習題需要載入檔案，檔案與練習題存放在同個資料夾中，意即我們可以指定工作目錄來載入。\n",
    "- 練習題已經定義好函數的名稱以及參數名稱，我們只需要寫作主體。\n",
    "- 函數名稱下面幾行的註解部分是在描述測試如何進行。\n",
    "- 觀察函數名稱下面幾行的註解部分能夠暸解輸入以及預期輸出之間的關係，幫助我們更暸解題目。\n",
    "- 在 `### BEGIN SOLUTION` 與 `### END SOLUTION` 這兩個單行註解之間撰寫函數的主體。\n",
    "- 可以先在 RStudio 寫出跟預期結果相同的程式後再複製貼上到練習題。\n",
    "- 執行測試的方式為點選上方選單的 Kernel -> Restart & Run All -> Restart and Run All Cells。\n",
    "- 可以每寫一題就執行測試，也可以全部寫完再執行測試。\n",
    "- 練習題閒置超過 10 分鐘會自動斷線，這時只要重新點選練習題連結即可重新啟動。"
   ]
  },
  {
   "cell_type": "code",
   "execution_count": 1,
   "metadata": {
    "deletable": false,
    "editable": false
   },
   "outputs": [],
   "source": [
    "library(\"testthat\")"
   ]
  },
  {
   "cell_type": "markdown",
   "metadata": {},
   "source": [
    "## 自行定義函數 `get_first_ten_odds` 能夠回傳前十個奇數。\n",
    "\n",
    "- 預期輸入：無。\n",
    "- 預期輸出：一個長度 10 的數值向量。"
   ]
  },
  {
   "cell_type": "code",
   "execution_count": 2,
   "metadata": {},
   "outputs": [],
   "source": [
    "get_first_ten_odds <- function() {\n",
    "    # first_ten_odds <- get_first_ten_odds()\n",
    "    # first_ten_odds[1]\n",
    "    # 1\n",
    "    # first_ten_odds[2]\n",
    "    # 3\n",
    "    # first_ten_odds[10]\n",
    "    # 19\n",
    "    ### BEGIN SOLUTION\n",
    "    \n",
    "    ### END SOLUTION\n",
    "}"
   ]
  },
  {
   "cell_type": "markdown",
   "metadata": {},
   "source": [
    "## 自行定義函數 `get_first_ten_evens` 能夠回傳前十個偶數。\n",
    "\n",
    "- 預期輸入：無。\n",
    "- 預期輸出：一個長度 10 的數值向量。"
   ]
  },
  {
   "cell_type": "code",
   "execution_count": 3,
   "metadata": {},
   "outputs": [],
   "source": [
    "get_first_ten_evens <- function() {\n",
    "    # first_ten_evens <- get_first_ten_evens()\n",
    "    # first_ten_evens[1]\n",
    "    # 0\n",
    "    # first_ten_evens[2]\n",
    "    # 2\n",
    "    # first_ten_evens[10]\n",
    "    # 18\n",
    "    ### BEGIN SOLUTION\n",
    "    \n",
    "    ### END SOLUTION\n",
    "}"
   ]
  },
  {
   "cell_type": "markdown",
   "metadata": {},
   "source": [
    "## 自行定義函數 `get_first_ten_primes` 能夠回傳前十個質數。\n",
    "\n",
    "- 預期輸入：無。\n",
    "- 預期輸出：一個長度 10 的數值向量。"
   ]
  },
  {
   "cell_type": "code",
   "execution_count": 4,
   "metadata": {},
   "outputs": [],
   "source": [
    "get_first_ten_primes <- function() {\n",
    "    # first_ten_primes <- get_first_ten_primes()\n",
    "    # print(first_ten_primes)\n",
    "    # [1]  2  3  5  7 11 13 17 19 23 29\n",
    "    ### BEGIN SOLUTION\n",
    "    \n",
    "    ### END SOLUTION\n",
    "}"
   ]
  },
  {
   "cell_type": "markdown",
   "metadata": {},
   "source": [
    "## 自行定義函數 `get_logicals` 能夠回傳所有的邏輯值。\n",
    "\n",
    "- 預期輸入：無。\n",
    "- 預期輸出：一個長度 2 的邏輯向量。"
   ]
  },
  {
   "cell_type": "code",
   "execution_count": 5,
   "metadata": {},
   "outputs": [],
   "source": [
    "get_logicals <- function() {\n",
    "    # logicals <- get_logicals()\n",
    "    # print(logicals)\n",
    "    # [1] FALSE  TRUE\n",
    "    ### BEGIN SOLUTION\n",
    "    \n",
    "    ### END SOLUTION\n",
    "}"
   ]
  },
  {
   "cell_type": "markdown",
   "metadata": {},
   "source": [
    "## 自行定義函數 `get_n_zeros` 能夠回傳長度為 n、所有元素都是 0 的數值向量。\n",
    "\n",
    "- 預期輸入：一個整數。\n",
    "- 預期輸出：一個長度為 n 的數值向量。"
   ]
  },
  {
   "cell_type": "code",
   "execution_count": 6,
   "metadata": {},
   "outputs": [],
   "source": [
    "get_n_zeros <- function(n) {\n",
    "    # get_n_zeros(3)\n",
    "    # [1] 0 0 0\n",
    "    # get_n_zeros(5)\n",
    "    # [1] 0 0 0 0 0\n",
    "    # get_n_zeros(7)\n",
    "    # [1] 0 0 0 0 0 0 0\n",
    "    ### BEGIN SOLUTION\n",
    "    \n",
    "    ### END SOLUTION\n",
    "}"
   ]
  },
  {
   "cell_type": "markdown",
   "metadata": {},
   "source": [
    "## 自行定義函數 `filter_evens(a, b)` 能夠回傳介於 `a` 與 `b` 之間的偶數，其中 $a \\leq b$。\n",
    "\n",
    "- 預期輸入：兩個整數。\n",
    "- 預期輸出：一個數值向量。"
   ]
  },
  {
   "cell_type": "code",
   "execution_count": 7,
   "metadata": {},
   "outputs": [],
   "source": [
    "filter_evens <- function(a, b) {\n",
    "    # filter_evens(1, 10)\n",
    "    # [1] 2 4 6 8 10\n",
    "    # filter_evens(2, 5)\n",
    "    # [1] 2 4\n",
    "    # filter_evens(12, 20)\n",
    "    # [1] 12 14 16 18 20\n",
    "    ### BEGIN SOLUTION\n",
    "    \n",
    "    ### END SOLUTION\n",
    "}"
   ]
  },
  {
   "cell_type": "markdown",
   "metadata": {},
   "source": [
    "## 自行定義函數 `filter_positives(v)` 能夠回傳輸入向量中的正數。\n",
    "\n",
    "- 預期輸入：一個數值向量。\n",
    "- 預期輸出：一個數值向量。"
   ]
  },
  {
   "cell_type": "code",
   "execution_count": 8,
   "metadata": {},
   "outputs": [],
   "source": [
    "filter_positives <- function(v) {\n",
    "    # filter_positives(-2:2)\n",
    "    # [1] 0 1 2\n",
    "    # filter_positives(-3:3)\n",
    "    # [1] 0 1 2 3\n",
    "    # filter_positives(c(-5, 5, -6, 6))\n",
    "    # [1] 5 6\n",
    "    ### BEGIN SOLUTION\n",
    "    \n",
    "    ### END SOLUTION\n",
    "}"
   ]
  },
  {
   "cell_type": "markdown",
   "metadata": {},
   "source": [
    "## 自行定義函數 `get_last_element(v)` 能夠回傳輸入向量中的最後一個（最右邊的）元素。\n",
    "\n",
    "- 預期輸入：一個長度不固定的向量。\n",
    "- 預期輸出：一個長度為 1 的向量。"
   ]
  },
  {
   "cell_type": "code",
   "execution_count": 9,
   "metadata": {},
   "outputs": [],
   "source": [
    "get_last_element <- function(v) {\n",
    "    # get_last_element(-2:2)\n",
    "    # [1] 2\n",
    "    # get_last_element(1:10)\n",
    "    # [1] 10\n",
    "    # get_last_element(c(\"Luke\", \"Skywalker\"))\n",
    "    # [1] \"Skywalker\"\n",
    "    # get_last_element(c(\"Luke Skywalker\", \"Anakin Skywalker\", \"Darth Vadar\"))\n",
    "    # [1] \"Darth Vadar\"\n",
    "    ### BEGIN SOLUTION\n",
    "    \n",
    "    ### END SOLUTION\n",
    "}"
   ]
  },
  {
   "cell_type": "markdown",
   "metadata": {},
   "source": [
    "## 自行定義函數 `get_middle_element(v)` 能夠回傳輸入向量中間位置的元素，僅考慮奇數長度的向量即可。\n",
    "\n",
    "- 預期輸入：一個長度不固定的向量。\n",
    "- 預期輸出：一個長度為 1 的向量。"
   ]
  },
  {
   "cell_type": "code",
   "execution_count": 10,
   "metadata": {},
   "outputs": [],
   "source": [
    "get_middle_element <- function(v) {\n",
    "    # get_middle_element(-2:2)\n",
    "    # [1] 0\n",
    "    # get_middle_element(c(\"Luke Skywalker\", \"Anakin Skywalker\", \"Darth Vadar\"))\n",
    "    # [1] \"Anakin Skywalker\"\n",
    "    # get_middle_element(1:9)\n",
    "    # [1] 5\n",
    "    ### BEGIN SOLUTION\n",
    "    \n",
    "    ### END SOLUTION\n",
    "}"
   ]
  },
  {
   "cell_type": "markdown",
   "metadata": {},
   "source": [
    "## 自行定義函數 `count_day_difference(a, b)` 能夠回傳輸入文字向量間的日數差距。\n",
    "\n",
    "- 預期輸入：兩個 ISO8601 日期格式的文字向量。\n",
    "- 預期輸出：一個數值向量。"
   ]
  },
  {
   "cell_type": "code",
   "execution_count": 11,
   "metadata": {},
   "outputs": [],
   "source": [
    "count_day_difference <- function(a, b) {\n",
    "    # count_day_difference(\"2021-01-01\", \"2021-01-31\")\n",
    "    # [1] 30\n",
    "    # count_day_difference(\"2021-02-01\", \"2021-02-28\")\n",
    "    # [1] 27\n",
    "    # count_day_difference(\"2021-03-01\", \"2021-03-31\")\n",
    "    # [1] 30\n",
    "    # count_day_difference(\"2021-01-01\", \"2021-03-31\")\n",
    "    # [1] 89\n",
    "    ### BEGIN SOLUTION\n",
    "    \n",
    "    ### END SOLUTION\n",
    "}"
   ]
  },
  {
   "cell_type": "markdown",
   "metadata": {
    "deletable": false,
    "editable": false
   },
   "source": [
    "## 執行測試\n",
    "\n",
    "Kernel -> Restart & Run All. -> Restart and Run All Cells. "
   ]
  },
  {
   "cell_type": "code",
   "execution_count": 12,
   "metadata": {
    "deletable": false,
    "editable": false
   },
   "outputs": [
    {
     "name": "stdout",
     "output_type": "stream",
     "text": [
      "── \u001b[1m\u001b[33mFailure\u001b[39m (<text>:3:9): test_get_first_ten_odds\u001b[22m ───────────────────────────────\n",
      "length(get_first_ten_odds()) not equal to 10.\n",
      "1/1 mismatches\n",
      "[1] 0 - 10 == -10\n",
      "\n",
      "── \u001b[1m\u001b[33mFailure\u001b[39m (<text>:4:9): test_get_first_ten_odds\u001b[22m ───────────────────────────────\n",
      "get_first_ten_odds()[1] not equal to 1.\n",
      "target is NULL, current is numeric\n",
      "\n",
      "── \u001b[1m\u001b[33mFailure\u001b[39m (<text>:5:9): test_get_first_ten_odds\u001b[22m ───────────────────────────────\n",
      "get_first_ten_odds()[2] not equal to 3.\n",
      "target is NULL, current is numeric\n",
      "\n",
      "── \u001b[1m\u001b[33mFailure\u001b[39m (<text>:6:9): test_get_first_ten_odds\u001b[22m ───────────────────────────────\n",
      "get_first_ten_odds()[10] not equal to 19.\n",
      "target is NULL, current is numeric\n",
      "\n",
      "── \u001b[1m\u001b[33mFailure\u001b[39m (<text>:13:9): test_get_first_ten_evens\u001b[22m ─────────────────────────────\n",
      "length(get_first_ten_evens()) not equal to 10.\n",
      "1/1 mismatches\n",
      "[1] 0 - 10 == -10\n",
      "\n",
      "── \u001b[1m\u001b[33mFailure\u001b[39m (<text>:14:9): test_get_first_ten_evens\u001b[22m ─────────────────────────────\n",
      "get_first_ten_evens()[1] not equal to 0.\n",
      "target is NULL, current is numeric\n",
      "\n",
      "── \u001b[1m\u001b[33mFailure\u001b[39m (<text>:15:9): test_get_first_ten_evens\u001b[22m ─────────────────────────────\n",
      "get_first_ten_evens()[2] not equal to 2.\n",
      "target is NULL, current is numeric\n",
      "\n",
      "── \u001b[1m\u001b[33mFailure\u001b[39m (<text>:16:9): test_get_first_ten_evens\u001b[22m ─────────────────────────────\n",
      "get_first_ten_evens()[10] not equal to 18.\n",
      "target is NULL, current is numeric\n",
      "\n",
      "── \u001b[1m\u001b[33mFailure\u001b[39m (<text>:23:9): test_get_first_ten_primes\u001b[22m ────────────────────────────\n",
      "length(get_first_ten_primes()) not equal to 10.\n",
      "1/1 mismatches\n",
      "[1] 0 - 10 == -10\n",
      "\n",
      "── \u001b[1m\u001b[33mFailure\u001b[39m (<text>:24:9): test_get_first_ten_primes\u001b[22m ────────────────────────────\n",
      "get_first_ten_primes() not equal to c(2, 3, 5, 7, 11, 13, 17, 19, 23, 29).\n",
      "target is NULL, current is numeric\n",
      "\n",
      "── \u001b[1m\u001b[33mFailure\u001b[39m (<text>:31:9): test_get_logicals\u001b[22m ────────────────────────────────────\n",
      "length(get_logicals()) not equal to 2.\n",
      "1/1 mismatches\n",
      "[1] 0 - 2 == -2\n",
      "\n",
      "── \u001b[1m\u001b[33mFailure\u001b[39m (<text>:32:9): test_get_logicals\u001b[22m ────────────────────────────────────\n",
      "FALSE %in% get_logicals() is not TRUE\n",
      "\n",
      "`actual`:   \u001b[32mFALSE\u001b[39m\n",
      "`expected`: \u001b[32mTRUE\u001b[39m \n",
      "\n",
      "── \u001b[1m\u001b[33mFailure\u001b[39m (<text>:33:9): test_get_logicals\u001b[22m ────────────────────────────────────\n",
      "TRUE %in% get_logicals() is not TRUE\n",
      "\n",
      "`actual`:   \u001b[32mFALSE\u001b[39m\n",
      "`expected`: \u001b[32mTRUE\u001b[39m \n",
      "\n",
      "── \u001b[1m\u001b[33mFailure\u001b[39m (<text>:40:9): test_get_n_zeros\u001b[22m ─────────────────────────────────────\n",
      "get_n_zeros(3) not equal to c(0, 0, 0).\n",
      "target is NULL, current is numeric\n",
      "\n",
      "── \u001b[1m\u001b[33mFailure\u001b[39m (<text>:41:9): test_get_n_zeros\u001b[22m ─────────────────────────────────────\n",
      "get_n_zeros(5) not equal to c(0, 0, 0, 0, 0).\n",
      "target is NULL, current is numeric\n",
      "\n",
      "── \u001b[1m\u001b[33mFailure\u001b[39m (<text>:42:9): test_get_n_zeros\u001b[22m ─────────────────────────────────────\n",
      "get_n_zeros(7) not equal to c(0, 0, 0, 0, 0, 0, 0).\n",
      "target is NULL, current is numeric\n",
      "\n",
      "── \u001b[1m\u001b[33mFailure\u001b[39m (<text>:49:9): test_filter_evens\u001b[22m ────────────────────────────────────\n",
      "filter_evens(1, 10) not equal to c(2, 4, 6, 8, 10).\n",
      "target is NULL, current is numeric\n",
      "\n",
      "── \u001b[1m\u001b[33mFailure\u001b[39m (<text>:50:9): test_filter_evens\u001b[22m ────────────────────────────────────\n",
      "filter_evens(2, 5) not equal to c(2, 4).\n",
      "target is NULL, current is numeric\n",
      "\n",
      "── \u001b[1m\u001b[33mFailure\u001b[39m (<text>:51:9): test_filter_evens\u001b[22m ────────────────────────────────────\n",
      "filter_evens(12, 20) not equal to c(12, 14, 16, 18, 20).\n",
      "target is NULL, current is numeric\n",
      "\n",
      "── \u001b[1m\u001b[33mFailure\u001b[39m (<text>:58:9): test_filter_positives\u001b[22m ────────────────────────────────\n",
      "filter_positives(-2:2) not equal to c(0, 1, 2).\n",
      "target is NULL, current is numeric\n",
      "\n",
      "── \u001b[1m\u001b[33mFailure\u001b[39m (<text>:59:9): test_filter_positives\u001b[22m ────────────────────────────────\n",
      "filter_positives(-3:3) not equal to c(0, 1, 2, 3).\n",
      "target is NULL, current is numeric\n",
      "\n",
      "── \u001b[1m\u001b[33mFailure\u001b[39m (<text>:60:9): test_filter_positives\u001b[22m ────────────────────────────────\n",
      "filter_positives(c(-5, 5, -6, 6)) not equal to c(5, 6).\n",
      "target is NULL, current is numeric\n",
      "\n",
      "── \u001b[1m\u001b[33mFailure\u001b[39m (<text>:67:9): test_get_last_element\u001b[22m ────────────────────────────────\n",
      "get_last_element(-2:2) not equal to 2.\n",
      "target is NULL, current is numeric\n",
      "\n",
      "── \u001b[1m\u001b[33mFailure\u001b[39m (<text>:68:9): test_get_last_element\u001b[22m ────────────────────────────────\n",
      "get_last_element(1:10) not equal to 10.\n",
      "target is NULL, current is numeric\n",
      "\n",
      "── \u001b[1m\u001b[33mFailure\u001b[39m (<text>:69:9): test_get_last_element\u001b[22m ────────────────────────────────\n",
      "get_last_element(c(\"Luke\", \"Skywalker\")) not equal to \"Skywalker\".\n",
      "target is NULL, current is character\n",
      "\n",
      "── \u001b[1m\u001b[33mFailure\u001b[39m (<text>:70:9): test_get_last_element\u001b[22m ────────────────────────────────\n",
      "get_last_element(c(\"Luke Skywalker\", \"Anakin Skywalker\", \"Darth Vadar\")) not equal to \"Darth Vadar\".\n",
      "target is NULL, current is character\n",
      "\n",
      "── \u001b[1m\u001b[33mFailure\u001b[39m (<text>:77:9): test_get_middle_element\u001b[22m ──────────────────────────────\n",
      "get_middle_element(-2:2) not equal to 0.\n",
      "target is NULL, current is numeric\n",
      "\n",
      "── \u001b[1m\u001b[33mFailure\u001b[39m (<text>:78:9): test_get_middle_element\u001b[22m ──────────────────────────────\n",
      "get_middle_element(c(\"Luke Skywalker\", \"Anakin Skywalker\", \"Darth Vadar\")) not equal to \"Anakin Skywalker\".\n",
      "target is NULL, current is character\n",
      "\n",
      "── \u001b[1m\u001b[33mFailure\u001b[39m (<text>:79:9): test_get_middle_element\u001b[22m ──────────────────────────────\n",
      "get_middle_element(1:9) not equal to 5.\n",
      "target is NULL, current is numeric\n",
      "\n",
      "── \u001b[1m\u001b[33mFailure\u001b[39m (<text>:86:9): test_get_middle_element\u001b[22m ──────────────────────────────\n",
      "get_middle_element(-2:2) not equal to 0.\n",
      "target is NULL, current is numeric\n",
      "\n",
      "── \u001b[1m\u001b[33mFailure\u001b[39m (<text>:87:9): test_get_middle_element\u001b[22m ──────────────────────────────\n",
      "get_middle_element(c(\"Luke Skywalker\", \"Anakin Skywalker\", \"Darth Vadar\")) not equal to \"Anakin Skywalker\".\n",
      "target is NULL, current is character\n",
      "\n",
      "── \u001b[1m\u001b[33mFailure\u001b[39m (<text>:88:9): test_get_middle_element\u001b[22m ──────────────────────────────\n",
      "get_middle_element(1:9) not equal to 5.\n",
      "target is NULL, current is numeric\n",
      "\n",
      "── \u001b[1m\u001b[33mFailure\u001b[39m (<text>:95:9): test_count_day_difference\u001b[22m ────────────────────────────\n",
      "count_day_difference(\"2021-01-01\", \"2021-01-31\") not equal to 30.\n",
      "target is NULL, current is numeric\n",
      "\n",
      "── \u001b[1m\u001b[33mFailure\u001b[39m (<text>:96:9): test_count_day_difference\u001b[22m ────────────────────────────\n",
      "count_day_difference(\"2021-02-01\", \"2021-02-28\") not equal to 27.\n",
      "target is NULL, current is numeric\n",
      "\n",
      "── \u001b[1m\u001b[33mFailure\u001b[39m (<text>:97:9): test_count_day_difference\u001b[22m ────────────────────────────\n",
      "count_day_difference(\"2021-03-01\", \"2021-03-31\") not equal to 30.\n",
      "target is NULL, current is numeric\n",
      "\n",
      "── \u001b[1m\u001b[33mFailure\u001b[39m (<text>:98:9): test_count_day_difference\u001b[22m ────────────────────────────\n",
      "count_day_difference(\"2021-01-01\", \"2021-03-31\") not equal to 89.\n",
      "target is NULL, current is numeric\n",
      "\n"
     ]
    }
   ],
   "source": [
    "test_get_first_ten_odds <- tryCatch({\n",
    "    test_that(\"test_get_first_ten_odds\", {\n",
    "        expect_equal(length(get_first_ten_odds()), 10)\n",
    "        expect_equal(get_first_ten_odds()[1], 1)\n",
    "        expect_equal(get_first_ten_odds()[2], 3)\n",
    "        expect_equal(get_first_ten_odds()[10], 19)\n",
    "    })\n",
    "    }, error = function(e) {\n",
    "        FALSE\n",
    "})\n",
    "test_get_first_ten_evens <- tryCatch({\n",
    "    test_that(\"test_get_first_ten_evens\", {\n",
    "        expect_equal(length(get_first_ten_evens()), 10)\n",
    "        expect_equal(get_first_ten_evens()[1], 0)\n",
    "        expect_equal(get_first_ten_evens()[2], 2)\n",
    "        expect_equal(get_first_ten_evens()[10], 18)\n",
    "    })\n",
    "    }, error = function(e) {\n",
    "        FALSE\n",
    "})\n",
    "test_get_first_ten_primes <- tryCatch({\n",
    "    test_that(\"test_get_first_ten_primes\", {\n",
    "        expect_equal(length(get_first_ten_primes()), 10)\n",
    "        expect_equal(get_first_ten_primes(), c(2, 3, 5, 7, 11, 13, 17, 19, 23, 29))\n",
    "    })\n",
    "    }, error = function(e) {\n",
    "        FALSE\n",
    "})\n",
    "test_get_logicals <- tryCatch({\n",
    "    test_that(\"test_get_logicals\", {\n",
    "        expect_equal(length(get_logicals()), 2)\n",
    "        expect_true(FALSE %in% get_logicals())\n",
    "        expect_true(TRUE %in% get_logicals())\n",
    "    })\n",
    "    }, error = function(e) {\n",
    "        FALSE\n",
    "})\n",
    "test_get_n_zeros <- tryCatch({\n",
    "    test_that(\"test_get_n_zeros\", {\n",
    "        expect_equal(get_n_zeros(3), c(0, 0, 0))\n",
    "        expect_equal(get_n_zeros(5), c(0, 0, 0, 0, 0))\n",
    "        expect_equal(get_n_zeros(7), c(0, 0, 0, 0, 0, 0, 0))\n",
    "    })\n",
    "    }, error = function(e) {\n",
    "        FALSE\n",
    "})\n",
    "test_filter_evens <- tryCatch({\n",
    "    test_that(\"test_filter_evens\", {\n",
    "        expect_equal(filter_evens(1, 10), c(2, 4, 6, 8, 10))\n",
    "        expect_equal(filter_evens(2, 5), c(2, 4))\n",
    "        expect_equal(filter_evens(12, 20), c(12, 14, 16, 18, 20))\n",
    "    })\n",
    "    }, error = function(e) {\n",
    "        FALSE\n",
    "})\n",
    "test_filter_positives <- tryCatch({\n",
    "    test_that(\"test_filter_positives\", {\n",
    "        expect_equal(filter_positives(-2:2), c(0, 1, 2))\n",
    "        expect_equal(filter_positives(-3:3), c(0, 1, 2, 3))\n",
    "        expect_equal(filter_positives(c(-5, 5, -6, 6)), c(5, 6))\n",
    "    })\n",
    "    }, error = function(e) {\n",
    "        FALSE\n",
    "})\n",
    "test_get_last_element <- tryCatch({\n",
    "    test_that(\"test_get_last_element\", {\n",
    "        expect_equal(get_last_element(-2:2), 2)\n",
    "        expect_equal(get_last_element(1:10), 10)\n",
    "        expect_equal(get_last_element(c(\"Luke\", \"Skywalker\")), \"Skywalker\")\n",
    "        expect_equal(get_last_element(c(\"Luke Skywalker\", \"Anakin Skywalker\", \"Darth Vadar\")), \"Darth Vadar\")\n",
    "    })\n",
    "    }, error = function(e) {\n",
    "        FALSE\n",
    "})\n",
    "test_get_middle_element <- tryCatch({\n",
    "    test_that(\"test_get_middle_element\", {\n",
    "        expect_equal(get_middle_element(-2:2), 0)\n",
    "        expect_equal(get_middle_element(c(\"Luke Skywalker\", \"Anakin Skywalker\", \"Darth Vadar\")), \"Anakin Skywalker\")\n",
    "        expect_equal(get_middle_element(1:9), 5)\n",
    "    })\n",
    "    }, error = function(e) {\n",
    "        FALSE\n",
    "})\n",
    "test_get_middle_element <- tryCatch({\n",
    "    test_that(\"test_get_middle_element\", {\n",
    "        expect_equal(get_middle_element(-2:2), 0)\n",
    "        expect_equal(get_middle_element(c(\"Luke Skywalker\", \"Anakin Skywalker\", \"Darth Vadar\")), \"Anakin Skywalker\")\n",
    "        expect_equal(get_middle_element(1:9), 5)\n",
    "    })\n",
    "    }, error = function(e) {\n",
    "        FALSE\n",
    "})\n",
    "test_count_day_difference <- tryCatch({\n",
    "    test_that(\"test_count_day_difference\", {\n",
    "        expect_equal(count_day_difference(\"2021-01-01\", \"2021-01-31\"), 30)\n",
    "        expect_equal(count_day_difference(\"2021-02-01\", \"2021-02-28\"), 27)\n",
    "        expect_equal(count_day_difference(\"2021-03-01\", \"2021-03-31\"), 30)\n",
    "        expect_equal(count_day_difference(\"2021-01-01\", \"2021-03-31\"), 89)\n",
    "    })\n",
    "    }, error = function(e) {\n",
    "        FALSE\n",
    "})\n",
    "all_tests <- c(test_get_first_ten_odds, \n",
    "               test_get_first_ten_evens,\n",
    "               test_get_first_ten_primes,\n",
    "               test_get_logicals,\n",
    "               test_get_n_zeros,\n",
    "               test_filter_evens,\n",
    "               test_filter_positives,\n",
    "               test_get_last_element,\n",
    "               test_get_middle_element,\n",
    "               test_count_day_difference\n",
    "              )\n",
    "passed_tests <- sum(all_tests)"
   ]
  },
  {
   "cell_type": "code",
   "execution_count": 13,
   "metadata": {
    "deletable": false,
    "editable": false
   },
   "outputs": [
    {
     "data": {
      "text/html": [
       "'在 10 題練習中，您總共答對了 0 題。'"
      ],
      "text/latex": [
       "'在 10 題練習中，您總共答對了 0 題。'"
      ],
      "text/markdown": [
       "'在 10 題練習中，您總共答對了 0 題。'"
      ],
      "text/plain": [
       "[1] \"在 10 題練習中，您總共答對了 0 題。\""
      ]
     },
     "metadata": {},
     "output_type": "display_data"
    }
   ],
   "source": [
    "sprintf(\"在 %s 題練習中，您總共答對了 %s 題。\", length(all_tests), passed_tests)"
   ]
  }
 ],
 "metadata": {
  "kernelspec": {
   "display_name": "R",
   "language": "R",
   "name": "ir"
  },
  "language_info": {
   "codemirror_mode": "r",
   "file_extension": ".r",
   "mimetype": "text/x-r-source",
   "name": "R",
   "pygments_lexer": "r",
   "version": "4.0.5"
  }
 },
 "nbformat": 4,
 "nbformat_minor": 4
}
