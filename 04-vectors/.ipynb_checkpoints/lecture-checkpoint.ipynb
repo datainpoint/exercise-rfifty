{
 "cells": [
  {
   "cell_type": "markdown",
   "metadata": {
    "slideshow": {
     "slide_type": "slide"
    }
   },
   "source": [
    "# R 語言的五十道練習\n",
    "\n",
    "> 資料結構：向量\n",
    "\n",
    "[數據交點](https://www.datainpoint.com) | 郭耀仁 <yaojenkuo@datainpoint.com>"
   ]
  },
  {
   "cell_type": "markdown",
   "metadata": {
    "slideshow": {
     "slide_type": "subslide"
    }
   },
   "source": [
    "## R 語言中的資料結構\n",
    "\n",
    "- **向量（vector）**\n",
    "- 清單（list）\n",
    "- 資料框（data.frame）\n",
    "- 因素向量（factor）\n",
    "- 矩陣（matrix）\n",
    "- 陣列（array）"
   ]
  },
  {
   "cell_type": "markdown",
   "metadata": {
    "slideshow": {
     "slide_type": "slide"
    }
   },
   "source": [
    "## 什麼是向量"
   ]
  },
  {
   "cell_type": "markdown",
   "metadata": {
    "slideshow": {
     "slide_type": "subslide"
    }
   },
   "source": [
    "## 什麼是向量\n",
    "\n",
    "向量是 R 語言基本的資料結構，包含相同類型的元素，所有 R 語言的進階應用都建構在向量之上，例如其他資料結構以及函數等。"
   ]
  },
  {
   "cell_type": "markdown",
   "metadata": {
    "slideshow": {
     "slide_type": "slide"
    }
   },
   "source": [
    "## 如何創造向量"
   ]
  },
  {
   "cell_type": "markdown",
   "metadata": {
    "slideshow": {
     "slide_type": "subslide"
    }
   },
   "source": [
    "## 創造長度為 1 的向量\n",
    "\n",
    "直接使用 `<-` 符號。"
   ]
  },
  {
   "cell_type": "code",
   "execution_count": 1,
   "metadata": {
    "slideshow": {
     "slide_type": "subslide"
    }
   },
   "outputs": [],
   "source": [
    "skywalker <- \"Luke Skywalker\"\n",
    "num <- 5566\n",
    "logical_true <- TRUE\n",
    "logical_false <- FALSE"
   ]
  },
  {
   "cell_type": "markdown",
   "metadata": {
    "slideshow": {
     "slide_type": "subslide"
    }
   },
   "source": [
    "## 創造長度大於 1 的向量\n",
    "\n",
    "- 使用 `c` 函數。\n",
    "- 使用 `seq` 函數。\n",
    "- 使用 `rep` 函數。"
   ]
  },
  {
   "cell_type": "markdown",
   "metadata": {
    "slideshow": {
     "slide_type": "subslide"
    }
   },
   "source": [
    "## 使用 `c` 函數\n",
    "\n",
    "Combine 合併的縮寫。\n",
    "\n",
    "```r\n",
    "c(...)\n",
    "```"
   ]
  },
  {
   "cell_type": "code",
   "execution_count": 2,
   "metadata": {
    "slideshow": {
     "slide_type": "-"
    }
   },
   "outputs": [],
   "source": [
    "skywalkers <- c(\"Anakin Skywalker\", \"Luke Skywalker\")\n",
    "nums <- c(5566, 55, 66, 56)\n",
    "logicals <- c(TRUE, FALSE)"
   ]
  },
  {
   "cell_type": "markdown",
   "metadata": {
    "slideshow": {
     "slide_type": "subslide"
    }
   },
   "source": [
    "## 以 `length` 函數量測向量的長度（元素個數）"
   ]
  },
  {
   "cell_type": "code",
   "execution_count": 3,
   "metadata": {},
   "outputs": [
    {
     "name": "stdout",
     "output_type": "stream",
     "text": [
      "[1] 2\n",
      "[1] 4\n",
      "[1] 2\n"
     ]
    }
   ],
   "source": [
    "print(length(skywalkers))\n",
    "print(length(nums))\n",
    "print(length(logicals))"
   ]
  },
  {
   "cell_type": "markdown",
   "metadata": {
    "slideshow": {
     "slide_type": "subslide"
    }
   },
   "source": [
    "## 使用 `seq` 函數\n",
    "\n",
    "創造一個起始值為 `from`、終止值為 `to`、間隔為 `by`、長度為 `length.out` 的向量。\n",
    "\n",
    "```r\n",
    "seq(from = , to = , by = , length.out = )\n",
    "```"
   ]
  },
  {
   "cell_type": "code",
   "execution_count": 4,
   "metadata": {
    "slideshow": {
     "slide_type": "subslide"
    }
   },
   "outputs": [
    {
     "name": "stdout",
     "output_type": "stream",
     "text": [
      " [1]  1  2  3  4  5  6  7  8  9 10\n",
      "[1] 1 3 5 7 9\n",
      "[1]  2  4  6  8 10\n"
     ]
    }
   ],
   "source": [
    "nums <- seq(from = 1, to = 10)\n",
    "odds <- seq(from = 1, to = 9, by = 2)\n",
    "evens <- seq(from = 2, to = 10, length.out = 5)\n",
    "print(nums)\n",
    "print(odds)\n",
    "print(evens)"
   ]
  },
  {
   "cell_type": "markdown",
   "metadata": {
    "slideshow": {
     "slide_type": "subslide"
    }
   },
   "source": [
    "## 在採用 `by = 1` 預設值的時候，可以使用 `:` 運算符創造"
   ]
  },
  {
   "cell_type": "code",
   "execution_count": 5,
   "metadata": {},
   "outputs": [
    {
     "name": "stdout",
     "output_type": "stream",
     "text": [
      " [1]  1  2  3  4  5  6  7  8  9 10\n"
     ]
    }
   ],
   "source": [
    "nums <- 1:10 # seq(from = 1, to = 10)\n",
    "print(nums)"
   ]
  },
  {
   "cell_type": "markdown",
   "metadata": {
    "slideshow": {
     "slide_type": "subslide"
    }
   },
   "source": [
    "## 使用 `rep` 函數\n",
    "\n",
    "複製輸入的向量 `times` 次。\n",
    "\n",
    "```r\n",
    "rep(..., times = )\n",
    "```"
   ]
  },
  {
   "cell_type": "code",
   "execution_count": 6,
   "metadata": {
    "slideshow": {
     "slide_type": "subslide"
    }
   },
   "outputs": [
    {
     "name": "stdout",
     "output_type": "stream",
     "text": [
      "[1] 5566 5566 5566 5566 5566\n",
      " [1]  TRUE FALSE  TRUE FALSE  TRUE FALSE  TRUE FALSE  TRUE FALSE\n"
     ]
    }
   ],
   "source": [
    "nums <- rep(5566, times = 5)\n",
    "logicals <- rep(c(TRUE, FALSE), times = 5)\n",
    "print(nums)\n",
    "print(logicals)"
   ]
  },
  {
   "cell_type": "markdown",
   "metadata": {
    "slideshow": {
     "slide_type": "slide"
    }
   },
   "source": [
    "## 函數的分類"
   ]
  },
  {
   "cell_type": "markdown",
   "metadata": {
    "slideshow": {
     "slide_type": "subslide"
    }
   },
   "source": [
    "## 函數依照功能可以分為兩大類：\n",
    "\n",
    "1. 通用函數（Universal functions）。\n",
    "2. 聚合函數（Aggregate functions）。"
   ]
  },
  {
   "cell_type": "markdown",
   "metadata": {
    "slideshow": {
     "slide_type": "subslide"
    }
   },
   "source": [
    "## 通用函數與聚合函數的不同在於輸入與輸出的長度是否相同\n",
    "\n",
    "- 輸出與輸入的長度相同稱為「通用函數」。\n",
    "- 輸出與輸入的長度不同（輸出小於輸入）稱為聚合函數。"
   ]
  },
  {
   "cell_type": "markdown",
   "metadata": {
    "slideshow": {
     "slide_type": "subslide"
    }
   },
   "source": [
    "## 通用函數：以內建通用函數 `sqrt` 為例\n",
    "\n",
    "將輸入的數值取平方根。\n",
    "\n",
    "```r\n",
    "sqrt(x)\n",
    "```"
   ]
  },
  {
   "cell_type": "code",
   "execution_count": 7,
   "metadata": {
    "slideshow": {
     "slide_type": "subslide"
    }
   },
   "outputs": [
    {
     "name": "stdout",
     "output_type": "stream",
     "text": [
      "[1] 3 4 5\n"
     ]
    }
   ],
   "source": [
    "input_numeric <- c(9, 16, 25)\n",
    "output_numeric <- sqrt(input_numeric)\n",
    "print(output_numeric)"
   ]
  },
  {
   "cell_type": "markdown",
   "metadata": {
    "slideshow": {
     "slide_type": "subslide"
    }
   },
   "source": [
    "## 通用函數：以內建通用函數 `toupper` 為例\n",
    "\n",
    "將輸入的文字轉換為大寫。\n",
    "\n",
    "```r\n",
    "toupper(x)\n",
    "```"
   ]
  },
  {
   "cell_type": "code",
   "execution_count": 8,
   "metadata": {
    "slideshow": {
     "slide_type": "subslide"
    }
   },
   "outputs": [
    {
     "name": "stdout",
     "output_type": "stream",
     "text": [
      "[1] \"LUKE SKYWALKER\"   \"ANAKIN SKYWALKER\" \"DARTH VADAR\"     \n"
     ]
    }
   ],
   "source": [
    "input_characters <- c(\"Luke Skywalker\", \"Anakin Skywalker\", \"Darth Vadar\")\n",
    "output_characters <- toupper(input_characters)\n",
    "print(output_characters)"
   ]
  },
  {
   "cell_type": "markdown",
   "metadata": {
    "slideshow": {
     "slide_type": "subslide"
    }
   },
   "source": [
    "## 聚合函數：以內建聚合函數 `sum` 為例\n",
    "\n",
    "加總輸入的數值。\n",
    "\n",
    "```r\n",
    "sum(x)\n",
    "```"
   ]
  },
  {
   "cell_type": "code",
   "execution_count": 9,
   "metadata": {
    "slideshow": {
     "slide_type": "subslide"
    }
   },
   "outputs": [
    {
     "name": "stdout",
     "output_type": "stream",
     "text": [
      "[1] 50\n"
     ]
    }
   ],
   "source": [
    "input_numeric <- c(9, 16, 25)\n",
    "output_numeric <- sum(input_numeric)\n",
    "print(output_numeric)"
   ]
  },
  {
   "cell_type": "markdown",
   "metadata": {
    "slideshow": {
     "slide_type": "subslide"
    }
   },
   "source": [
    "## 聚合函數：以內建聚合函數 `mean` 為例\n",
    "\n",
    "平均輸入的數值。\n",
    "\n",
    "```r\n",
    "mean(x)\n",
    "```"
   ]
  },
  {
   "cell_type": "code",
   "execution_count": 10,
   "metadata": {
    "slideshow": {
     "slide_type": "subslide"
    }
   },
   "outputs": [
    {
     "name": "stdout",
     "output_type": "stream",
     "text": [
      "[1] 16.66667\n"
     ]
    }
   ],
   "source": [
    "input_numeric <- c(9, 16, 25)\n",
    "output_numeric <- mean(input_numeric)\n",
    "print(output_numeric)"
   ]
  },
  {
   "cell_type": "markdown",
   "metadata": {
    "slideshow": {
     "slide_type": "slide"
    }
   },
   "source": [
    "## 如何讀取向量"
   ]
  },
  {
   "cell_type": "markdown",
   "metadata": {
    "slideshow": {
     "slide_type": "subslide"
    }
   },
   "source": [
    "## 使用 `[index]` 讀取為長度 1 的向量\n",
    "\n",
    "- `index` 稱為索引值，由左邊自 1 起始算起。\n",
    "- 最右邊的索引值常以向量長度表示。"
   ]
  },
  {
   "cell_type": "code",
   "execution_count": 11,
   "metadata": {
    "slideshow": {
     "slide_type": "subslide"
    }
   },
   "outputs": [
    {
     "name": "stdout",
     "output_type": "stream",
     "text": [
      "[1] 11\n",
      "[1] 12\n",
      "[1] 20\n"
     ]
    }
   ],
   "source": [
    "nums <- 11:20\n",
    "length_nums <- length(nums)\n",
    "print(nums[1])\n",
    "print(nums[2])\n",
    "print(nums[length_nums])"
   ]
  },
  {
   "cell_type": "markdown",
   "metadata": {
    "slideshow": {
     "slide_type": "subslide"
    }
   },
   "source": [
    "## 使用 `[start_index:stop_index]` 讀取為部分長度的向量\n",
    "\n",
    "- `start_index:stop_index` 稱為切割。\n",
    "- `start_index` 與 `stop_index` 均會包含。"
   ]
  },
  {
   "cell_type": "code",
   "execution_count": 12,
   "metadata": {
    "slideshow": {
     "slide_type": "subslide"
    }
   },
   "outputs": [
    {
     "name": "stdout",
     "output_type": "stream",
     "text": [
      "[1] 11 12 13\n",
      "[1] 18 19 20\n"
     ]
    }
   ],
   "source": [
    "nums <- 11:20\n",
    "length_nums <- length(nums)\n",
    "print(nums[1:3])\n",
    "print(nums[(length_nums - 2):length_nums])"
   ]
  },
  {
   "cell_type": "markdown",
   "metadata": {
    "slideshow": {
     "slide_type": "subslide"
    }
   },
   "source": [
    "## 使用 `[c(index_1, index_2, ...)]` 讀取為部分長度的向量"
   ]
  },
  {
   "cell_type": "code",
   "execution_count": 13,
   "metadata": {},
   "outputs": [
    {
     "name": "stdout",
     "output_type": "stream",
     "text": [
      "[1] 11 12 13 18 19 20\n"
     ]
    }
   ],
   "source": [
    "nums <- 11:20\n",
    "length_nums <- length(nums)\n",
    "print(nums[c(1:3, (length_nums - 2):length_nums)])"
   ]
  },
  {
   "cell_type": "markdown",
   "metadata": {
    "slideshow": {
     "slide_type": "subslide"
    }
   },
   "source": [
    "## 使用邏輯讀取為部分長度的向量\n",
    "\n",
    "與邏輯向量 `TRUE` 相同索引值位置的會被保留。"
   ]
  },
  {
   "cell_type": "code",
   "execution_count": 14,
   "metadata": {
    "slideshow": {
     "slide_type": "subslide"
    }
   },
   "outputs": [
    {
     "name": "stdout",
     "output_type": "stream",
     "text": [
      " [1] FALSE FALSE FALSE FALSE FALSE  TRUE  TRUE  TRUE  TRUE  TRUE\n",
      "[1] 16 17 18 19 20\n"
     ]
    }
   ],
   "source": [
    "nums <- 11:20\n",
    "logicals <- nums > 15\n",
    "print(logicals)\n",
    "print(nums[logicals])"
   ]
  },
  {
   "cell_type": "markdown",
   "metadata": {
    "slideshow": {
     "slide_type": "slide"
    }
   },
   "source": [
    "## 如何更新向量"
   ]
  },
  {
   "cell_type": "markdown",
   "metadata": {
    "slideshow": {
     "slide_type": "subslide"
    }
   },
   "source": [
    "## 使用 `[index]` 更新向量中的資料值"
   ]
  },
  {
   "cell_type": "code",
   "execution_count": 15,
   "metadata": {},
   "outputs": [
    {
     "name": "stdout",
     "output_type": "stream",
     "text": [
      " [1] 100  12  13  14  15  16  17  18  19 200\n"
     ]
    }
   ],
   "source": [
    "nums <- 11:20\n",
    "length_nums <- length(nums)\n",
    "nums[1] <- 100\n",
    "nums[length_nums] <- 200\n",
    "print(nums)"
   ]
  },
  {
   "cell_type": "markdown",
   "metadata": {
    "slideshow": {
     "slide_type": "subslide"
    }
   },
   "source": [
    "## 使用 `<-` 取代向量命名"
   ]
  },
  {
   "cell_type": "code",
   "execution_count": 16,
   "metadata": {},
   "outputs": [
    {
     "name": "stdout",
     "output_type": "stream",
     "text": [
      " [1] 11 12 13 14 15 16 17 18 19 20\n",
      " [1] 21 22 23 24 25 26 27 28 29 30 31 32 33 34 35 36 37 38 39 40\n"
     ]
    }
   ],
   "source": [
    "nums <- 11:20\n",
    "print(nums)\n",
    "nums <- 21:40\n",
    "print(nums)"
   ]
  },
  {
   "cell_type": "markdown",
   "metadata": {
    "slideshow": {
     "slide_type": "slide"
    }
   },
   "source": [
    "## 如何刪除向量"
   ]
  },
  {
   "cell_type": "markdown",
   "metadata": {
    "slideshow": {
     "slide_type": "subslide"
    }
   },
   "source": [
    "## 使用 `[-index]` 刪除向量中的資料值"
   ]
  },
  {
   "cell_type": "code",
   "execution_count": 17,
   "metadata": {},
   "outputs": [
    {
     "name": "stdout",
     "output_type": "stream",
     "text": [
      "[1] 12 13 14 15 16 17 18 19 20\n",
      "[1] 12 13 14 15 16 17 18 19\n"
     ]
    }
   ],
   "source": [
    "nums <- 11:20\n",
    "length_nums <- length(nums)\n",
    "print(nums[-1])\n",
    "print(nums[c(-1, -length_nums)])"
   ]
  },
  {
   "cell_type": "markdown",
   "metadata": {
    "slideshow": {
     "slide_type": "subslide"
    }
   },
   "source": [
    "## 使用邏輯刪除向量中的資料值"
   ]
  },
  {
   "cell_type": "code",
   "execution_count": 18,
   "metadata": {},
   "outputs": [
    {
     "name": "stdout",
     "output_type": "stream",
     "text": [
      "[1] 12 13 14 15 16 17 18 19\n"
     ]
    }
   ],
   "source": [
    "nums <- 11:20\n",
    "logicals <- nums < 20 & nums > 11\n",
    "print(nums[logicals])"
   ]
  },
  {
   "cell_type": "markdown",
   "metadata": {
    "slideshow": {
     "slide_type": "subslide"
    }
   },
   "source": [
    "## 使用 `rm` 函數刪除向量命名"
   ]
  },
  {
   "cell_type": "code",
   "execution_count": 19,
   "metadata": {},
   "outputs": [
    {
     "name": "stdout",
     "output_type": "stream",
     "text": [
      "[1] TRUE\n",
      "[1] FALSE\n"
     ]
    }
   ],
   "source": [
    "nums <- 11:20\n",
    "environment_objects <- ls()\n",
    "print(\"nums\" %in% environment_objects)\n",
    "rm(nums)\n",
    "environment_objects <- ls()\n",
    "print(\"nums\" %in% environment_objects)"
   ]
  },
  {
   "cell_type": "markdown",
   "metadata": {
    "slideshow": {
     "slide_type": "slide"
    }
   },
   "source": [
    "## 認識進階向量類型"
   ]
  },
  {
   "cell_type": "markdown",
   "metadata": {
    "slideshow": {
     "slide_type": "subslide"
    }
   },
   "source": [
    "## 進階向量類型\n",
    "\n",
    "- 日期 `Date`。\n",
    "- 日期時間 `POSIXct`。\n",
    "- 無限大 `Inf`。\n",
    "- 非數值 `NaN`。\n",
    "- 遺漏值 `NA`。\n",
    "- 空值 `NULL`。"
   ]
  },
  {
   "cell_type": "markdown",
   "metadata": {
    "slideshow": {
     "slide_type": "subslide"
    }
   },
   "source": [
    "## 日期 `Date`\n",
    "\n",
    "- 外觀看起來跟文字沒有什麼差別。\n",
    "- 運用 `class` 函數檢驗，就會發現並不是文字。"
   ]
  },
  {
   "cell_type": "code",
   "execution_count": 20,
   "metadata": {
    "slideshow": {
     "slide_type": "subslide"
    }
   },
   "outputs": [
    {
     "name": "stdout",
     "output_type": "stream",
     "text": [
      "[1] \"2021-06-09\"\n",
      "[1] \"Date\"\n"
     ]
    }
   ],
   "source": [
    "sys_date <- Sys.Date()\n",
    "print(sys_date)\n",
    "print(class(sys_date))"
   ]
  },
  {
   "cell_type": "markdown",
   "metadata": {
    "slideshow": {
     "slide_type": "subslide"
    }
   },
   "source": [
    "## 日期與數值可以互相轉換\n",
    "\n",
    "- 以 1970-01-01 作為原點 0，在這天以後的每天都 +1 來記錄，而這天以前的每天都 -1 來記錄。\n",
    "- 日期可以進行數值運算。"
   ]
  },
  {
   "cell_type": "code",
   "execution_count": 21,
   "metadata": {
    "slideshow": {
     "slide_type": "subslide"
    }
   },
   "outputs": [
    {
     "name": "stdout",
     "output_type": "stream",
     "text": [
      "[1] \"1969-12-31\"\n",
      "[1] \"1970-01-02\"\n"
     ]
    }
   ],
   "source": [
    "date_of_origin <- as.Date(\"1970-01-01\")\n",
    "print(date_of_origin - 1)\n",
    "print(date_of_origin + 1)"
   ]
  },
  {
   "cell_type": "markdown",
   "metadata": {
    "slideshow": {
     "slide_type": "subslide"
    }
   },
   "source": [
    "## 日期時間 `POSIXct`\n",
    "\n",
    "- 外觀看起來跟文字沒有什麼差別。\n",
    "- 運用 `class` 函數檢驗，就會發現並不是文字。"
   ]
  },
  {
   "cell_type": "code",
   "execution_count": 22,
   "metadata": {
    "slideshow": {
     "slide_type": "subslide"
    }
   },
   "outputs": [
    {
     "name": "stdout",
     "output_type": "stream",
     "text": [
      "[1] \"2021-06-09 12:55:51 CST\"\n",
      "[1] \"POSIXct\" \"POSIXt\" \n"
     ]
    }
   ],
   "source": [
    "sys_time <- Sys.time()\n",
    "print(sys_time)\n",
    "print(class(sys_time))"
   ]
  },
  {
   "cell_type": "markdown",
   "metadata": {
    "slideshow": {
     "slide_type": "subslide"
    }
   },
   "source": [
    "## 日期時間與數值可以互相轉換\n",
    "\n",
    "- 以 1970-01-01 00:00:00作為原點 0，在這個時間點以後的每秒都 +1 來記錄，而這個時間點以前的每秒都 -1 來記錄。\n",
    "- 日期時間可以進行數值運算。"
   ]
  },
  {
   "cell_type": "code",
   "execution_count": 23,
   "metadata": {
    "slideshow": {
     "slide_type": "subslide"
    }
   },
   "outputs": [
    {
     "name": "stdout",
     "output_type": "stream",
     "text": [
      "[1] \"1969-12-31 23:59:59 GMT\"\n",
      "[1] \"1970-01-01 00:00:01 GMT\"\n"
     ]
    }
   ],
   "source": [
    "datetime_of_origin <- as.POSIXct(\"1970-01-01 00:00:00\", tz = \"GMT\")\n",
    "print(datetime_of_origin - 1)\n",
    "print(datetime_of_origin + 1)"
   ]
  },
  {
   "cell_type": "markdown",
   "metadata": {
    "slideshow": {
     "slide_type": "subslide"
    }
   },
   "source": [
    "## 無限大 `Inf`\n",
    "\n",
    "- 特殊的數值向量。\n",
    "- 除法運算中若遭遇到分母為零的情況就會出現。"
   ]
  },
  {
   "cell_type": "code",
   "execution_count": 24,
   "metadata": {
    "slideshow": {
     "slide_type": "subslide"
    }
   },
   "outputs": [
    {
     "name": "stdout",
     "output_type": "stream",
     "text": [
      "[1] Inf\n",
      "[1] Inf\n",
      "[1] \"numeric\"\n",
      "[1] \"numeric\"\n"
     ]
    }
   ],
   "source": [
    "inf <- Inf\n",
    "zero_division <- 5566/0\n",
    "print(inf)\n",
    "print(zero_division)\n",
    "print(class(inf))\n",
    "print(class(zero_division))"
   ]
  },
  {
   "cell_type": "markdown",
   "metadata": {
    "slideshow": {
     "slide_type": "subslide"
    }
   },
   "source": [
    "## 非數值 `NaN`\n",
    "\n",
    "- `NaN` 意指 Not a Number。\n",
    "- 某些數值運算的結果無法使用數值或者 `Inf` 表示，就可能採用 `NaN`。"
   ]
  },
  {
   "cell_type": "code",
   "execution_count": 25,
   "metadata": {
    "slideshow": {
     "slide_type": "subslide"
    }
   },
   "outputs": [
    {
     "name": "stdout",
     "output_type": "stream",
     "text": [
      "[1] NaN\n",
      "[1] NaN\n",
      "[1] \"numeric\"\n",
      "[1] \"numeric\"\n"
     ]
    }
   ],
   "source": [
    "nan <- NaN\n",
    "inf_divides_inf <- Inf / Inf\n",
    "print(nan)\n",
    "print(inf_divides_inf)\n",
    "print(class(nan))\n",
    "print(class(inf_divides_inf))"
   ]
  },
  {
   "cell_type": "markdown",
   "metadata": {
    "slideshow": {
     "slide_type": "subslide"
    }
   },
   "source": [
    "## 遺漏值 `NA`\n",
    "\n",
    "- `NA` 意指 Not Available。\n",
    "- 用來表示任何向量類型中的遺漏資料。"
   ]
  },
  {
   "cell_type": "code",
   "execution_count": 26,
   "metadata": {
    "slideshow": {
     "slide_type": "subslide"
    }
   },
   "outputs": [
    {
     "name": "stdout",
     "output_type": "stream",
     "text": [
      "[1] \"character\"\n",
      "[1] \"logical\"\n"
     ]
    }
   ],
   "source": [
    "characters_with_na <- c(\"Luke Skywalker\", \"Anakin Skywalker\", NA)\n",
    "logicals_with_na <- c(TRUE, FALSE, NA)\n",
    "print(class(characters_with_na))\n",
    "print(class(logicals_with_na))"
   ]
  },
  {
   "cell_type": "markdown",
   "metadata": {
    "slideshow": {
     "slide_type": "subslide"
    }
   },
   "source": [
    "## 空值 `NULL`\n",
    "\n",
    "- `NA` 佔有一個長度。\n",
    "- `NULL` 不佔有長度。"
   ]
  },
  {
   "cell_type": "code",
   "execution_count": 27,
   "metadata": {
    "slideshow": {
     "slide_type": "subslide"
    }
   },
   "outputs": [
    {
     "name": "stdout",
     "output_type": "stream",
     "text": [
      "[1] 3\n",
      "[1] 3\n"
     ]
    }
   ],
   "source": [
    "characters_with_na <- c(\"Luke Skywalker\", \"Anakin Skywalker\", NA)\n",
    "logicals_with_na <- c(TRUE, FALSE, NA)\n",
    "print(length(characters_with_na))\n",
    "print(length(logicals_with_na))"
   ]
  },
  {
   "cell_type": "code",
   "execution_count": 28,
   "metadata": {
    "slideshow": {
     "slide_type": "subslide"
    }
   },
   "outputs": [
    {
     "name": "stdout",
     "output_type": "stream",
     "text": [
      "[1] 2\n",
      "[1] 2\n"
     ]
    }
   ],
   "source": [
    "characters_with_null <- c(\"Luke Skywalker\", \"Anakin Skywalker\", NULL)\n",
    "logicals_with_null <- c(TRUE, FALSE, NULL)\n",
    "print(length(characters_with_null))\n",
    "print(length(logicals_with_null))"
   ]
  },
  {
   "cell_type": "markdown",
   "metadata": {
    "slideshow": {
     "slide_type": "slide"
    }
   },
   "source": [
    "## 重點統整\n",
    "\n",
    "- 向量是 R 語言基本的資料結構。\n",
    "- 如何創造長度大於 1 的向量：\n",
    "    - 使用 `c` 函數。\n",
    "    - 使用 `seq` 函數。\n",
    "    - 使用 `rep` 函數。"
   ]
  },
  {
   "cell_type": "markdown",
   "metadata": {
    "slideshow": {
     "slide_type": "subslide"
    }
   },
   "source": [
    "## 重點統整（續）\n",
    "\n",
    "- 函數依照功能可以分為兩大類：\n",
    "    - 通用函數（Universal functions）。\n",
    "    - 聚合函數（Aggregate functions）。\n",
    "- 通用函數與聚合函數的不同在於輸入與輸出的長度是否相同\n",
    "    - 輸出與輸入的長度相同稱為「通用函數」。\n",
    "    - 輸出與輸入的長度不同（輸出小於輸入）稱為聚合函數。"
   ]
  },
  {
   "cell_type": "markdown",
   "metadata": {
    "slideshow": {
     "slide_type": "subslide"
    }
   },
   "source": [
    "## 重點統整（續）\n",
    "\n",
    "- 如何讀取向量：\n",
    "    - 使用 `[index]` 讀取為長度 1 的向量。\n",
    "    - 使用 `[start_index:stop_index]` 讀取為部分長度的向量。\n",
    "    - 使用 `[c(index_1, index_2, ...)]` 讀取為部分長度的向量。\n",
    "    - 使用邏輯讀取為部分長度的向量。"
   ]
  },
  {
   "cell_type": "markdown",
   "metadata": {
    "slideshow": {
     "slide_type": "subslide"
    }
   },
   "source": [
    "## 重點統整（續）\n",
    "\n",
    "- 認識進階向量類型：\n",
    "    - 日期 `Date`。\n",
    "    - 日期時間 `POSIXct`。\n",
    "    - 無限大 `Inf`。\n",
    "    - 非數值 `NaN`。\n",
    "    - 遺漏值 `NA`。\n",
    "    - 空值 `NULL`。"
   ]
  }
 ],
 "metadata": {
  "celltoolbar": "Slideshow",
  "kernelspec": {
   "display_name": "R",
   "language": "R",
   "name": "ir"
  },
  "language_info": {
   "codemirror_mode": "r",
   "file_extension": ".r",
   "mimetype": "text/x-r-source",
   "name": "R",
   "pygments_lexer": "r",
   "version": "4.0.5"
  }
 },
 "nbformat": 4,
 "nbformat_minor": 2
}
