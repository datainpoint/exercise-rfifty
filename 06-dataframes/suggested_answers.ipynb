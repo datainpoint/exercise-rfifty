{
 "cells": [
  {
   "cell_type": "markdown",
   "metadata": {
    "deletable": false,
    "editable": false
   },
   "source": [
    "# R 語言的五十道練習\n",
    "\n",
    "> 資料結構：資料框\n",
    "\n",
    "[數據交點](https://www.datainpoint.com/) | 郭耀仁 <yaojenkuo@datainpoint.com>"
   ]
  },
  {
   "cell_type": "markdown",
   "metadata": {
    "deletable": false,
    "editable": false
   },
   "source": [
    "## 練習題指引\n",
    "\n",
    "- 第一個程式碼儲存格會將可能用得到的套件以及單元測試 `testthat` 載入。\n",
    "- 如果練習題需要載入檔案，檔案與練習題存放在同個資料夾中，意即我們可以指定工作目錄來載入。\n",
    "- 練習題已經定義好函數的名稱以及參數名稱，我們只需要寫作主體。\n",
    "- 函數名稱下面幾行的註解部分是在描述測試如何進行。\n",
    "- 觀察函數名稱下面幾行的註解部分能夠暸解輸入以及預期輸出之間的關係，幫助我們更暸解題目。\n",
    "- 在 `### BEGIN SOLUTION` 與 `### END SOLUTION` 這兩個單行註解之間撰寫函數的主體。\n",
    "- 可以先在 RStudio 寫出跟預期結果相同的程式後再複製貼上到練習題。\n",
    "- 執行測試的方式為點選上方選單的 Kernel -> Restart & Run All -> Restart and Run All Cells。\n",
    "- 可以每寫一題就執行測試，也可以全部寫完再執行測試。\n",
    "- 練習題閒置超過 10 分鐘會自動斷線，這時只要重新點選練習題連結即可重新啟動。"
   ]
  },
  {
   "cell_type": "code",
   "execution_count": 1,
   "metadata": {
    "deletable": false,
    "editable": false
   },
   "outputs": [],
   "source": [
    "library(\"testthat\")"
   ]
  },
  {
   "cell_type": "markdown",
   "metadata": {},
   "source": [
    "## 自行定義函數 `create_lord_of_the_rings` 以資料框回傳魔戒三部曲電影資訊。\n",
    "\n",
    "- 預期輸入：無。\n",
    "- 預期輸出：一個外型 `(3, 4)` 的資料框。\n",
    "\n",
    "```\n",
    "  episode                      title release_year      director\n",
    "1       1 The Fellowship of the Ring         2001 Peter Jackson\n",
    "2       2             The Two Towers         2002 Peter Jackson\n",
    "3       3     The Return of the King         2003 Peter Jackson\n",
    "```"
   ]
  },
  {
   "cell_type": "code",
   "execution_count": 2,
   "metadata": {},
   "outputs": [],
   "source": [
    "create_lord_of_the_rings <- function() {\n",
    "    # lord_of_the_rings <- create_lord_of_the_rings()\n",
    "    # lord_of_the_rings\n",
    "    #   episode                      title release_year      director\n",
    "    # 1       1 The Fellowship of the Ring         2001 Peter Jackson\n",
    "    # 2       2             The Two Towers         2002 Peter Jackson\n",
    "    # 3       3     The Return of the King         2003 Peter Jackson\n",
    "    ### BEGIN SOLUTION\n",
    "    episodes <- 1:3\n",
    "    titles <- c(\"The Fellowship of the Ring\", \"The Two Towers\", \"The Return of the King\")\n",
    "    release_years <- 2001:2003\n",
    "    director <- \"Peter Jackson\"\n",
    "    df <- data.frame(\n",
    "        episode = episodes,\n",
    "        title = titles,\n",
    "        release_year = release_years,\n",
    "        director = director\n",
    "    )\n",
    "    return(df)\n",
    "    ### END SOLUTION\n",
    "}"
   ]
  },
  {
   "cell_type": "markdown",
   "metadata": {},
   "source": [
    "## 承上題，自行定義函數 `add_imdb_rating` 將 IMDb 評等 `c(8.8, 8.7, 8.9)` 加入到前一題所輸出的資料框成為一個新欄位 `imdb_rating`。\n",
    "\n",
    "- 預期輸入：一個外型 `(3, 4)` 的資料框。\n",
    "- 預期輸出：一個外型 `(3, 5)` 的資料框。\n",
    "\n",
    "```\n",
    "  episode                      title release_year      director imdb_rating\n",
    "1       1 The Fellowship of the Ring         2001 Peter Jackson         8.8\n",
    "2       2             The Two Towers         2002 Peter Jackson         8.7\n",
    "3       3     The Return of the King         2003 Peter Jackson         8.9\n",
    "```"
   ]
  },
  {
   "cell_type": "code",
   "execution_count": 3,
   "metadata": {},
   "outputs": [],
   "source": [
    "add_imdb_rating <- function(df) {\n",
    "    # lord_of_the_rings <- create_lord_of_the_rings()\n",
    "    # add_imdb_rating(lord_of_the_rings)\n",
    "    #   episode                      title release_year      director imdb_rating\n",
    "    # 1       1 The Fellowship of the Ring         2001 Peter Jackson         8.8\n",
    "    # 2       2             The Two Towers         2002 Peter Jackson         8.7\n",
    "    # 3       3     The Return of the King         2003 Peter Jackson         8.9\n",
    "    ### BEGIN SOLUTION\n",
    "    df[[\"imdb_rating\"]] <- c(8.8, 8.7, 8.9)\n",
    "    return(df)\n",
    "    ### END SOLUTION\n",
    "}"
   ]
  },
  {
   "cell_type": "markdown",
   "metadata": {},
   "source": [
    "## 自行定義函數 `create_dark_knight` 以資料框回傳黑暗騎士三部曲電影資訊。\n",
    "\n",
    "- 預期輸入：無。\n",
    "- 預期輸出：一個外型 `(3, 5)` 的資料框。\n",
    "\n",
    "```\n",
    "  episode                 title release_year          director imdb_rating\n",
    "1       1         Batman Begins         2005 Christopher Nolan         8.2\n",
    "2       2       The Dark Knight         2008 Christopher Nolan         9.0\n",
    "3       3 The Dark Knight Rises         2012 Christopher Nolan         8.4\n",
    "```"
   ]
  },
  {
   "cell_type": "code",
   "execution_count": 4,
   "metadata": {},
   "outputs": [],
   "source": [
    "create_dark_knight <- function() {\n",
    "    # dark_knight <- create_dark_knight()\n",
    "    # dark_knight\n",
    "    #   episode                 title release_year          director imdb_rating\n",
    "    # 1       1         Batman Begins         2005 Christopher Nolan         8.2\n",
    "    # 2       2       The Dark Knight         2008 Christopher Nolan         9.0\n",
    "    # 3       3 The Dark Knight Rises         2012 Christopher Nolan         8.4\n",
    "    ### BEGIN SOLUTION\n",
    "    episodes <- 1:3\n",
    "    titles <- c(\"Batman Begins\", \"The Dark Knight\", \"The Dark Knight Rises\")\n",
    "    release_years <- c(2005, 2008, 2012)\n",
    "    director <- \"Christopher Nolan\"\n",
    "    imdb_ratings <- c(8.2, 9.0, 8.4)\n",
    "    df <- data.frame(\n",
    "        episode = episodes,\n",
    "        title = titles,\n",
    "        release_year = release_years,\n",
    "        director = director,\n",
    "        imdb_rating = imdb_ratings\n",
    "    )\n",
    "    return(df)\n",
    "    ### END SOLUTION\n",
    "}"
   ]
  },
  {
   "cell_type": "markdown",
   "metadata": {},
   "source": [
    "## 承上題，自行定義函數 `filter_the_best_episode` 將資料框中的二部曲 \"The Dark Knight\" 篩選出成為一個新的資料框。\n",
    "\n",
    "- 預期輸入：一個外型 `(3, 5)` 的資料框。\n",
    "- 預期輸出：一個外型 `(1, 5)` 的資料框。\n",
    "\n",
    "```\n",
    "  episode           title release_year          director imdb_rating\n",
    "2       2 The Dark Knight         2008 Christopher Nolan           9\n",
    "```"
   ]
  },
  {
   "cell_type": "code",
   "execution_count": 5,
   "metadata": {},
   "outputs": [],
   "source": [
    "filter_the_best_episode <- function(df) {\n",
    "    # dark_knight <- create_dark_knight()\n",
    "    # filter_the_best_episode(dark_knight)\n",
    "    #   episode           title release_year          director imdb_rating\n",
    "    # 2       2 The Dark Knight         2008 Christopher Nolan           9\n",
    "    ### BEGIN SOLUTION\n",
    "    condition <- df[[\"imdb_rating\"]] == max(df[[\"imdb_rating\"]])\n",
    "    return(df[condition, ])\n",
    "    ### END SOLUTION\n",
    "}"
   ]
  },
  {
   "cell_type": "markdown",
   "metadata": {},
   "source": [
    "## 自行定義函數 `create_avengers` 以資料框回傳復仇者聯盟四部曲的電影資訊。\n",
    "\n",
    "- 預期輸入：無。\n",
    "- 預期輸出：一個外型 `(4, 5)` 的資料框。\n",
    "\n",
    "```\n",
    "  episode                   title release_year      director imdb_rating\n",
    "1       1            The Avengers         2012   Joss Whedon         8.0\n",
    "2       2 Avengers: Age of Ultron         2015   Joss Whedon         7.3\n",
    "3       3  Avengers: Infinity War         2018 Anthony Russo         8.4\n",
    "4       4       Avengers: Endgame         2019 Anthony Russo         8.4\n",
    "```"
   ]
  },
  {
   "cell_type": "code",
   "execution_count": 6,
   "metadata": {},
   "outputs": [],
   "source": [
    "create_avengers <- function() {\n",
    "    # avengers <- create_avengers()\n",
    "    # avengers\n",
    "    #   episode                   title release_year      director imdb_rating\n",
    "    # 1       1            The Avengers         2012   Joss Whedon         8.0\n",
    "    # 2       2 Avengers: Age of Ultron         2015   Joss Whedon         7.3\n",
    "    # 3       3  Avengers: Infinity War         2018 Anthony Russo         8.4\n",
    "    # 4       4       Avengers: Endgame         2019 Anthony Russo         8.4\n",
    "    ### BEGIN SOLUTION\n",
    "    episodes <- 1:4\n",
    "    titles <- c(\"The Avengers\", \"Avengers: Age of Ultron\", \"Avengers: Infinity War\", \"Avengers: Endgame\")\n",
    "    release_years <- c(2012, 2015, 2018, 2019)\n",
    "    director <- c(\"Joss Whedon\", \"Joss Whedon\", \"Anthony Russo\", \"Anthony Russo\")\n",
    "    imdb_ratings <- c(8.0, 7.3, 8.4, 8.4)\n",
    "    df <- data.frame(\n",
    "        episode = episodes,\n",
    "        title = titles,\n",
    "        release_year = release_years,\n",
    "        director = director,\n",
    "        imdb_rating = imdb_ratings\n",
    "    )\n",
    "    return(df)\n",
    "    ### END SOLUTION\n",
    "}"
   ]
  },
  {
   "cell_type": "markdown",
   "metadata": {},
   "source": [
    "## 承上題，自行定義函數 `filter_the_worst_episode` 將資料框中的 \"Avengers: Age of Ultron\" 篩選出成為一個新的資料框。\n",
    "\n",
    "- 預期輸入：一個外型 `(4, 5)` 的資料框。\n",
    "- 預期輸出：一個外型 `(1, 5)` 的資料框。\n",
    "\n",
    "```\n",
    "  episode                   title release_year    director imdb_rating\n",
    "2       2 Avengers: Age of Ultron         2015 Joss Whedon         7.3\n",
    "```"
   ]
  },
  {
   "cell_type": "code",
   "execution_count": 7,
   "metadata": {},
   "outputs": [],
   "source": [
    "filter_the_worst_episode <- function(df) {\n",
    "    # avengers <- create_avengers()\n",
    "    # filter_the_worst_episode(avengers)\n",
    "    #   episode                   title release_year      director imdb_rating\n",
    "    # 2       2 Avengers: Age of Ultron         2015   Joss Whedon         7.3\n",
    "    ### BEGIN SOLUTION\n",
    "    condition <- df[[\"imdb_rating\"]] == min(df[[\"imdb_rating\"]])\n",
    "    return(df[condition, ])\n",
    "    ### END SOLUTION\n",
    "}"
   ]
  },
  {
   "cell_type": "markdown",
   "metadata": {},
   "source": [
    "## 承上上題，自行定義函數 `remove_the_worst_episode` 將資料框中的 \"Avengers: Age of Ultron\" 刪除。\n",
    "\n",
    "- 預期輸入：一個外型 `(4, 5)` 的資料框。\n",
    "- 預期輸出：一個外型 `(3, 5)` 的資料框。\n",
    "\n",
    "```\n",
    "  episode                  title release_year      director imdb_rating\n",
    "1       1           The Avengers         2012   Joss Whedon         8.0\n",
    "3       3 Avengers: Infinity War         2018 Anthony Russo         8.4\n",
    "4       4      Avengers: Endgame         2019 Anthony Russo         8.4\n",
    "```"
   ]
  },
  {
   "cell_type": "code",
   "execution_count": 8,
   "metadata": {},
   "outputs": [],
   "source": [
    "remove_the_worst_episode <- function(df) {\n",
    "    # avengers <- create_avengers()\n",
    "    # remove_the_worst_episode(avengers)\n",
    "    #   episode                   title release_year      director imdb_rating\n",
    "    # 1       1            The Avengers         2012   Joss Whedon         8.0\n",
    "    # 3       3  Avengers: Infinity War         2018 Anthony Russo         8.4\n",
    "    # 4       4       Avengers: Endgame         2019 Anthony Russo         8.4\n",
    "    ### BEGIN SOLUTION\n",
    "    condition <- df[[\"imdb_rating\"]] != min(df[[\"imdb_rating\"]])\n",
    "    return(df[condition, ])\n",
    "    ### END SOLUTION\n",
    "}"
   ]
  },
  {
   "cell_type": "markdown",
   "metadata": {
    "deletable": false,
    "editable": false
   },
   "source": [
    "## 執行測試\n",
    "\n",
    "Kernel -> Restart & Run All. -> Restart and Run All Cells. "
   ]
  },
  {
   "cell_type": "code",
   "execution_count": 9,
   "metadata": {
    "deletable": false,
    "editable": false
   },
   "outputs": [
    {
     "name": "stdout",
     "output_type": "stream",
     "text": [
      "\u001b[32mTest passed\u001b[39m 🎊\n",
      "\u001b[32mTest passed\u001b[39m 🌈\n",
      "\u001b[32mTest passed\u001b[39m 🎉\n",
      "\u001b[32mTest passed\u001b[39m 🥇\n",
      "\u001b[32mTest passed\u001b[39m 🌈\n",
      "\u001b[32mTest passed\u001b[39m 😀\n",
      "\u001b[32mTest passed\u001b[39m 🎊\n"
     ]
    }
   ],
   "source": [
    "test_create_lord_of_the_rings <- tryCatch({\n",
    "    test_that(\"test_create_lord_of_the_rings\", {\n",
    "        expect_equal(dim(create_lord_of_the_rings()), c(3, 4))\n",
    "        expect_equal(create_lord_of_the_rings()[[\"title\"]], c(\"The Fellowship of the Ring\", \"The Two Towers\", \"The Return of the King\"))\n",
    "    })\n",
    "    }, error = function(e) {\n",
    "        FALSE\n",
    "})\n",
    "test_add_imdb_rating <- tryCatch({\n",
    "    test_that(\"test_add_imdb_rating\", {\n",
    "        expect_equal(dim(add_imdb_rating(create_lord_of_the_rings())), c(3, 5))\n",
    "        expect_equal(add_imdb_rating(create_lord_of_the_rings())[[\"imdb_rating\"]], c(8.8, 8.7, 8.9))\n",
    "    })\n",
    "    }, error = function(e) {\n",
    "        FALSE\n",
    "})\n",
    "test_create_dark_knight <- tryCatch({\n",
    "    test_that(\"test_create_dark_knight\", {\n",
    "        expect_equal(dim(create_dark_knight()), c(3, 5))\n",
    "        expect_equal(create_dark_knight()[[\"title\"]], c(\"Batman Begins\", \"The Dark Knight\", \"The Dark Knight Rises\"))\n",
    "    })\n",
    "    }, error = function(e) {\n",
    "        FALSE\n",
    "})\n",
    "test_filter_the_best_episode <- tryCatch({\n",
    "    test_that(\"test_filter_the_best_episode\", {\n",
    "        expect_equal(dim(filter_the_best_episode(create_dark_knight())), c(1, 5))\n",
    "        expect_equal(filter_the_best_episode(create_dark_knight())[[\"title\"]], \"The Dark Knight\")\n",
    "    })\n",
    "    }, error = function(e) {\n",
    "        FALSE\n",
    "})\n",
    "test_create_avengers <- tryCatch({\n",
    "    test_that(\"test_create_avengers\", {\n",
    "        expect_equal(dim(create_avengers()), c(4, 5))\n",
    "        expect_equal(create_avengers()[[\"title\"]], c(\"The Avengers\", \"Avengers: Age of Ultron\", \"Avengers: Infinity War\", \"Avengers: Endgame\"))\n",
    "    })\n",
    "    }, error = function(e) {\n",
    "        FALSE\n",
    "})\n",
    "test_filter_the_worst_episode <- tryCatch({\n",
    "    test_that(\"test_filter_the_worst_episode\", {\n",
    "        expect_equal(dim(filter_the_worst_episode(create_avengers())), c(1, 5))\n",
    "        expect_equal(filter_the_worst_episode(create_avengers())[[\"title\"]], \"Avengers: Age of Ultron\")\n",
    "    })\n",
    "    }, error = function(e) {\n",
    "        FALSE\n",
    "})\n",
    "test_remove_the_worst_episode <- tryCatch({\n",
    "    test_that(\"test_remove_the_worst_episode\", {\n",
    "        expect_equal(dim(remove_the_worst_episode(create_avengers())), c(3, 5))\n",
    "        expect_equal(remove_the_worst_episode(create_avengers())[[\"title\"]], c(\"The Avengers\", \"Avengers: Infinity War\", \"Avengers: Endgame\"))\n",
    "    })\n",
    "    }, error = function(e) {\n",
    "        FALSE\n",
    "})\n",
    "\n",
    "all_tests <- c(test_create_lord_of_the_rings,\n",
    "               test_add_imdb_rating,\n",
    "               test_create_dark_knight,\n",
    "               test_filter_the_best_episode,\n",
    "               test_create_avengers,\n",
    "               test_filter_the_worst_episode,\n",
    "               test_remove_the_worst_episode\n",
    "              )\n",
    "passed_tests <- sum(all_tests)"
   ]
  },
  {
   "cell_type": "code",
   "execution_count": 10,
   "metadata": {
    "deletable": false,
    "editable": false
   },
   "outputs": [
    {
     "data": {
      "text/html": [
       "'在 7 題練習中，您總共答對了 7 題。'"
      ],
      "text/latex": [
       "'在 7 題練習中，您總共答對了 7 題。'"
      ],
      "text/markdown": [
       "'在 7 題練習中，您總共答對了 7 題。'"
      ],
      "text/plain": [
       "[1] \"在 7 題練習中，您總共答對了 7 題。\""
      ]
     },
     "metadata": {},
     "output_type": "display_data"
    }
   ],
   "source": [
    "sprintf(\"在 %s 題練習中，您總共答對了 %s 題。\", length(all_tests), passed_tests)"
   ]
  }
 ],
 "metadata": {
  "kernelspec": {
   "display_name": "R",
   "language": "R",
   "name": "ir"
  },
  "language_info": {
   "codemirror_mode": "r",
   "file_extension": ".r",
   "mimetype": "text/x-r-source",
   "name": "R",
   "pygments_lexer": "r",
   "version": "4.0.5"
  }
 },
 "nbformat": 4,
 "nbformat_minor": 4
}
