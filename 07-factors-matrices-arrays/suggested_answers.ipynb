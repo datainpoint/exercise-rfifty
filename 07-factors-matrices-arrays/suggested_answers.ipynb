{
 "cells": [
  {
   "cell_type": "markdown",
   "metadata": {
    "deletable": false,
    "editable": false
   },
   "source": [
    "# R 語言的五十道練習\n",
    "\n",
    "> 資料結構：因素向量、矩陣與陣列\n",
    "\n",
    "[數據交點](https://www.datainpoint.com/) | 郭耀仁 <yaojenkuo@datainpoint.com>"
   ]
  },
  {
   "cell_type": "markdown",
   "metadata": {
    "deletable": false,
    "editable": false
   },
   "source": [
    "## 練習題指引\n",
    "\n",
    "- 第一個程式碼儲存格會將可能用得到的套件以及單元測試 `testthat` 載入。\n",
    "- 如果練習題需要載入檔案，檔案與練習題存放在同個資料夾中，意即我們可以指定工作目錄來載入。\n",
    "- 練習題已經定義好函數的名稱以及參數名稱，我們只需要寫作主體。\n",
    "- 函數名稱下面幾行的註解部分是在描述測試如何進行。\n",
    "- 觀察函數名稱下面幾行的註解部分能夠暸解輸入以及預期輸出之間的關係，幫助我們更暸解題目。\n",
    "- 在 `### BEGIN SOLUTION` 與 `### END SOLUTION` 這兩個單行註解之間撰寫函數的主體。\n",
    "- 可以先在 RStudio 寫出跟預期結果相同的程式後再複製貼上到練習題。\n",
    "- 執行測試的方式為點選上方選單的 Kernel -> Restart & Run All -> Restart and Run All Cells。\n",
    "- 可以每寫一題就執行測試，也可以全部寫完再執行測試。\n",
    "- 練習題閒置超過 10 分鐘會自動斷線，這時只要重新點選練習題連結即可重新啟動。"
   ]
  },
  {
   "cell_type": "code",
   "execution_count": 1,
   "metadata": {
    "deletable": false,
    "editable": false
   },
   "outputs": [],
   "source": [
    "library(\"testthat\")"
   ]
  },
  {
   "cell_type": "markdown",
   "metadata": {},
   "source": [
    "## 自行定義函數 `create_speed_factor` 以因素向量回傳速度資訊。\n",
    "\n",
    "- 預期輸入：無。\n",
    "- 預期輸出：一個長度為 5 的因素向量。\n",
    "\n",
    "```\n",
    "[1] slow   slow   medium fast   fast  \n",
    "Levels: fast medium slow\n",
    "```"
   ]
  },
  {
   "cell_type": "code",
   "execution_count": 2,
   "metadata": {},
   "outputs": [],
   "source": [
    "create_speed_factor <- function() {\n",
    "    # speed_factor <- create_speed_factor()\n",
    "    # speed_factor\n",
    "    # [1] slow   slow   medium fast   fast  \n",
    "    # Levels: fast medium slow\n",
    "    ### BEGIN SOLUTION\n",
    "    out <- factor(c(\"slow\", \"slow\", \"medium\", \"fast\", \"fast\"))\n",
    "    return(out)\n",
    "    ### END SOLUTION\n",
    "}"
   ]
  },
  {
   "cell_type": "markdown",
   "metadata": {},
   "source": [
    "## 自行定義函數 `create_speed_factor_with_order` 以「有序」的因素向量回傳速度資訊。\n",
    "\n",
    "- 預期輸入：無。\n",
    "- 預期輸出：一個長度為 5 的因素向量。\n",
    "\n",
    "```\n",
    "[1] slow   slow   medium fast   fast  \n",
    "Levels: slow < medium < fast\n",
    "```"
   ]
  },
  {
   "cell_type": "code",
   "execution_count": 3,
   "metadata": {},
   "outputs": [],
   "source": [
    "create_speed_factor_with_order <- function() {\n",
    "    # speed_factor_with_order <- create_speed_factor_with_order()\n",
    "    # speed_factor_with_order\n",
    "    # [1] slow   slow   medium fast   fast  \n",
    "    # Levels: slow < medium < fast\n",
    "    ### BEGIN SOLUTION\n",
    "    out <- factor(c(\"slow\", \"slow\", \"medium\", \"fast\", \"fast\"), levels = c(\"slow\", \"medium\", \"fast\"), order = TRUE)\n",
    "    return(out)\n",
    "    ### END SOLUTION\n",
    "}"
   ]
  },
  {
   "cell_type": "markdown",
   "metadata": {},
   "source": [
    "## 自行定義函數 `create_a_square_matrix(n, x)` 回傳一個方塊矩陣，即列數（`n`）與欄數（`n`）相同的矩陣，矩陣中的元素都相同為 `x`。\n",
    "\n",
    "- 預期輸入：兩個整數。\n",
    "- 預期輸出：一個外型 `n x n` 的矩陣。"
   ]
  },
  {
   "cell_type": "code",
   "execution_count": 4,
   "metadata": {},
   "outputs": [],
   "source": [
    "create_a_square_matrix <- function(n, x) {\n",
    "    # create_a_square_matrix(n = 3, x = 1)\n",
    "    #      [,1] [,2] [,3]\n",
    "    # [1,]    1    1    1\n",
    "    # [2,]    1    1    1\n",
    "    # [3,]    1    1    1\n",
    "    # create_a_square_matrix(n = 2, x = 5)\n",
    "    #      [,1] [,2]\n",
    "    # [1,]    5    5\n",
    "    # [2,]    5    5\n",
    "    ### BEGIN SOLUTION\n",
    "    elems <- rep(x, times = n**2)\n",
    "    out <- matrix(elems, nrow = n, ncol = n)\n",
    "    return(out)\n",
    "    ### END SOLUTION\n",
    "}"
   ]
  },
  {
   "cell_type": "markdown",
   "metadata": {},
   "source": [
    "## 自行定義函數 `create_square_matrices(m, n, x)` 以陣列資料結構回傳 `m` 個方塊矩陣，矩陣中的元素都相同為 `x`。\n",
    "\n",
    "- 預期輸入：三個整數。\n",
    "- 預期輸出：一個由 `m` 個 `n x n` 方塊矩陣組成的陣列。"
   ]
  },
  {
   "cell_type": "code",
   "execution_count": 5,
   "metadata": {},
   "outputs": [],
   "source": [
    "create_square_matrices <- function(m, n, x) {\n",
    "    # create_square_matrices(m = 1, n = 2, x = 3)\n",
    "    # , , 1\n",
    "\n",
    "    #      [,1] [,2]\n",
    "    # [1,]    3    3\n",
    "    # [2,]    3    3\n",
    "    # create_square_matrices(m = 3, n = 2, x = 1)\n",
    "    # , , 1\n",
    "\n",
    "    #      [,1] [,2]\n",
    "    # [1,]    1    1\n",
    "    # [2,]    1    1\n",
    "\n",
    "    # , , 2\n",
    "\n",
    "    #      [,1] [,2]\n",
    "    # [1,]    1    1\n",
    "    # [2,]    1    1\n",
    "\n",
    "    # , , 3\n",
    "\n",
    "    #      [,1] [,2]\n",
    "    # [1,]    1    1\n",
    "    # [2,]    1    1\n",
    "    ### BEGIN SOLUTION\n",
    "    elems <- rep(x, times = m*n**2)\n",
    "    out <- array(elems, dim = c(n, n, m))\n",
    "    return(out)\n",
    "    ### END SOLUTION\n",
    "}"
   ]
  },
  {
   "cell_type": "markdown",
   "metadata": {},
   "source": [
    "## 自行定義函數 `find_the_center_of_square_matrix` 能夠回傳方塊矩陣中心的數字，僅考慮 `n` 為奇數的情況即可。\n",
    "\n",
    "- 預期輸入：一個 `n x n` 的方塊矩陣，`n` 為奇數。\n",
    "- 預期輸出：一個數值。"
   ]
  },
  {
   "cell_type": "code",
   "execution_count": 6,
   "metadata": {},
   "outputs": [],
   "source": [
    "find_the_center_of_square_matrix <- function(mat) {\n",
    "    # square_matrix <- matrix(1:9, nrow = 3, ncol = 3)\n",
    "    # find_the_center_of_square_matrix(square_matrix)\n",
    "    # [1] 5\n",
    "    # square_matrix <- matrix(1:25, nrow = 5, ncol = 5)\n",
    "    # find_the_center_of_square_matrix(square_matrix)\n",
    "    # [1] 13\n",
    "    ### BEGIN SOLUTION\n",
    "    n <- nrow(mat)\n",
    "    center_index <- n %/% 2 + 1\n",
    "    out <- mat[center_index, center_index]\n",
    "    return(out)\n",
    "    ### END SOLUTION\n",
    "}"
   ]
  },
  {
   "cell_type": "markdown",
   "metadata": {
    "deletable": false,
    "editable": false
   },
   "source": [
    "## 執行測試\n",
    "\n",
    "Kernel -> Restart & Run All. -> Restart and Run All Cells. "
   ]
  },
  {
   "cell_type": "code",
   "execution_count": 7,
   "metadata": {
    "deletable": false,
    "editable": false
   },
   "outputs": [
    {
     "name": "stdout",
     "output_type": "stream",
     "text": [
      "\u001b[32mTest passed\u001b[39m 🥇\n",
      "\u001b[32mTest passed\u001b[39m 🥳\n",
      "\u001b[32mTest passed\u001b[39m 😸\n",
      "\u001b[32mTest passed\u001b[39m 😀\n",
      "\u001b[32mTest passed\u001b[39m 🥇\n"
     ]
    }
   ],
   "source": [
    "test_create_speed_factor <- tryCatch({\n",
    "    test_that(\"test_create_speed_factor\", {\n",
    "        expect_s3_class(create_speed_factor(), \"factor\")\n",
    "        expect_length(create_speed_factor(), 5)\n",
    "        expect_length(levels(create_speed_factor()), 3)\n",
    "    })\n",
    "    }, error = function(e) {\n",
    "        FALSE\n",
    "})\n",
    "test_create_speed_factor_with_order <- tryCatch({\n",
    "    test_that(\"test_create_speed_factor_with_order\", {\n",
    "        expect_s3_class(create_speed_factor_with_order(), \"factor\")\n",
    "        expect_length(create_speed_factor_with_order(), 5)\n",
    "        expect_length(levels(create_speed_factor_with_order()), 3)\n",
    "        expect_true(create_speed_factor_with_order()[1] < create_speed_factor_with_order()[3])\n",
    "    })\n",
    "    }, error = function(e) {\n",
    "        FALSE\n",
    "})\n",
    "test_create_a_square_matrix <- tryCatch({\n",
    "    test_that(\"test_create_a_square_matrix\", {\n",
    "        expect_true(is.matrix(create_a_square_matrix(n = 3, x = 1)))\n",
    "        expect_equal(dim(create_a_square_matrix(n = 3, x = 1)), c(3, 3))\n",
    "        expect_equal(sum(create_a_square_matrix(n = 3, x = 1)), 9)\n",
    "        expect_true(is.matrix(create_a_square_matrix(n = 2, x = 5)))\n",
    "        expect_equal(dim(create_a_square_matrix(n = 2, x = 5)), c(2, 2))\n",
    "        expect_equal(sum(create_a_square_matrix(n = 2, x = 5)), 20)\n",
    "    })\n",
    "    }, error = function(e) {\n",
    "        FALSE\n",
    "})\n",
    "test_create_square_matrices <- tryCatch({\n",
    "    test_that(\"test_create_square_matrices\", {\n",
    "        expect_true(is.array(create_square_matrices(m = 1, n = 2, x = 3)))\n",
    "        expect_equal(dim(create_square_matrices(m = 1, n = 2, x = 3)), c(2, 2, 1))\n",
    "        expect_equal(sum(create_square_matrices(m = 1, n = 2, x = 3)), 12)\n",
    "        expect_true(is.array(create_square_matrices(m = 3, n = 2, x = 1)))\n",
    "        expect_equal(dim(create_square_matrices(m = 3, n = 2, x = 1)), c(2, 2, 3))\n",
    "        expect_equal(sum(create_square_matrices(m = 3, n = 2, x = 1)), 12)\n",
    "    })\n",
    "    }, error = function(e) {\n",
    "        FALSE\n",
    "})\n",
    "test_find_the_center_of_square_matrix <- tryCatch({\n",
    "    test_that(\"test_find_the_center_of_square_matrix\", {\n",
    "        expect_equal(find_the_center_of_square_matrix(matrix(1:9, nrow = 3, ncol = 3)), 5)\n",
    "        expect_equal(find_the_center_of_square_matrix(matrix(1:25, nrow = 5, ncol = 5)), 13)\n",
    "\n",
    "    })\n",
    "    }, error = function(e) {\n",
    "        FALSE\n",
    "})\n",
    "\n",
    "all_tests <- c(test_create_speed_factor,\n",
    "               test_create_speed_factor_with_order,\n",
    "               test_create_a_square_matrix,\n",
    "               test_create_square_matrices,\n",
    "               test_find_the_center_of_square_matrix\n",
    "              )\n",
    "passed_tests <- sum(all_tests)"
   ]
  },
  {
   "cell_type": "code",
   "execution_count": 8,
   "metadata": {
    "deletable": false,
    "editable": false
   },
   "outputs": [
    {
     "data": {
      "text/html": [
       "'在 5 題練習中，您總共答對了 5 題。'"
      ],
      "text/latex": [
       "'在 5 題練習中，您總共答對了 5 題。'"
      ],
      "text/markdown": [
       "'在 5 題練習中，您總共答對了 5 題。'"
      ],
      "text/plain": [
       "[1] \"在 5 題練習中，您總共答對了 5 題。\""
      ]
     },
     "metadata": {},
     "output_type": "display_data"
    }
   ],
   "source": [
    "sprintf(\"在 %s 題練習中，您總共答對了 %s 題。\", length(all_tests), passed_tests)"
   ]
  }
 ],
 "metadata": {
  "celltoolbar": "Edit Metadata",
  "kernelspec": {
   "display_name": "R",
   "language": "R",
   "name": "ir"
  },
  "language_info": {
   "codemirror_mode": "r",
   "file_extension": ".r",
   "mimetype": "text/x-r-source",
   "name": "R",
   "pygments_lexer": "r",
   "version": "4.0.5"
  }
 },
 "nbformat": 4,
 "nbformat_minor": 4
}
