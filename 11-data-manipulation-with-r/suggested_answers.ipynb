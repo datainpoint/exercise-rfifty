{
 "cells": [
  {
   "cell_type": "markdown",
   "metadata": {
    "deletable": false,
    "editable": false
   },
   "source": [
    "# R 語言的五十道練習\n",
    "\n",
    "> 資料框處理\n",
    "\n",
    "[數據交點](https://www.datainpoint.com/) | 郭耀仁 <yaojenkuo@datainpoint.com>"
   ]
  },
  {
   "cell_type": "markdown",
   "metadata": {
    "deletable": false,
    "editable": false
   },
   "source": [
    "## 練習題指引\n",
    "\n",
    "- 第一個程式碼儲存格會將可能用得到的套件以及單元測試 `testthat` 載入。\n",
    "- 如果練習題需要載入檔案，檔案與練習題存放在同個資料夾中，意即我們可以指定工作目錄來載入。\n",
    "- 練習題已經定義好函數的名稱以及參數名稱，我們只需要寫作主體。\n",
    "- 函數名稱下面幾行的註解部分是在描述測試如何進行。\n",
    "- 觀察函數名稱下面幾行的註解部分能夠暸解輸入以及預期輸出之間的關係，幫助我們更暸解題目。\n",
    "- 在 `### BEGIN SOLUTION` 與 `### END SOLUTION` 這兩個單行註解之間撰寫函數的主體。\n",
    "- 可以先在 RStudio 寫出跟預期結果相同的程式後再複製貼上到練習題。\n",
    "- 執行測試的方式為點選上方選單的 Kernel -> Restart & Run All -> Restart and Run All Cells。\n",
    "- 可以每寫一題就執行測試，也可以全部寫完再執行測試。\n",
    "- 練習題閒置超過 10 分鐘會自動斷線，這時只要重新點選練習題連結即可重新啟動。"
   ]
  },
  {
   "cell_type": "code",
   "execution_count": 1,
   "metadata": {
    "deletable": false,
    "editable": false
   },
   "outputs": [],
   "source": [
    "library(\"testthat\")\n",
    "suppressMessages(library(\"dplyr\"))\n",
    "suppressMessages(library(\"tidyr\"))"
   ]
  },
  {
   "cell_type": "markdown",
   "metadata": {},
   "source": [
    "## 自行定義函數 `read_olympic_games_medal_table` 能載入工作目錄中的 `olympic_games_medal_table.csv` 檔案成為資料框。\n",
    "\n",
    "- 預期輸入：一個文字。\n",
    "- 預期輸出：一個外型 `(157, 16)` 的資料框。"
   ]
  },
  {
   "cell_type": "code",
   "execution_count": 2,
   "metadata": {},
   "outputs": [],
   "source": [
    "read_olympic_games_medal_table <- function(file_path) {\n",
    "    # olympic_games_medal_table <- read_olympic_games_medal_table(\"olympic_games_medal_table.csv\")\n",
    "    # dim(olympic_games_medal_table)\n",
    "    # [1] 157  16\n",
    "    ### BEGIN SOLUTION\n",
    "    out <- read.csv(file_path)\n",
    "    return(out)\n",
    "    ### END SOLUTION\n",
    "}"
   ]
  },
  {
   "cell_type": "markdown",
   "metadata": {},
   "source": [
    "## 自行定義函數 `find_taiwan_olympic_games_medal` 能將台灣（奧運參賽名為 Chinese Taipei）的資料找出來。\n",
    "\n",
    "- 預期輸入：一個文字。\n",
    "- 預期輸出：一個外型 `(1, 16)` 的資料框。"
   ]
  },
  {
   "cell_type": "code",
   "execution_count": 3,
   "metadata": {},
   "outputs": [],
   "source": [
    "find_taiwan_olympic_games_medal <- function(file_path) {\n",
    "    # taiwan_olympic_games_medal <- find_taiwan_olympic_games_medal(\"olympic_games_medal_table.csv\")\n",
    "    # dim(taiwan_olympic_games_medal)\n",
    "    # [1] 1  16\n",
    "    # taiwan_olympic_games_medal\n",
    "    #        team_name summer_games summer_golds summer_silvers summer_bronzes\n",
    "    # 1 Chinese Taipei           15            7             11             18\n",
    "    #   summer_total winter_games winter_golds winter_silvers winter_bronzes\n",
    "    # 1           36           12            0              0              0\n",
    "    #   winter_total combined_games combined_golds combined_silvers combined_bronzes\n",
    "    # 1            0             27              7               11               18\n",
    "    #   combined_total\n",
    "    # 1             36\n",
    "    ### BEGIN SOLUTION\n",
    "    df <- read.csv(file_path)\n",
    "    out <- df %>%\n",
    "               filter(team_name == \"Chinese Taipei\")\n",
    "    return(out)\n",
    "    ### END SOLUTION\n",
    "}"
   ]
  },
  {
   "cell_type": "markdown",
   "metadata": {},
   "source": [
    "## 自行定義函數 `find_king_of_summer_olympic` 能將在夏季奧運金牌數最多的國家找出來。\n",
    "\n",
    "- 預期輸入：一個文字。\n",
    "- 預期輸出：一個外型 `(1, 16)` 的資料框。"
   ]
  },
  {
   "cell_type": "code",
   "execution_count": 4,
   "metadata": {},
   "outputs": [],
   "source": [
    "find_king_of_summer_olympic <- function(file_path) {\n",
    "    # king_of_summer_olympic <- find_king_of_summer_olympic(\"olympic_games_medal_table.csv\")\n",
    "    # dim(king_of_summer_olympic)\n",
    "    # [1] 1  16\n",
    "    # king_of_summer_olympic\n",
    "    #       team_name summer_games summer_golds summer_silvers summer_bronzes\n",
    "    # 1 United States           28         1070            841            745\n",
    "    #   summer_total winter_games winter_golds winter_silvers winter_bronzes\n",
    "    # 1         2656           23          105            113             89\n",
    "    #   winter_total combined_games combined_golds combined_silvers combined_bronzes\n",
    "    # 1          307             51           1175              954              834\n",
    "    #   combined_total\n",
    "    # 1           2963\n",
    "    ### BEGIN SOLUTION\n",
    "    df <- read.csv(file_path)\n",
    "    number_rows <- nrow(df)\n",
    "    max_gold <- max(df[[\"summer_golds\"]][1:(number_rows - 1)])\n",
    "    out <- df %>% \n",
    "               filter(summer_golds == max_gold)\n",
    "    return(out)\n",
    "    ### END SOLUTION\n",
    "}"
   ]
  },
  {
   "cell_type": "markdown",
   "metadata": {},
   "source": [
    "## 自行定義函數 `find_king_of_winter_olympic` 能將在冬季奧運金牌數最多的國家找出來。\n",
    "\n",
    "- 預期輸入：一個文字。\n",
    "- 預期輸出：一個外型 `(1, 16)` 的資料框。"
   ]
  },
  {
   "cell_type": "code",
   "execution_count": 5,
   "metadata": {},
   "outputs": [],
   "source": [
    "find_king_of_winter_olympic <- function(file_path) {\n",
    "    # king_of_winter_olympic <- find_king_of_winter_olympic(\"olympic_games_medal_table.csv\")\n",
    "    # dim(king_of_winter_olympic)\n",
    "    # [1] 1  16\n",
    "    # king_of_winter_olympic\n",
    "    # \n",
    "    ### BEGIN SOLUTION\n",
    "    df <- read.csv(file_path)\n",
    "    number_rows <- nrow(df)\n",
    "    max_gold <- max(df[[\"winter_golds\"]][1:(number_rows - 1)])\n",
    "    out <- df %>% \n",
    "               filter(winter_golds == max_gold)\n",
    "    return(out)\n",
    "    ### END SOLUTION\n",
    "}"
   ]
  },
  {
   "cell_type": "markdown",
   "metadata": {},
   "source": [
    "## 自行定義函數 `read_covid19_data` 能載入工作目錄中的 `08-27-2021.csv`、`time_series_covid19_confirmed_global.csv`、`time_series_covid19_deaths_global.csv` 與 `UID_ISO_FIPS_LookUp_Table.csv` 檔案成為四個資料框，並將這四個資料框存在一個清單之中，依序命名為 daily_report、ts_confirmed、ts_deaths、lookup_table。\n",
    "\n",
    "- 預期輸入：無。\n",
    "- 預期輸出：一個長度為 4 的命名清單。"
   ]
  },
  {
   "cell_type": "code",
   "execution_count": 6,
   "metadata": {},
   "outputs": [],
   "source": [
    "read_covid19_data <- function() {\n",
    "    # covid19_data <- read_covid19_data()\n",
    "    # length(covid19_data)\n",
    "    # [1] 4\n",
    "    # dim(covid19_data[[\"daily_report\"]])\n",
    "    # [1] 3987   14\n",
    "    # dim(covid19_data[[\"ts_confirmed\"]])\n",
    "    # [1] 279 588\n",
    "    # dim(covid19_data[[\"ts_deaths\"]])\n",
    "    # [1] 279 588\n",
    "    # dim(covid19_data[[\"lookup_table\"]])\n",
    "    # [1] 4196   12\n",
    "    ### BEGIN SOLUTION\n",
    "    file_paths <- c(\"08-27-2021.csv\", \"time_series_covid19_confirmed_global.csv\",\n",
    "                    \"time_series_covid19_deaths_global.csv\", \"UID_ISO_FIPS_LookUp_Table.csv\")\n",
    "    out <- list()\n",
    "    for (i in 1:length(file_paths)) {\n",
    "        df <- read.csv(file_paths[i])\n",
    "        out[[i]] <- df\n",
    "    }\n",
    "    names(out) <- c(\"daily_report\", \"ts_confirmed\", \"ts_deaths\", \"lookup_table\")\n",
    "    return(out)\n",
    "    ### END SOLUTION\n",
    "}"
   ]
  },
  {
   "cell_type": "markdown",
   "metadata": {},
   "source": [
    "## 自行定義函數 `calculate_confirmed_by_countries` 利用工作目錄中的 `08-27-2021.csv` 檔案計算全世界各國家的確診人數（數據截至 2021-08-27）。\n",
    "\n",
    "- 預期輸入：無。\n",
    "- 預期輸出：一個外型為 `(195, 2)` 的資料框。"
   ]
  },
  {
   "cell_type": "code",
   "execution_count": 7,
   "metadata": {},
   "outputs": [],
   "source": [
    "calculate_confirmed_by_countries <- function() {\n",
    "    # confirmed_by_countries <- calculate_confirmed_by_countries()\n",
    "    # dim(confirmed_by_countries)\n",
    "    # [1] [1] 195   2\n",
    "    # confirmed_by_countries\n",
    "    # # A tibble: 195 x 2\n",
    "    #    Country_Region      Confirmed\n",
    "    #    <chr>                   <int>\n",
    "    #  1 Afghanistan            152960\n",
    "    #  2 Albania                143174\n",
    "    #  3 Algeria                194186\n",
    "    #  4 Andorra                 15025\n",
    "    #  5 Angola                  46929\n",
    "    #  6 Antigua and Barbuda      1598\n",
    "    #  7 Argentina             5167733\n",
    "    #  8 Armenia                240261\n",
    "    #  9 Australia               49935\n",
    "    # 10 Austria                683219\n",
    "    # # … with 185 more rows\n",
    "    ### BEGIN SOLUTION\n",
    "    covid19_data <- read_covid19_data()\n",
    "    daily_report <- covid19_data[[\"daily_report\"]]\n",
    "    out <- daily_report %>% \n",
    "               group_by(Country_Region) %>% \n",
    "               summarise(Confirmed = sum(Confirmed))\n",
    "    return(out)\n",
    "    ### END SOLUTION\n",
    "}"
   ]
  },
  {
   "cell_type": "markdown",
   "metadata": {},
   "source": [
    "## 自行定義函數 `calculate_confirmed_rate_by_countries` 利用工作目錄中的 `08-27-2021.csv` 與 `UID_ISO_FIPS_LookUp_Table.csv` 檔案計算全世界各國家的確診率（數據截至 2021-08-27）。\n",
    "\n",
    "\\begin{equation}\n",
    "\\text{Confirmed Rate} = \\frac{\\text{Confirmed}}{\\text{Population}}\n",
    "\\end{equation}\n",
    "\n",
    "- 預期輸入：無。\n",
    "- 預期輸出：一個外型為 `(195, 4)` 的資料框。"
   ]
  },
  {
   "cell_type": "code",
   "execution_count": 8,
   "metadata": {},
   "outputs": [],
   "source": [
    "calculate_confirmed_rate_by_countries  <- function() {\n",
    "    # confirmed_rate_by_countries  <- calculate_confirmed_rate_by_countries()\n",
    "    # dim(confirmed_rate_by_countries)\n",
    "    # [1] 195   4\n",
    "    # confirmed_rate_by_countries\n",
    "    # # A tibble: 195 x 4\n",
    "    #    Country_Region      Confirmed Population Confirmed_Rate\n",
    "    #    <chr>                   <int>      <int>          <dbl>\n",
    "    #  1 Afghanistan            152960   38928341       0.00393 \n",
    "    #  2 Albania                143174    2877800       0.0498  \n",
    "    #  3 Algeria                194186   43851043       0.00443 \n",
    "    #  4 Andorra                 15025      77265       0.194   \n",
    "    #  5 Angola                  46929   32866268       0.00143 \n",
    "    #  6 Antigua and Barbuda      1598      97928       0.0163  \n",
    "    #  7 Argentina             5167733   45195777       0.114   \n",
    "    #  8 Armenia                240261    2963234       0.0811  \n",
    "    #  9 Australia               49935   50919400       0.000981\n",
    "    # 10 Austria                683219    9006400       0.0759  \n",
    "    # # … with 185 more rows\n",
    "    ### BEGIN SOLUTION\n",
    "    covid19_data <- read_covid19_data()\n",
    "    daily_report <- covid19_data[[\"daily_report\"]]\n",
    "    lookup_table <- covid19_data[[\"lookup_table\"]]\n",
    "    left_df <- daily_report %>% \n",
    "                   group_by(Country_Region) %>% \n",
    "                   summarise(Confirmed = sum(Confirmed))\n",
    "    right_df <- lookup_table %>% \n",
    "                   group_by(Country_Region) %>% \n",
    "                   summarise(Population = sum(Population))\n",
    "    out <- left_df %>% \n",
    "               left_join(right_df)\n",
    "    out$Confirmed_Rate <- out$Confirmed / out$Population\n",
    "    return(out)\n",
    "    ### END SOLUTION\n",
    "}"
   ]
  },
  {
   "cell_type": "markdown",
   "metadata": {},
   "source": [
    "## 自行定義函數 `calculate_death_rate_by_countries` 利用工作目錄中的 `08-27-2021.csv` 檔案計算全世界各國家的死亡率（數據截至 2021-08-27）。\n",
    "\n",
    "\\begin{equation}\n",
    "\\text{Death Rate} = \\frac{\\text{Deaths}}{\\text{Confirmed}}\n",
    "\\end{equation}\n",
    "\n",
    "- 預期輸入：無。\n",
    "- 預期輸出：一個外型為 `(195, 4)` 的資料框。"
   ]
  },
  {
   "cell_type": "code",
   "execution_count": 9,
   "metadata": {},
   "outputs": [],
   "source": [
    "calculate_death_rate_by_countries  <- function() {\n",
    "    # death_rate_by_countries  <- calculate_death_rate_by_countries()\n",
    "    # dim(death_rate_by_countries)\n",
    "    # [1] 195   4\n",
    "    # death_rate_by_countries\n",
    "    # # A tibble: 195 x 4\n",
    "    #    Country_Region      Deaths Confirmed Death_Rate\n",
    "    #    <chr>                <int>     <int>      <dbl>\n",
    "    #  1 Afghanistan           7101    152960    0.0464 \n",
    "    #  2 Albania               2487    143174    0.0174 \n",
    "    #  3 Algeria               5148    194186    0.0265 \n",
    "    #  4 Andorra                130     15025    0.00865\n",
    "    #  5 Angola                1186     46929    0.0253 \n",
    "    #  6 Antigua and Barbuda     43      1598    0.0269 \n",
    "    #  7 Argentina           111270   5167733    0.0215 \n",
    "    #  8 Armenia               4796    240261    0.0200 \n",
    "    #  9 Australia              993     49935    0.0199 \n",
    "    # 10 Austria              10776    683219    0.0158 \n",
    "    # # … with 185 more rows\n",
    "    ### BEGIN SOLUTION\n",
    "    covid19_data <- read_covid19_data()\n",
    "    daily_report <- covid19_data[[\"daily_report\"]]\n",
    "    out <- daily_report %>% \n",
    "               group_by(Country_Region) %>% \n",
    "               summarise(Deaths = sum(Deaths),\n",
    "                         Confirmed = sum(Confirmed))\n",
    "    out$Death_Rate <- out$Deaths / out$Confirmed\n",
    "    return(out)\n",
    "    ### END SOLUTION\n",
    "}"
   ]
  },
  {
   "cell_type": "markdown",
   "metadata": {},
   "source": [
    "## 自行定義函數 `find_taiwans_order` 回傳台灣在全世界的確診率以及死亡率的排序（由小到大的順序，數據截至 2021-08-27）。\n",
    "\n",
    "- 預期輸入：無。\n",
    "- 預期輸出：一個長度為 2 的清單。"
   ]
  },
  {
   "cell_type": "code",
   "execution_count": 10,
   "metadata": {},
   "outputs": [],
   "source": [
    "find_taiwans_order <- function() {\n",
    "    # taiwans_order  <- find_taiwans_order()\n",
    "    # taiwans_order\n",
    "    # $confirmed_rate_order\n",
    "    # [1] 14\n",
    "    #\n",
    "    # $death_rate_order\n",
    "    # [1] 185\n",
    "    ### BEGIN SOLUTION\n",
    "    confirmed_rate_by_countries  <- calculate_confirmed_rate_by_countries()\n",
    "    death_rate_by_countries  <- calculate_death_rate_by_countries()\n",
    "    country_region_confirmed <- confirmed_rate_by_countries %>%\n",
    "                                    arrange(Confirmed_Rate)\n",
    "    country_region_deaths <- death_rate_by_countries %>%\n",
    "                                 arrange(Death_Rate)\n",
    "    out <- list()\n",
    "    out$confirmed_rate_order <- which(country_region_confirmed$Country_Region == \"Taiwan*\")\n",
    "    out$death_rate_order <- which(country_region_deaths$Country_Region == \"Taiwan*\")\n",
    "    return(out)\n",
    "    ### END SOLUTION\n",
    "}"
   ]
  },
  {
   "cell_type": "markdown",
   "metadata": {},
   "source": [
    "## 自行定義函數 `pivot_taiwan_ts` 利用工作目錄中的`time_series_covid19_confirmed_global.csv` 與 `time_series_covid19_deaths_global.csv` 檔案回傳台灣累計確診數以及累計死亡數的時間序列資料（數據截至 2021-08-27）。\n",
    "\n",
    "- 預期輸入：無。\n",
    "- 預期輸出：一個外型為 `(584, 4)` 的資料框。"
   ]
  },
  {
   "cell_type": "code",
   "execution_count": 11,
   "metadata": {},
   "outputs": [],
   "source": [
    "pivot_taiwan_ts <- function() {\n",
    "    # taiwan_ts  <- pivot_taiwan_ts()\n",
    "    # dim(taiwan_ts)\n",
    "    # [1] 584   4\n",
    "    # taiwan_ts\n",
    "    # # A tibble: 584 x 4\n",
    "    #    Country.Region Date    Confirmed Deaths\n",
    "    #    <chr>          <chr>       <int>  <int>\n",
    "    #  1 Taiwan*        1.22.20         1      0\n",
    "    #  2 Taiwan*        1.23.20         1      0\n",
    "    #  3 Taiwan*        1.24.20         3      0\n",
    "    #  4 Taiwan*        1.25.20         3      0\n",
    "    #  5 Taiwan*        1.26.20         4      0\n",
    "    #  6 Taiwan*        1.27.20         5      0\n",
    "    #  7 Taiwan*        1.28.20         8      0\n",
    "    #  8 Taiwan*        1.29.20         8      0\n",
    "    #  9 Taiwan*        1.30.20         9      0\n",
    "    # 10 Taiwan*        1.31.20        10      0\n",
    "    # # … with 574 more rows\n",
    "    ### BEGIN SOLUTION\n",
    "    covid19_data <- read_covid19_data()\n",
    "    ts_confirmed <- covid19_data[[\"ts_confirmed\"]]\n",
    "    ts_deaths <- covid19_data[[\"ts_deaths\"]]\n",
    "    ts_confirmed_tw <- ts_confirmed[ts_confirmed[[\"Country.Region\"]] == \"Taiwan*\", ]\n",
    "    ts_deaths_tw <- ts_deaths[ts_deaths[[\"Country.Region\"]] == \"Taiwan*\", ]\n",
    "    cols_to_pivot_longer <- colnames(ts_confirmed_tw)[5:ncol(ts_confirmed_tw)]\n",
    "    ts_confirmed_tw_longer <- ts_confirmed_tw %>% \n",
    "                                    pivot_longer(cols = all_of(cols_to_pivot_longer),\n",
    "                                                 names_to = \"Date\",\n",
    "                                                 values_to = \"Confirmed\")\n",
    "    ts_deaths_tw_longer <- ts_deaths_tw %>% \n",
    "                                    pivot_longer(cols = all_of(cols_to_pivot_longer),\n",
    "                                                 names_to = \"Date\",\n",
    "                                                 values_to = \"Deaths\")\n",
    "    out <- ts_confirmed_tw_longer[, c(\"Country.Region\", \"Date\", \"Confirmed\")]\n",
    "    out$Deaths <- ts_deaths_tw_longer$Deaths\n",
    "    out$Date <- sub(\"X\", \"\", out$Date)\n",
    "    return(out)\n",
    "    ### END SOLUTION\n",
    "}"
   ]
  },
  {
   "cell_type": "markdown",
   "metadata": {
    "deletable": false,
    "editable": false
   },
   "source": [
    "## 執行測試\n",
    "\n",
    "Kernel -> Restart & Run All -> Restart and Run All Cells."
   ]
  },
  {
   "cell_type": "code",
   "execution_count": 12,
   "metadata": {
    "deletable": false,
    "editable": false
   },
   "outputs": [
    {
     "name": "stdout",
     "output_type": "stream",
     "text": [
      "\u001b[32mTest passed\u001b[39m 🥇\n",
      "\u001b[32mTest passed\u001b[39m 😀\n",
      "\u001b[32mTest passed\u001b[39m 🥇\n",
      "\u001b[32mTest passed\u001b[39m 🥇\n",
      "\u001b[32mTest passed\u001b[39m 🥳\n",
      "\u001b[32mTest passed\u001b[39m 🌈\n",
      "\u001b[32mTest passed\u001b[39m 🥇\n",
      "\u001b[32mTest passed\u001b[39m 😀\n",
      "\u001b[32mTest passed\u001b[39m 🎊\n",
      "\u001b[32mTest passed\u001b[39m 😸\n"
     ]
    }
   ],
   "source": [
    "test_olympic_games_medal_table <- tryCatch({\n",
    "    test_that(\"test_olympic_games_medal_table\", {\n",
    "        expect_equal(dim(read_olympic_games_medal_table(\"olympic_games_medal_table.csv\")), c(157, 16))\n",
    "    })\n",
    "    }, error = function(e) {\n",
    "        FALSE\n",
    "})\n",
    "test_find_taiwan_olympic_games_medal <- tryCatch({\n",
    "    test_that(\"test_find_taiwan_olympic_games_medal\", {\n",
    "        expect_equal(dim(find_taiwan_olympic_games_medal(\"olympic_games_medal_table.csv\")), c(1, 16))\n",
    "        expect_equal(find_taiwan_olympic_games_medal(\"olympic_games_medal_table.csv\")[[\"team_name\"]], \"Chinese Taipei\")\n",
    "    })\n",
    "    }, error = function(e) {\n",
    "        FALSE\n",
    "})\n",
    "test_find_king_of_summer_olympic <- tryCatch({\n",
    "    test_that(\"test_find_king_of_summer_olympic\", {\n",
    "        expect_equal(dim(find_king_of_summer_olympic(\"olympic_games_medal_table.csv\")), c(1, 16))\n",
    "        expect_equal(find_king_of_summer_olympic(\"olympic_games_medal_table.csv\")[[\"team_name\"]], \"United States\")\n",
    "    })\n",
    "    }, error = function(e) {\n",
    "        FALSE\n",
    "})\n",
    "test_find_king_of_winter_olympic <- tryCatch({\n",
    "    test_that(\"test_find_king_of_winter_olympic\", {\n",
    "        expect_equal(dim(find_king_of_winter_olympic(\"olympic_games_medal_table.csv\")), c(1, 16))\n",
    "        expect_equal(find_king_of_winter_olympic(\"olympic_games_medal_table.csv\")[[\"team_name\"]], \"Norway\")\n",
    "    })\n",
    "    }, error = function(e) {\n",
    "        FALSE\n",
    "})\n",
    "test_read_covid19_data <- tryCatch({\n",
    "    test_that(\"test_read_covid19_data\", {\n",
    "        expect_equal(length(read_covid19_data()), 4)\n",
    "        expect_equal(dim(read_covid19_data()[[\"daily_report\"]]), c(3987, 14))\n",
    "        expect_equal(dim(read_covid19_data()[[\"ts_confirmed\"]]), c(279, 588))\n",
    "        expect_equal(dim(read_covid19_data()[[\"ts_deaths\"]]), c(279, 588))\n",
    "        expect_equal(dim(read_covid19_data()[[\"lookup_table\"]]), c(4196, 12))\n",
    "    })\n",
    "    }, error = function(e) {\n",
    "        FALSE\n",
    "})\n",
    "test_calculate_confirmed_by_countries <- tryCatch({\n",
    "    test_that(\"test_calculate_confirmed_by_countries\", {\n",
    "        expect_equal(dim(calculate_confirmed_by_countries()), c(195, 2))\n",
    "    })\n",
    "    }, error = function(e) {\n",
    "        FALSE\n",
    "})\n",
    "test_calculate_confirmed_rate_by_countries <- tryCatch({\n",
    "    test_that(\"test_calculate_confirmed_rate_by_countries\", {\n",
    "        expect_equal(dim(calculate_confirmed_rate_by_countries()), c(195, 4))\n",
    "    })\n",
    "    }, error = function(e) {\n",
    "        FALSE\n",
    "})\n",
    "test_calculate_death_rate_by_countries <- tryCatch({\n",
    "    test_that(\"test_calculate_death_rate_by_countries\", {\n",
    "        expect_equal(dim(calculate_death_rate_by_countries()), c(195, 4))\n",
    "    })\n",
    "    }, error = function(e) {\n",
    "        FALSE\n",
    "})\n",
    "test_find_taiwans_order <- tryCatch({\n",
    "    test_that(\"test_find_taiwans_order\", {\n",
    "        expect_equal(find_taiwans_order()[[\"confirmed_rate_order\"]], 14)\n",
    "        expect_equal(find_taiwans_order()[[\"death_rate_order\"]], 185)\n",
    "    })\n",
    "    }, error = function(e) {\n",
    "        FALSE\n",
    "})\n",
    "test_pivot_taiwan_ts <- tryCatch({\n",
    "    test_that(\"test_pivot_taiwan_ts\", {\n",
    "        expect_equal(dim(pivot_taiwan_ts()), c(584, 4))\n",
    "    })\n",
    "    }, error = function(e) {\n",
    "        FALSE\n",
    "})\n",
    "\n",
    "all_tests <- c(test_olympic_games_medal_table,\n",
    "               test_find_taiwan_olympic_games_medal,\n",
    "               test_find_king_of_summer_olympic,\n",
    "               test_find_king_of_winter_olympic,\n",
    "               test_read_covid19_data,\n",
    "               test_calculate_confirmed_by_countries,\n",
    "               test_calculate_confirmed_rate_by_countries,\n",
    "               test_calculate_death_rate_by_countries,\n",
    "               test_find_taiwans_order,\n",
    "               test_pivot_taiwan_ts\n",
    "              )\n",
    "passed_tests <- sum(all_tests)"
   ]
  },
  {
   "cell_type": "code",
   "execution_count": 13,
   "metadata": {
    "deletable": false,
    "editable": false
   },
   "outputs": [
    {
     "data": {
      "text/html": [
       "'在 10 題練習中，您總共答對了 10 題。'"
      ],
      "text/latex": [
       "'在 10 題練習中，您總共答對了 10 題。'"
      ],
      "text/markdown": [
       "'在 10 題練習中，您總共答對了 10 題。'"
      ],
      "text/plain": [
       "[1] \"在 10 題練習中，您總共答對了 10 題。\""
      ]
     },
     "metadata": {},
     "output_type": "display_data"
    }
   ],
   "source": [
    "sprintf(\"在 %s 題練習中，您總共答對了 %s 題。\", length(all_tests), passed_tests)"
   ]
  }
 ],
 "metadata": {
  "kernelspec": {
   "display_name": "R",
   "language": "R",
   "name": "ir"
  },
  "language_info": {
   "codemirror_mode": "r",
   "file_extension": ".r",
   "mimetype": "text/x-r-source",
   "name": "R",
   "pygments_lexer": "r",
   "version": "4.0.5"
  }
 },
 "nbformat": 4,
 "nbformat_minor": 4
}
