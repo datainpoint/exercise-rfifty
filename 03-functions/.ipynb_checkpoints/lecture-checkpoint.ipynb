{
 "cells": [
  {
   "cell_type": "markdown",
   "metadata": {
    "slideshow": {
     "slide_type": "slide"
    }
   },
   "source": [
    "# R 語言的五十道練習\n",
    "\n",
    "> 函數\n",
    "\n",
    "[數據交點](https://www.datainpoint.com) | 郭耀仁 <yaojenkuo@datainpoint.com>"
   ]
  },
  {
   "cell_type": "markdown",
   "metadata": {
    "slideshow": {
     "slide_type": "slide"
    }
   },
   "source": [
    "## 什麼是函數"
   ]
  },
  {
   "cell_type": "markdown",
   "metadata": {
    "slideshow": {
     "slide_type": "subslide"
    }
   },
   "source": [
    "## 什麼是函數\n",
    "\n",
    "在電腦科學中，函數是一段有命名的程式碼，每當呼叫函數作用時，就會請該段程式碼運作，依據輸入讓函數能夠回傳對應的輸出。"
   ]
  },
  {
   "cell_type": "markdown",
   "metadata": {
    "slideshow": {
     "slide_type": "subslide"
    }
   },
   "source": [
    "## 函數的組成有五個要件\n",
    "\n",
    "1. 函數名稱\n",
    "2. 輸入\n",
    "3. 參數\n",
    "4. 函數主體\n",
    "5. 輸出"
   ]
  },
  {
   "cell_type": "markdown",
   "metadata": {
    "slideshow": {
     "slide_type": "subslide"
    }
   },
   "source": [
    "## 函數運作的過程就像買一杯珍珠奶茶\n",
    "\n",
    "![Imgur](https://i.imgur.com/6gpJebm.jpg?1)\n",
    "\n",
    "圖片來源: Google 圖片"
   ]
  },
  {
   "cell_type": "markdown",
   "metadata": {
    "slideshow": {
     "slide_type": "slide"
    }
   },
   "source": [
    "## 如何使用函數"
   ]
  },
  {
   "cell_type": "markdown",
   "metadata": {
    "slideshow": {
     "slide_type": "subslide"
    }
   },
   "source": [
    "## 在「起步走」單元中我們已經使用了許多內建函數\n",
    "\n",
    "- `print`\n",
    "- `length`\n",
    "- `class`\n",
    "- ...等。"
   ]
  },
  {
   "cell_type": "markdown",
   "metadata": {
    "slideshow": {
     "slide_type": "subslide"
    }
   },
   "source": [
    "## 以函數的「名稱」呼叫，並在小括號中寫進「輸入」或者「參數」"
   ]
  },
  {
   "cell_type": "code",
   "execution_count": 1,
   "metadata": {},
   "outputs": [
    {
     "name": "stdout",
     "output_type": "stream",
     "text": [
      "[1] \"Hello, World!\"\n",
      "[1] 1\n",
      "[1] \"character\"\n"
     ]
    }
   ],
   "source": [
    "hello_world <- \"Hello, World!\"\n",
    "print(hello_world)\n",
    "print(length(hello_world))\n",
    "print(class(hello_world))"
   ]
  },
  {
   "cell_type": "markdown",
   "metadata": {
    "slideshow": {
     "slide_type": "subslide"
    }
   },
   "source": [
    "## 有些函數設計為「不需要」輸入或者參數，小括號留空，例如：\n",
    "\n",
    "- `getwd` 函數顯示 R 語言的工作目錄。\n",
    "- `sessionInfo` 函數顯示 R 語言的版本與相關資訊。"
   ]
  },
  {
   "cell_type": "markdown",
   "metadata": {
    "slideshow": {
     "slide_type": "subslide"
    }
   },
   "source": [
    "## `getwd` 顯示 R 語言的工作目錄\n",
    "\n",
    "電腦中應用程式所在的目錄，程式語言在此目錄之下能夠以「相對路徑」存取檔案。"
   ]
  },
  {
   "cell_type": "code",
   "execution_count": 2,
   "metadata": {},
   "outputs": [
    {
     "name": "stdout",
     "output_type": "stream",
     "text": [
      "[1] \"/Users/kuoyaojen/classroom-rfifty/04-functions\"\n"
     ]
    }
   ],
   "source": [
    "print(getwd()) # get working directory"
   ]
  },
  {
   "cell_type": "markdown",
   "metadata": {
    "slideshow": {
     "slide_type": "subslide"
    }
   },
   "source": [
    "## `sessionInfo` 函數顯示 R 語言的版本與相關資訊 \n",
    "\n",
    "注意 `sessionInfo` 函數中的 `Info` 是大寫 `I`。"
   ]
  },
  {
   "cell_type": "code",
   "execution_count": 3,
   "metadata": {
    "slideshow": {
     "slide_type": "subslide"
    }
   },
   "outputs": [
    {
     "name": "stdout",
     "output_type": "stream",
     "text": [
      "R version 4.0.5 (2021-03-31)\n",
      "Platform: x86_64-apple-darwin17.0 (64-bit)\n",
      "Running under: macOS Big Sur 10.16\n",
      "\n",
      "Matrix products: default\n",
      "BLAS:   /Library/Frameworks/R.framework/Versions/4.0/Resources/lib/libRblas.dylib\n",
      "LAPACK: /Library/Frameworks/R.framework/Versions/4.0/Resources/lib/libRlapack.dylib\n",
      "\n",
      "locale:\n",
      "[1] C/UTF-8/C/C/C/C\n",
      "\n",
      "attached base packages:\n",
      "[1] stats     graphics  grDevices utils     datasets  methods   base     \n",
      "\n",
      "loaded via a namespace (and not attached):\n",
      " [1] compiler_4.0.5  ellipsis_0.3.2  IRdisplay_0.7.0 pbdZMQ_0.3-3.1 \n",
      " [5] tools_4.0.5     htmltools_0.5.0 pillar_1.4.7    base64enc_0.1-3\n",
      " [9] crayon_1.4.1    uuid_0.1-4      IRkernel_1.2    jsonlite_1.7.2 \n",
      "[13] digest_0.6.27   lifecycle_1.0.0 repr_1.1.0      rlang_0.4.11   \n",
      "[17] evaluate_0.14  \n"
     ]
    }
   ],
   "source": [
    "print(sessionInfo())"
   ]
  },
  {
   "cell_type": "markdown",
   "metadata": {
    "slideshow": {
     "slide_type": "subslide"
    }
   },
   "source": [
    "## 函數的輸入或參數採取三種機制識別\n",
    "\n",
    "1. 依位置識別。\n",
    "2. 依名稱識別（根據[風格指南](https://style.tidyverse.org/)多數時候我們推薦使用依名稱識別的機制）。\n",
    "3. 採預設值時可以省略不用輸入。"
   ]
  },
  {
   "cell_type": "markdown",
   "metadata": {
    "slideshow": {
     "slide_type": "subslide"
    }
   },
   "source": [
    "## 以內建函數 `sub` 為例\n",
    "\n",
    "`pattern`、`replacement` 與 `x` 依序為兩個參數、一個輸入。\n",
    "\n",
    "```\n",
    "sub(pattern, replacement, x)\n",
    "```"
   ]
  },
  {
   "cell_type": "markdown",
   "metadata": {
    "slideshow": {
     "slide_type": "subslide"
    }
   },
   "source": [
    "## 依位置識別"
   ]
  },
  {
   "cell_type": "code",
   "execution_count": 4,
   "metadata": {
    "slideshow": {
     "slide_type": "-"
    }
   },
   "outputs": [
    {
     "name": "stdout",
     "output_type": "stream",
     "text": [
      "[1] \"Anakin Skywalker\"\n"
     ]
    }
   ],
   "source": [
    "# positional arguments\n",
    "luke_skywalker <- \"Luke Skywalker\"\n",
    "print(sub(\"Luke\", \"Anakin\", luke_skywalker))"
   ]
  },
  {
   "cell_type": "markdown",
   "metadata": {
    "slideshow": {
     "slide_type": "subslide"
    }
   },
   "source": [
    "## 依名稱識別"
   ]
  },
  {
   "cell_type": "code",
   "execution_count": 5,
   "metadata": {
    "slideshow": {
     "slide_type": "-"
    }
   },
   "outputs": [
    {
     "name": "stdout",
     "output_type": "stream",
     "text": [
      "[1] \"Anakin Skywalker\"\n"
     ]
    }
   ],
   "source": [
    "# named arguments\n",
    "luke_skywalker <- \"Luke Skywalker\"\n",
    "print(sub(pattern = \"Luke\", replacement = \"Anakin\", luke_skywalker))"
   ]
  },
  {
   "cell_type": "markdown",
   "metadata": {
    "slideshow": {
     "slide_type": "subslide"
    }
   },
   "source": [
    "## 以內建函數 `paste` 為例\n",
    "\n",
    "`...` 與 `sep` 依序為一個輸入、一個預設值為 `\" \"` 的參數。\n",
    "\n",
    "```\n",
    "paste(..., sep = \" \")\n",
    "```"
   ]
  },
  {
   "cell_type": "markdown",
   "metadata": {
    "slideshow": {
     "slide_type": "subslide"
    }
   },
   "source": [
    "## 採預設值時可以省略不用輸入"
   ]
  },
  {
   "cell_type": "code",
   "execution_count": 6,
   "metadata": {},
   "outputs": [
    {
     "name": "stdout",
     "output_type": "stream",
     "text": [
      "[1] \"Luke Skywalker\"\n",
      "[1] \"Luke Skywalker\"\n"
     ]
    }
   ],
   "source": [
    "# default arguments\n",
    "luke <- \"Luke\"\n",
    "skywalker <- \"Skywalker\"\n",
    "print(paste(luke, skywalker))\n",
    "print(paste(luke, skywalker, sep = \" \"))"
   ]
  },
  {
   "cell_type": "markdown",
   "metadata": {
    "slideshow": {
     "slide_type": "subslide"
    }
   },
   "source": [
    "## 函數被設計為有「回傳」機制\n",
    "\n",
    "我們可以用物件儲存函數所回傳的輸出，後續加以運用。"
   ]
  },
  {
   "cell_type": "code",
   "execution_count": 7,
   "metadata": {},
   "outputs": [
    {
     "name": "stdout",
     "output_type": "stream",
     "text": [
      "[1] \"Anakin Skywalker\"\n"
     ]
    }
   ],
   "source": [
    "luke_skywalker <- \"Luke Skywalker\"\n",
    "anakin_skywalker <- sub(pattern = \"Luke\", replacement = \"Anakin\", luke_skywalker)\n",
    "print(anakin_skywalker)"
   ]
  },
  {
   "cell_type": "markdown",
   "metadata": {
    "slideshow": {
     "slide_type": "slide"
    }
   },
   "source": [
    "## 如何使用 R 語言的非內建函數"
   ]
  },
  {
   "cell_type": "markdown",
   "metadata": {
    "slideshow": {
     "slide_type": "subslide"
    }
   },
   "source": [
    "## R 語言的函數有三個來源\n",
    "\n",
    "1. 來自 `base`、`stats` 與 `utils` 等預先已載入套件的函數，又被稱為內建函數。\n",
    "2. 來自其他未被預先載入之套件的函數。\n",
    "3. 來自使用者的自行定義。"
   ]
  },
  {
   "cell_type": "markdown",
   "metadata": {
    "slideshow": {
     "slide_type": "subslide"
    }
   },
   "source": [
    "## 使用內建函數之前不需要任何前置作業"
   ]
  },
  {
   "cell_type": "code",
   "execution_count": 8,
   "metadata": {},
   "outputs": [
    {
     "name": "stdout",
     "output_type": "stream",
     "text": [
      "[1] \"Anakin Skywalker\"\n"
     ]
    }
   ],
   "source": [
    "luke_skywalker <- \"Luke Skywalker\"\n",
    "anakin_skywalker <- sub(pattern = \"Luke\", replacement = \"Anakin\", luke_skywalker)\n",
    "print(anakin_skywalker)"
   ]
  },
  {
   "cell_type": "markdown",
   "metadata": {
    "slideshow": {
     "slide_type": "subslide"
    }
   },
   "source": [
    "## 如何使用未被預先載入之套件的函數\n",
    "\n",
    "先以 `library` 函數載入套件後，再使用函數。\n",
    "\n",
    "```r\n",
    "library(\"package_name\")\n",
    "```"
   ]
  },
  {
   "cell_type": "code",
   "execution_count": 9,
   "metadata": {
    "slideshow": {
     "slide_type": "subslide"
    }
   },
   "outputs": [
    {
     "name": "stdout",
     "output_type": "stream",
     "text": [
      "[1] \"Anakin Skywalker\"\n"
     ]
    }
   ],
   "source": [
    "library(\"stringr\")\n",
    "\n",
    "luke_skywalker <- \"Luke Skywalker\"\n",
    "anakin_skywalker <- str_replace(pattern = \"Luke\", replacement = \"Anakin\", luke_skywalker)\n",
    "print(anakin_skywalker)"
   ]
  },
  {
   "cell_type": "markdown",
   "metadata": {
    "slideshow": {
     "slide_type": "subslide"
    }
   },
   "source": [
    "## 使用 `library` 函數載入套件時遭遇到錯誤該如何處理\n",
    "\n",
    "- 表示該套件還尚未安裝。\n",
    "- 確認電腦有連網路後，以 `install.packages` 函數安裝套件。\n",
    "\n",
    "```r\n",
    "install.packages(\"package_name\")\n",
    "```"
   ]
  },
  {
   "cell_type": "markdown",
   "metadata": {
    "slideshow": {
     "slide_type": "subslide"
    }
   },
   "source": [
    "## 如何使用 R 語言不同套件中「同名」的函數\n",
    "\n",
    "- R 語言的機制預設為「後載入套件」的函數會取代先前的函數。\n",
    "- 想要使用不同套件中「同名」的函數，必須在函數名稱前面加上套件名稱。\n",
    "\n",
    "```r\n",
    "package_name::function_name()\n",
    "```"
   ]
  },
  {
   "cell_type": "markdown",
   "metadata": {
    "slideshow": {
     "slide_type": "subslide"
    }
   },
   "source": [
    "## 例如內建函數 `filter`"
   ]
  },
  {
   "cell_type": "code",
   "execution_count": 10,
   "metadata": {},
   "outputs": [
    {
     "name": "stdout",
     "output_type": "stream",
     "text": [
      "[1] \"stats\"\n"
     ]
    }
   ],
   "source": [
    "# Before library(\"dplyr\")\n",
    "function_env <- environment(filter)\n",
    "function_env_name <- environmentName(function_env)\n",
    "print(function_env_name)"
   ]
  },
  {
   "cell_type": "markdown",
   "metadata": {
    "slideshow": {
     "slide_type": "subslide"
    }
   },
   "source": [
    "## 載入 `dplyr` 套件後會被其中同名的 `filter` 函數取代"
   ]
  },
  {
   "cell_type": "code",
   "execution_count": 11,
   "metadata": {
    "slideshow": {
     "slide_type": "-"
    }
   },
   "outputs": [
    {
     "name": "stdout",
     "output_type": "stream",
     "text": [
      "[1] \"dplyr\"\n"
     ]
    }
   ],
   "source": [
    "# After library(\"dplyr\")\n",
    "library(\"dplyr\", warn.conflicts = FALSE)\n",
    "\n",
    "function_env <- environment(filter)\n",
    "function_env_name <- environmentName(function_env)\n",
    "print(function_env_name)"
   ]
  },
  {
   "cell_type": "markdown",
   "metadata": {
    "slideshow": {
     "slide_type": "subslide"
    }
   },
   "source": [
    "## 在函數名稱前面加上套件名稱就可以區隔同名的 `filter` 函數"
   ]
  },
  {
   "cell_type": "code",
   "execution_count": 12,
   "metadata": {},
   "outputs": [
    {
     "name": "stdout",
     "output_type": "stream",
     "text": [
      "[1] \"stats\"\n",
      "[1] \"dplyr\"\n"
     ]
    }
   ],
   "source": [
    "filter_from_stats <- environmentName(environment(stats::filter))\n",
    "filter_from_dplyr <- environmentName(environment(dplyr::filter))\n",
    "print(filter_from_stats)\n",
    "print(filter_from_dplyr)"
   ]
  },
  {
   "cell_type": "markdown",
   "metadata": {
    "slideshow": {
     "slide_type": "subslide"
    }
   },
   "source": [
    "## 使用自行定義的函數需要先完成宣告\n",
    "\n",
    "自行定義函數必須要指定五個組成要件：\n",
    "\n",
    "1. 函數名稱 `function_name`。\n",
    "2. 輸入 `INPUTS`。\n",
    "3. 參數 `ARGUMENTS`。\n",
    "4. 函數主體。\n",
    "5. 輸出 `OUTPUTS`。"
   ]
  },
  {
   "cell_type": "markdown",
   "metadata": {
    "slideshow": {
     "slide_type": "subslide"
    }
   },
   "source": [
    "## 自行定義函數\n",
    "\n",
    "透過 `function` 與 `return` 保留字自行定義函數。\n",
    "\n",
    "```r\n",
    "function_name <- function(INPUTS, ARGUMENTS) {\n",
    "    # function's body\n",
    "    # ...\n",
    "    return(OUTPUTS)\n",
    "}\n",
    "```"
   ]
  },
  {
   "cell_type": "markdown",
   "metadata": {
    "slideshow": {
     "slide_type": "subslide"
    }
   },
   "source": [
    "## 自行定義的 `power`  函數"
   ]
  },
  {
   "cell_type": "code",
   "execution_count": 13,
   "metadata": {
    "slideshow": {
     "slide_type": "-"
    }
   },
   "outputs": [
    {
     "name": "stdout",
     "output_type": "stream",
     "text": [
      "[1] 125\n"
     ]
    }
   ],
   "source": [
    "# define\n",
    "power <- function(x, n){\n",
    "    out <- x**n\n",
    "    return(out)\n",
    "}\n",
    "# call\n",
    "print(power(5, 3))"
   ]
  },
  {
   "cell_type": "markdown",
   "metadata": {
    "slideshow": {
     "slide_type": "subslide"
    }
   },
   "source": [
    "## 物件的作用域（scope）\n",
    "\n",
    "> 在電腦程式設計中，作用域是物件名與資料值繫結保持有效的那部分電腦程式。\n",
    "\n",
    "Source: https://en.wikipedia.org/wiki/Scope_(computer_science)"
   ]
  },
  {
   "cell_type": "markdown",
   "metadata": {
    "slideshow": {
     "slide_type": "subslide"
    }
   },
   "source": [
    "## 簡而言之，存在有自行定義函數的情況下，物件分為兩種類型\n",
    "\n",
    "1. 區域（local）\n",
    "2. 全域（global）"
   ]
  },
  {
   "cell_type": "markdown",
   "metadata": {
    "slideshow": {
     "slide_type": "subslide"
    }
   },
   "source": [
    "## 區域物件\n",
    "\n",
    "- 輸入 `INPUTS`。\n",
    "- 參數 `ARGUMENTS`。\n",
    "- 在函數主體中被宣告的物件。\n",
    "- 僅有在函數主體中才有效。"
   ]
  },
  {
   "cell_type": "code",
   "execution_count": 14,
   "metadata": {
    "slideshow": {
     "slide_type": "subslide"
    }
   },
   "outputs": [],
   "source": [
    "power <- function(x, p){\n",
    "    out <- x**p\n",
    "    return(out)\n",
    "}\n",
    "#print(x)\n",
    "#print(p)\n",
    "#print(out)"
   ]
  },
  {
   "cell_type": "markdown",
   "metadata": {
    "slideshow": {
     "slide_type": "subslide"
    }
   },
   "source": [
    "## 全域物件\n",
    "\n",
    "- 在函數主體**之外**被宣告的物件。\n",
    "- 在程式碼的任何地方都有效，但在函數主體中會被同名的區域物件取代。"
   ]
  },
  {
   "cell_type": "code",
   "execution_count": 15,
   "metadata": {
    "slideshow": {
     "slide_type": "subslide"
    }
   },
   "outputs": [
    {
     "name": "stdout",
     "output_type": "stream",
     "text": [
      "[1] 4\n",
      "[1] 2\n",
      "[1] 16\n",
      "[1] 16\n"
     ]
    }
   ],
   "source": [
    "# 在程式碼的任何地方都有效\n",
    "x <- 4\n",
    "p <- 2\n",
    "out <- x**p\n",
    "power <- function(x, p){\n",
    "    out <- x**p\n",
    "    return(out)\n",
    "}\n",
    "print(x)\n",
    "print(p)\n",
    "print(out)\n",
    "print(power(x, p))"
   ]
  },
  {
   "cell_type": "code",
   "execution_count": 16,
   "metadata": {
    "slideshow": {
     "slide_type": "subslide"
    }
   },
   "outputs": [
    {
     "name": "stdout",
     "output_type": "stream",
     "text": [
      "[1] 4\n",
      "[1] 2\n",
      "[1] 16\n",
      "[1] 125\n"
     ]
    }
   ],
   "source": [
    "# 在函數主體中會被同名的區域物件取代\n",
    "x <- 4\n",
    "p <- 2\n",
    "out <- x**p\n",
    "power <- function(x, p){\n",
    "    out <- x**p\n",
    "    return(out)\n",
    "}\n",
    "print(x)\n",
    "print(p)\n",
    "print(out)\n",
    "print(power(5, 3))"
   ]
  },
  {
   "cell_type": "markdown",
   "metadata": {
    "slideshow": {
     "slide_type": "subslide"
    }
   },
   "source": [
    "## `return` 的作用\n",
    "\n",
    "- 明確指定函數的回傳。\n",
    "- 為函數的主體畫下終止符。"
   ]
  },
  {
   "cell_type": "markdown",
   "metadata": {
    "slideshow": {
     "slide_type": "subslide"
    }
   },
   "source": [
    "## 明確指定函數的回傳\n",
    "\n",
    "R 語言自行定義的函數預設會將函數主體最後一行的物件回傳。"
   ]
  },
  {
   "cell_type": "code",
   "execution_count": 17,
   "metadata": {},
   "outputs": [
    {
     "name": "stdout",
     "output_type": "stream",
     "text": [
      "[1] 125\n"
     ]
    }
   ],
   "source": [
    "# define\n",
    "power <- function(x, p){\n",
    "    out <- x**p\n",
    "    # return(out)\n",
    "}\n",
    "# call\n",
    "print(power(5, 3))"
   ]
  },
  {
   "cell_type": "markdown",
   "metadata": {
    "slideshow": {
     "slide_type": "subslide"
    }
   },
   "source": [
    "## 為函數的主體畫下終止符"
   ]
  },
  {
   "cell_type": "code",
   "execution_count": 18,
   "metadata": {},
   "outputs": [
    {
     "name": "stdout",
     "output_type": "stream",
     "text": [
      "[1] 5\n",
      "[1] 3\n",
      "[1] 125\n"
     ]
    }
   ],
   "source": [
    "# define\n",
    "power <- function(x, p){\n",
    "    print(x)\n",
    "    print(p)\n",
    "    out <- x**p\n",
    "    return(out)\n",
    "}\n",
    "# call\n",
    "print(power(5, 3))"
   ]
  },
  {
   "cell_type": "markdown",
   "metadata": {
    "slideshow": {
     "slide_type": "subslide"
    }
   },
   "source": [
    "## 即便程式碼寫在函數主體中，只要在 `return` 後所寫的程式碼在函數被使用時無效"
   ]
  },
  {
   "cell_type": "code",
   "execution_count": 19,
   "metadata": {},
   "outputs": [
    {
     "name": "stdout",
     "output_type": "stream",
     "text": [
      "[1] 125\n"
     ]
    }
   ],
   "source": [
    "# define\n",
    "power <- function(x, p){\n",
    "    out <- x**p\n",
    "    return(out)\n",
    "    print(x)\n",
    "    print(p)\n",
    "}\n",
    "# call\n",
    "print(power(5, 3))"
   ]
  },
  {
   "cell_type": "markdown",
   "metadata": {
    "slideshow": {
     "slide_type": "slide"
    }
   },
   "source": [
    "## 重點統整\n",
    "\n",
    "- 以函數的「名稱」呼叫，並在小括號中寫進「輸入」或者「參數」來使用函數。\n",
    "- 函數的輸入或參數採取三種機制識別\n",
    "    - 依位置識別。\n",
    "    - 依名稱識別（**推薦**）。\n",
    "    - 採預設值時可以省略不用輸入。"
   ]
  },
  {
   "cell_type": "markdown",
   "metadata": {
    "slideshow": {
     "slide_type": "subslide"
    }
   },
   "source": [
    "## 重點統整（續）\n",
    "\n",
    "R 語言的函數有三個來源：\n",
    "\n",
    "1. 來自 `base`、`stats` 與 `utils` 等預先已載入套件的函數，又被稱為內建函數。\n",
    "2. 來自其他未被預先載入之套件的函數。\n",
    "3. 來自使用者的自行定義。"
   ]
  },
  {
   "cell_type": "markdown",
   "metadata": {
    "slideshow": {
     "slide_type": "subslide"
    }
   },
   "source": [
    "## 重點統整（續）\n",
    "\n",
    "自行定義函數必須要指定五個組成要件：\n",
    "\n",
    "1. 函數名稱 `function_name`。\n",
    "2. 輸入 `INPUTS`。\n",
    "3. 參數 `ARGUMENTS`。\n",
    "4. 函數主體。\n",
    "5. 輸出 `OUTPUTS`。"
   ]
  }
 ],
 "metadata": {
  "celltoolbar": "Slideshow",
  "kernelspec": {
   "display_name": "R",
   "language": "R",
   "name": "ir"
  },
  "language_info": {
   "codemirror_mode": "r",
   "file_extension": ".r",
   "mimetype": "text/x-r-source",
   "name": "R",
   "pygments_lexer": "r",
   "version": "4.0.5"
  }
 },
 "nbformat": 4,
 "nbformat_minor": 2
}
