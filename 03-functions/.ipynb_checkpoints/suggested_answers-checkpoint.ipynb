{
 "cells": [
  {
   "cell_type": "markdown",
   "metadata": {
    "deletable": false,
    "editable": false
   },
   "source": [
    "# R 語言的五十道練習\n",
    "\n",
    "> 函數\n",
    "\n",
    "[數據交點](https://www.datainpoint.com/) | 郭耀仁 <yaojenkuo@datainpoint.com>"
   ]
  },
  {
   "cell_type": "markdown",
   "metadata": {
    "deletable": false,
    "editable": false
   },
   "source": [
    "## 練習題指引\n",
    "\n",
    "- 第一個程式碼儲存格會將可能用得到的套件以及單元測試 `testthat` 載入。\n",
    "- 如果練習題需要載入檔案，檔案與練習題存放在同個資料夾中，意即我們可以指定工作目錄來載入。\n",
    "- 練習題已經定義好函數的名稱以及參數名稱，我們只需要寫作主體。\n",
    "- 函數名稱下面幾行的註解部分是在描述測試如何進行。\n",
    "- 觀察函數名稱下面幾行的註解部分能夠暸解輸入以及預期輸出之間的關係，幫助我們更暸解題目。\n",
    "- 在 `### BEGIN SOLUTION` 與 `### END SOLUTION` 這兩個單行註解之間撰寫函數的主體。\n",
    "- 可以先在 RStudio 寫出跟預期結果相同的程式後再複製貼上到練習題。\n",
    "- 執行測試的方式為點選上方選單的 Kernel -> Restart & Run All -> Restart and Run All Cells。\n",
    "- 可以每寫一題就執行測試，也可以全部寫完再執行測試。\n",
    "- 練習題閒置超過 10 分鐘會自動斷線，這時只要重新點選練習題連結即可重新啟動。"
   ]
  },
  {
   "cell_type": "code",
   "execution_count": 1,
   "metadata": {
    "deletable": false,
    "editable": false
   },
   "outputs": [],
   "source": [
    "library(\"testthat\")"
   ]
  },
  {
   "cell_type": "markdown",
   "metadata": {},
   "source": [
    "## 自行定義函數 `multiply` 能夠回傳兩數相乘的結果。\n",
    "\n",
    "- 預期輸入：兩個數值向量。\n",
    "- 預期輸出：一個數值向量。"
   ]
  },
  {
   "cell_type": "code",
   "execution_count": 2,
   "metadata": {},
   "outputs": [],
   "source": [
    "multiply <- function(a, b) {\n",
    "    # multiply(5, 6)\n",
    "    # 30\n",
    "    # multiply(6, 7)\n",
    "    # 42\n",
    "    # multiply(4, 7)\n",
    "    # 28\n",
    "    ### BEGIN SOLUTION\n",
    "    out <- a * b\n",
    "    return(out)\n",
    "    ### END SOLUTION\n",
    "}"
   ]
  },
  {
   "cell_type": "markdown",
   "metadata": {},
   "source": [
    "## 自行定義函數 `power(a, b)` 能夠回傳以 `a` 為底數、`b` 為指數的結果。\n",
    "\n",
    "- 預期輸入：兩個數值向量。\n",
    "- 預期輸出：一個數值向量。"
   ]
  },
  {
   "cell_type": "code",
   "execution_count": 3,
   "metadata": {},
   "outputs": [],
   "source": [
    "power <- function(a, b) {\n",
    "    # power(3, 2)\n",
    "    # 9\n",
    "    # power(3, 3)\n",
    "    # 27\n",
    "    # power(3, 4)\n",
    "    # 81\n",
    "    ### BEGIN SOLUTION\n",
    "    out <- a**b\n",
    "    return(out)\n",
    "    ### END SOLUTION\n",
    "}"
   ]
  },
  {
   "cell_type": "markdown",
   "metadata": {},
   "source": [
    "## 自行定義函數 `celsius_to_fahrenheit` 能夠將攝氏溫度轉換為華氏溫度。\n",
    "\n",
    "\\begin{equation}\n",
    "Fahrenheit_{(^{\\circ} F)} = Celsius_{(^{\\circ} C)} \\times \\frac{9}{5} + 32\n",
    "\\end{equation}\n",
    "\n",
    "- 預期輸入：一個數值向量。\n",
    "- 預期輸出：一個數值向量。"
   ]
  },
  {
   "cell_type": "code",
   "execution_count": 4,
   "metadata": {},
   "outputs": [],
   "source": [
    "celsius_to_fahrenheit <- function(d) {\n",
    "    # celsius_to_fahrenheit(0)\n",
    "    # 32\n",
    "    # celsius_to_fahrenheit(100)\n",
    "    # 212\n",
    "    ### BEGIN SOLUTION\n",
    "    out <- d*9/5 + 32\n",
    "    return(out)\n",
    "    ### END SOLUTION\n",
    "}"
   ]
  },
  {
   "cell_type": "markdown",
   "metadata": {},
   "source": [
    "## 自行定義函數 `fahrenheit_to_celsius` 能夠將華氏溫度轉換為攝氏溫度。\n",
    "\n",
    "\\begin{equation}\n",
    "Celsius_{(^{\\circ}C)} =  (Fahrenheit_{(^{\\circ}F)} - 32) \\times \\frac{5}{9}\n",
    "\\end{equation}\n",
    "\n",
    "- 預期輸入：一個數值向量。\n",
    "- 預期輸出：一個數值向量。"
   ]
  },
  {
   "cell_type": "code",
   "execution_count": 5,
   "metadata": {},
   "outputs": [],
   "source": [
    "fahrenheit_to_celsius <- function(d) {\n",
    "    # fahrenheit_to_celsius(32)\n",
    "    # 0\n",
    "    # fahrenheit_to_celsius(212)\n",
    "    # 100\n",
    "    ### BEGIN SOLUTION\n",
    "    out <- (d-32)*5/9\n",
    "    return(out)\n",
    "    ### END SOLUTION\n",
    "}"
   ]
  },
  {
   "cell_type": "markdown",
   "metadata": {},
   "source": [
    "## 自行定義函數 `fahrenheit_to_kelvin` 能夠將華氏溫度轉換為絕對溫度。\n",
    "\n",
    "\\begin{equation}\n",
    "Kelvin{(K)} =  (Fahrenheit_{(^{\\circ}F)} - 32) \\times \\frac{5}{9} + 273\n",
    "\\end{equation}\n",
    "\n",
    "- 預期輸入：一個數值向量。\n",
    "- 預期輸出：一個數值向量。"
   ]
  },
  {
   "cell_type": "code",
   "execution_count": 6,
   "metadata": {},
   "outputs": [],
   "source": [
    "fahrenheit_to_kelvin <- function(d) {\n",
    "    # fahrenheit_to_kelvin(32)\n",
    "    # 273\n",
    "    # fahrenheit_to_kelvin(212)\n",
    "    # 373\n",
    "    ### BEGIN SOLUTION\n",
    "    out <- (d-32)*5/9 + 273\n",
    "    return(out)\n",
    "    ### END SOLUTION\n",
    "}"
   ]
  },
  {
   "cell_type": "markdown",
   "metadata": {},
   "source": [
    "## 自行定義函數 `feet_inches_to_cm(a, b)` 能夠將身高為 `a` 呎 `b` 吋的籃球員身高換算為公分單位。\n",
    "\n",
    "\\begin{equation}\n",
    "1 \\, \\text{feet} =  30.48 \\, \\text{cm} \\\\\n",
    "1 \\, \\text{inch} = 2.54 \\, \\text{cm}\n",
    "\\end{equation}\n",
    "\n",
    "- 預期輸入：兩個數值向量。\n",
    "- 預期輸出：一個數值向量。"
   ]
  },
  {
   "cell_type": "code",
   "execution_count": 7,
   "metadata": {},
   "outputs": [],
   "source": [
    "feet_inches_to_cm <- function(a, b) {\n",
    "    # feet_inches_to_cm(6, 7)\n",
    "    # [1] 200.66\n",
    "    # feet_inches_to_cm(6, 8)\n",
    "    # [1] 203.2\n",
    "    # feet_inches_to_cm(6, 9)\n",
    "    # [1] 205.74\n",
    "    ### BEGIN SOLUTION\n",
    "    out <- a * 30.48 + b * 2.54\n",
    "    return(out)\n",
    "    ### END SOLUTION\n",
    "}"
   ]
  },
  {
   "cell_type": "markdown",
   "metadata": {},
   "source": [
    "## 自行定義函數 `say_hello_to_anyone` 對任何輸入的人名說哈囉。\n",
    "\n",
    "- 預期輸入：一個文字向量。\n",
    "- 預期輸出：一個文字向量。"
   ]
  },
  {
   "cell_type": "code",
   "execution_count": 8,
   "metadata": {},
   "outputs": [],
   "source": [
    "say_hello_to_anyone <- function(anyone) {\n",
    "    # say_hello_to_anyone(\"World\")\n",
    "    # \"Hello, World!\"\n",
    "    # say_hello_to_anyone(\"John Doe\")\n",
    "    # \"Hello, John Doe!\"\n",
    "    # say_hello_to_anyone(\"Luke Skywalker\")\n",
    "    # \"Hello, Luke Skywalker!\"\n",
    "    ### BEGIN SOLUTION\n",
    "    hello_msg <- sprintf(\"Hello, %s!\", anyone)\n",
    "    return(hello_msg)\n",
    "    ### END SOLUTION\n",
    "}"
   ]
  },
  {
   "cell_type": "markdown",
   "metadata": {},
   "source": [
    "## 自行定義函數 `is_positive` 判斷輸入的數值是否大於等於零。\n",
    "\n",
    "- 預期輸入：一個數值向量\n",
    "- 預期輸出：一個邏輯向量"
   ]
  },
  {
   "cell_type": "code",
   "execution_count": 9,
   "metadata": {},
   "outputs": [],
   "source": [
    "is_positive <- function(x) {\n",
    "    # is_positive(5566)\n",
    "    # TRUE\n",
    "    # is_positive(0)\n",
    "    # TRUE\n",
    "    # is_positive(-56)\n",
    "    # FALSE\n",
    "    ### BEGIN SOLUTION\n",
    "    return(x >= 0)\n",
    "    ### END SOLUTION\n",
    "}"
   ]
  },
  {
   "cell_type": "markdown",
   "metadata": {},
   "source": [
    "## 自行定義函數 `is_even` 判斷輸入的數值是否為偶數。\n",
    "\n",
    "- 預期輸入：一個數值向量\n",
    "- 預期輸出：一個邏輯向量"
   ]
  },
  {
   "cell_type": "code",
   "execution_count": 10,
   "metadata": {},
   "outputs": [],
   "source": [
    "is_even <- function(x) {\n",
    "    # is_even(0)\n",
    "    # TRUE\n",
    "    # is_even(2)\n",
    "    # TRUE\n",
    "    # is_even(3)\n",
    "    # FALSE\n",
    "    # is_even(5)\n",
    "    # FALSE\n",
    "    ### BEGIN SOLUTION\n",
    "    return(x %% 2 == 0)\n",
    "    ### END SOLUTION\n",
    "}"
   ]
  },
  {
   "cell_type": "markdown",
   "metadata": {},
   "source": [
    "## 自行定義函數 `is_two_digits` 判斷輸入的數值是否介於 10 與 99 之間。\n",
    "\n",
    "- 預期輸入：一個數值向量\n",
    "- 預期輸出：一個邏輯向量"
   ]
  },
  {
   "cell_type": "code",
   "execution_count": 11,
   "metadata": {},
   "outputs": [],
   "source": [
    "is_two_digits <- function(x) {\n",
    "    # is_two_digits(9)\n",
    "    # FALSE\n",
    "    # is_two_digits(100)\n",
    "    # FALSE\n",
    "    # is_two_digits(10)\n",
    "    # TRUE\n",
    "    # is_two_digits(99)\n",
    "    # TRUE\n",
    "    ### BEGIN SOLUTION\n",
    "    condition <- x >= 10 & x <= 99\n",
    "    return(condition)\n",
    "    ### END SOLUTION\n",
    "}"
   ]
  },
  {
   "cell_type": "markdown",
   "metadata": {
    "deletable": false,
    "editable": false
   },
   "source": [
    "## 執行測試\n",
    "\n",
    "Kernel -> Restart & Run All. -> Restart and Run All Cells. "
   ]
  },
  {
   "cell_type": "code",
   "execution_count": 12,
   "metadata": {
    "deletable": false,
    "editable": false
   },
   "outputs": [
    {
     "name": "stdout",
     "output_type": "stream",
     "text": [
      "\u001b[32mTest passed\u001b[39m 🥇\n",
      "\u001b[32mTest passed\u001b[39m 🥇\n",
      "\u001b[32mTest passed\u001b[39m 🥇\n",
      "\u001b[32mTest passed\u001b[39m 🌈\n",
      "\u001b[32mTest passed\u001b[39m 🥳\n",
      "\u001b[32mTest passed\u001b[39m 🎉\n",
      "\u001b[32mTest passed\u001b[39m 😸\n",
      "\u001b[32mTest passed\u001b[39m 🥇\n",
      "\u001b[32mTest passed\u001b[39m 🎉\n",
      "\u001b[32mTest passed\u001b[39m 😀\n"
     ]
    }
   ],
   "source": [
    "test_multiply <- tryCatch({\n",
    "    test_that(\"test_multiply\", {\n",
    "        expect_equal(multiply(5, 6), 30)\n",
    "        expect_equal(multiply(6, 7), 42)\n",
    "        expect_equal(multiply(4, 7), 28)\n",
    "    })\n",
    "    }, error = function(e) {\n",
    "        FALSE\n",
    "})\n",
    "test_power <- tryCatch({\n",
    "    test_that(\"test_power\", {\n",
    "        expect_equal(power(3, 2), 9)\n",
    "        expect_equal(power(3, 3), 27)\n",
    "        expect_equal(power(3, 4), 81)\n",
    "    })\n",
    "    }, error = function(e) {\n",
    "        FALSE\n",
    "})\n",
    "test_celsius_to_fahrenheit <- tryCatch({\n",
    "    test_that(\"test_celsius_to_fahrenheit\", {\n",
    "        expect_equal(celsius_to_fahrenheit(0), 32)\n",
    "        expect_equal(celsius_to_fahrenheit(100), 212)\n",
    "    })\n",
    "    }, error = function(e) {\n",
    "        FALSE\n",
    "})\n",
    "test_fahrenheit_to_celsius <- tryCatch({\n",
    "    test_that(\"test_fahrenheit_to_celsius\", {\n",
    "        expect_equal(fahrenheit_to_celsius(32), 0)\n",
    "        expect_equal(fahrenheit_to_celsius(212), 100)\n",
    "    })\n",
    "    }, error = function(e) {\n",
    "        FALSE\n",
    "})\n",
    "test_fahrenheit_to_kelvin <- tryCatch({\n",
    "    test_that(\"test_fahrenheit_to_kelvin\", {\n",
    "        expect_equal(fahrenheit_to_kelvin(32), 273)\n",
    "        expect_equal(fahrenheit_to_kelvin(212), 373)\n",
    "    })\n",
    "    }, error = function(e) {\n",
    "        FALSE\n",
    "})\n",
    "test_feet_inches_to_cm <- tryCatch({\n",
    "    test_that(\"test_feet_inches_to_cm\", {\n",
    "        expect_true(feet_inches_to_cm(6, 7) > 200)\n",
    "        expect_true(feet_inches_to_cm(6, 8) > 203)\n",
    "        expect_true(feet_inches_to_cm(6, 9) > 205)\n",
    "    })\n",
    "    }, error = function(e) {\n",
    "        FALSE\n",
    "})\n",
    "test_say_hello_to_anyone <- tryCatch({\n",
    "    test_that(\"test_say_hello_to_anyone\", {\n",
    "        expect_equal(say_hello_to_anyone(\"World\"), \"Hello, World!\")\n",
    "        expect_equal(say_hello_to_anyone(\"John Doe\"), \"Hello, John Doe!\")\n",
    "        expect_equal(say_hello_to_anyone(\"Luke Skywalker\"), \"Hello, Luke Skywalker!\")\n",
    "    })\n",
    "    }, error = function(e) {\n",
    "        FALSE\n",
    "})\n",
    "test_is_positive <- tryCatch({\n",
    "    test_that(\"test_is_positive\", {\n",
    "        expect_equal(is_positive(5566), TRUE)\n",
    "        expect_equal(is_positive(0), TRUE)\n",
    "        expect_equal(is_positive(-56), FALSE)\n",
    "    })\n",
    "    }, error = function(e) {\n",
    "        FALSE\n",
    "})\n",
    "test_is_even <- tryCatch({\n",
    "    test_that(\"test_is_even\", {\n",
    "        expect_equal(is_even(0), TRUE)\n",
    "        expect_equal(is_even(2), TRUE)\n",
    "        expect_equal(is_even(3), FALSE)\n",
    "        expect_equal(is_even(5), FALSE)\n",
    "    })\n",
    "    }, error = function(e) {\n",
    "        FALSE\n",
    "})\n",
    "test_is_two_digits <- tryCatch({\n",
    "    test_that(\"test_is_two_digits\", {\n",
    "        expect_equal(is_two_digits(10), TRUE)\n",
    "        expect_equal(is_two_digits(99), TRUE)\n",
    "        expect_equal(is_two_digits(9), FALSE)\n",
    "        expect_equal(is_two_digits(100), FALSE)\n",
    "    })\n",
    "    }, error = function(e) {\n",
    "        FALSE\n",
    "})\n",
    "all_tests <- c(test_multiply,\n",
    "               test_power,\n",
    "               test_celsius_to_fahrenheit,\n",
    "               test_fahrenheit_to_celsius,\n",
    "               test_fahrenheit_to_kelvin,\n",
    "               test_feet_inches_to_cm,\n",
    "               test_say_hello_to_anyone,\n",
    "               test_is_positive,\n",
    "               test_is_even,\n",
    "               test_is_two_digits\n",
    "              )\n",
    "passed_tests <- sum(all_tests)"
   ]
  },
  {
   "cell_type": "code",
   "execution_count": 13,
   "metadata": {
    "deletable": false,
    "editable": false
   },
   "outputs": [
    {
     "data": {
      "text/html": [
       "'在 10 題練習中，您總共答對了 10 題。'"
      ],
      "text/latex": [
       "'在 10 題練習中，您總共答對了 10 題。'"
      ],
      "text/markdown": [
       "'在 10 題練習中，您總共答對了 10 題。'"
      ],
      "text/plain": [
       "[1] \"在 10 題練習中，您總共答對了 10 題。\""
      ]
     },
     "metadata": {},
     "output_type": "display_data"
    }
   ],
   "source": [
    "sprintf(\"在 %s 題練習中，您總共答對了 %s 題。\", length(all_tests), passed_tests)"
   ]
  }
 ],
 "metadata": {
  "kernelspec": {
   "display_name": "R",
   "language": "R",
   "name": "ir"
  },
  "language_info": {
   "codemirror_mode": "r",
   "file_extension": ".r",
   "mimetype": "text/x-r-source",
   "name": "R",
   "pygments_lexer": "r",
   "version": "4.0.5"
  }
 },
 "nbformat": 4,
 "nbformat_minor": 4
}
